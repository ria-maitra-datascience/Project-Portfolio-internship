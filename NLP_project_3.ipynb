{
  "nbformat": 4,
  "nbformat_minor": 0,
  "metadata": {
    "colab": {
      "name": "NLP_project-3",
      "provenance": [],
      "collapsed_sections": [],
      "mount_file_id": "1Ofm34TLtqp4nxsxe9foHB7gsvWW_CrMA",
      "authorship_tag": "ABX9TyP0oWAXyMeEEAr6h0yo6hqX",
      "include_colab_link": true
    },
    "kernelspec": {
      "name": "python3",
      "display_name": "Python 3"
    }
  },
  "cells": [
    {
      "cell_type": "markdown",
      "metadata": {
        "id": "view-in-github",
        "colab_type": "text"
      },
      "source": [
        "<a href=\"https://colab.research.google.com/github/ria1994maitra/hello-world/blob/master/NLP_project_3.ipynb\" target=\"_parent\"><img src=\"https://colab.research.google.com/assets/colab-badge.svg\" alt=\"Open In Colab\"/></a>"
      ]
    },
    {
      "cell_type": "code",
      "metadata": {
        "id": "aiW5sQuM2x_5",
        "colab_type": "code",
        "colab": {}
      },
      "source": [
        "#download news group data set from sklearn\n",
        "from sklearn.datasets import fetch_20newsgroups"
      ],
      "execution_count": 47,
      "outputs": []
    },
    {
      "cell_type": "code",
      "metadata": {
        "id": "OmBcjgI75YIk",
        "colab_type": "code",
        "colab": {}
      },
      "source": [
        "#Separating train and test data\n",
        "tm_train = fetch_20newsgroups(subset = 'train',shuffle = True)\n",
        "tm_test = fetch_20newsgroups(subset = 'test' ,shuffle = True)"
      ],
      "execution_count": 48,
      "outputs": []
    },
    {
      "cell_type": "code",
      "metadata": {
        "id": "nyYm1va_65_l",
        "colab_type": "code",
        "colab": {
          "base_uri": "https://localhost:8080/",
          "height": 55
        },
        "outputId": "835df0c0-6ae9-48f2-857c-d5046f423e84"
      },
      "source": [
        "#Checking feature names\n",
        "print(list(tm_train.target_names))"
      ],
      "execution_count": 49,
      "outputs": [
        {
          "output_type": "stream",
          "text": [
            "['alt.atheism', 'comp.graphics', 'comp.os.ms-windows.misc', 'comp.sys.ibm.pc.hardware', 'comp.sys.mac.hardware', 'comp.windows.x', 'misc.forsale', 'rec.autos', 'rec.motorcycles', 'rec.sport.baseball', 'rec.sport.hockey', 'sci.crypt', 'sci.electronics', 'sci.med', 'sci.space', 'soc.religion.christian', 'talk.politics.guns', 'talk.politics.mideast', 'talk.politics.misc', 'talk.religion.misc']\n"
          ],
          "name": "stdout"
        }
      ]
    },
    {
      "cell_type": "code",
      "metadata": {
        "id": "ygZtH6jV7fnb",
        "colab_type": "code",
        "colab": {}
      },
      "source": [
        "#Various news from 20 different topics are present."
      ],
      "execution_count": 50,
      "outputs": []
    },
    {
      "cell_type": "code",
      "metadata": {
        "id": "W0U8TAup7s6V",
        "colab_type": "code",
        "colab": {
          "base_uri": "https://localhost:8080/",
          "height": 91
        },
        "outputId": "4f1a4f08-b81e-4519-b1b0-2e1b006078b1"
      },
      "source": [
        "#Checking news from 3 documents\n",
        "tm_train.data[:3]"
      ],
      "execution_count": 51,
      "outputs": [
        {
          "output_type": "execute_result",
          "data": {
            "text/plain": [
              "[\"From: lerxst@wam.umd.edu (where's my thing)\\nSubject: WHAT car is this!?\\nNntp-Posting-Host: rac3.wam.umd.edu\\nOrganization: University of Maryland, College Park\\nLines: 15\\n\\n I was wondering if anyone out there could enlighten me on this car I saw\\nthe other day. It was a 2-door sports car, looked to be from the late 60s/\\nearly 70s. It was called a Bricklin. The doors were really small. In addition,\\nthe front bumper was separate from the rest of the body. This is \\nall I know. If anyone can tellme a model name, engine specs, years\\nof production, where this car is made, history, or whatever info you\\nhave on this funky looking car, please e-mail.\\n\\nThanks,\\n- IL\\n   ---- brought to you by your neighborhood Lerxst ----\\n\\n\\n\\n\\n\",\n",
              " \"From: guykuo@carson.u.washington.edu (Guy Kuo)\\nSubject: SI Clock Poll - Final Call\\nSummary: Final call for SI clock reports\\nKeywords: SI,acceleration,clock,upgrade\\nArticle-I.D.: shelley.1qvfo9INNc3s\\nOrganization: University of Washington\\nLines: 11\\nNNTP-Posting-Host: carson.u.washington.edu\\n\\nA fair number of brave souls who upgraded their SI clock oscillator have\\nshared their experiences for this poll. Please send a brief message detailing\\nyour experiences with the procedure. Top speed attained, CPU rated speed,\\nadd on cards and adapters, heat sinks, hour of usage per day, floppy disk\\nfunctionality with 800 and 1.4 m floppies are especially requested.\\n\\nI will be summarizing in the next two days, so please add to the network\\nknowledge base if you have done the clock upgrade and haven't answered this\\npoll. Thanks.\\n\\nGuy Kuo <guykuo@u.washington.edu>\\n\",\n",
              " 'From: twillis@ec.ecn.purdue.edu (Thomas E Willis)\\nSubject: PB questions...\\nOrganization: Purdue University Engineering Computer Network\\nDistribution: usa\\nLines: 36\\n\\nwell folks, my mac plus finally gave up the ghost this weekend after\\nstarting life as a 512k way back in 1985.  sooo, i\\'m in the market for a\\nnew machine a bit sooner than i intended to be...\\n\\ni\\'m looking into picking up a powerbook 160 or maybe 180 and have a bunch\\nof questions that (hopefully) somebody can answer:\\n\\n* does anybody know any dirt on when the next round of powerbook\\nintroductions are expected?  i\\'d heard the 185c was supposed to make an\\nappearence \"this summer\" but haven\\'t heard anymore on it - and since i\\ndon\\'t have access to macleak, i was wondering if anybody out there had\\nmore info...\\n\\n* has anybody heard rumors about price drops to the powerbook line like the\\nones the duo\\'s just went through recently?\\n\\n* what\\'s the impression of the display on the 180?  i could probably swing\\na 180 if i got the 80Mb disk rather than the 120, but i don\\'t really have\\na feel for how much \"better\" the display is (yea, it looks great in the\\nstore, but is that all \"wow\" or is it really that good?).  could i solicit\\nsome opinions of people who use the 160 and 180 day-to-day on if its worth\\ntaking the disk size and money hit to get the active display?  (i realize\\nthis is a real subjective question, but i\\'ve only played around with the\\nmachines in a computer store breifly and figured the opinions of somebody\\nwho actually uses the machine daily might prove helpful).\\n\\n* how well does hellcats perform?  ;)\\n\\nthanks a bunch in advance for any info - if you could email, i\\'ll post a\\nsummary (news reading time is at a premium with finals just around the\\ncorner... :( )\\n--\\nTom Willis  \\\\  twillis@ecn.purdue.edu    \\\\    Purdue Electrical Engineering\\n---------------------------------------------------------------------------\\n\"Convictions are more dangerous enemies of truth than lies.\"  - F. W.\\nNietzsche\\n']"
            ]
          },
          "metadata": {
            "tags": []
          },
          "execution_count": 51
        }
      ]
    },
    {
      "cell_type": "code",
      "metadata": {
        "id": "Ab3AD5zZ8I1F",
        "colab_type": "code",
        "colab": {
          "base_uri": "https://localhost:8080/",
          "height": 35
        },
        "outputId": "8f1d7e13-a72f-460b-d2e1-d88b0f2d207c"
      },
      "source": [
        "#Checking the shape of our train data set\n",
        "print(tm_train.filenames.shape,tm_train.target.shape)"
      ],
      "execution_count": 52,
      "outputs": [
        {
          "output_type": "stream",
          "text": [
            "(11314,) (11314,)\n"
          ],
          "name": "stdout"
        }
      ]
    },
    {
      "cell_type": "code",
      "metadata": {
        "id": "3NH3M21n8v7O",
        "colab_type": "code",
        "colab": {
          "base_uri": "https://localhost:8080/",
          "height": 397
        },
        "outputId": "29b59947-7a59-46cf-fa03-c15c7c61eb20"
      },
      "source": [
        "#Proceeding towards data preprocessing\n",
        "#Importing required libraries\n",
        "\n",
        "!pip install gensim\n",
        "import gensim\n",
        "\n",
        "#Converts into tokens (Alternative to word_tokenize)\n",
        "\n",
        "from gensim.utils import simple_preprocess\n",
        "from gensim.parsing.preprocessing import STOPWORDS\n",
        "from nltk.stem import WordNetLemmatizer, SnowballStemmer\n",
        "import numpy as np\n",
        "np.random.seed(400)\n",
        "\n",
        "import nltk\n",
        "nltk.download('wordnet')\n"
      ],
      "execution_count": 53,
      "outputs": [
        {
          "output_type": "stream",
          "text": [
            "Requirement already satisfied: gensim in /usr/local/lib/python3.6/dist-packages (3.6.0)\n",
            "Requirement already satisfied: smart-open>=1.2.1 in /usr/local/lib/python3.6/dist-packages (from gensim) (2.1.1)\n",
            "Requirement already satisfied: scipy>=0.18.1 in /usr/local/lib/python3.6/dist-packages (from gensim) (1.4.1)\n",
            "Requirement already satisfied: six>=1.5.0 in /usr/local/lib/python3.6/dist-packages (from gensim) (1.15.0)\n",
            "Requirement already satisfied: numpy>=1.11.3 in /usr/local/lib/python3.6/dist-packages (from gensim) (1.18.5)\n",
            "Requirement already satisfied: requests in /usr/local/lib/python3.6/dist-packages (from smart-open>=1.2.1->gensim) (2.23.0)\n",
            "Requirement already satisfied: boto in /usr/local/lib/python3.6/dist-packages (from smart-open>=1.2.1->gensim) (2.49.0)\n",
            "Requirement already satisfied: boto3 in /usr/local/lib/python3.6/dist-packages (from smart-open>=1.2.1->gensim) (1.14.63)\n",
            "Requirement already satisfied: idna<3,>=2.5 in /usr/local/lib/python3.6/dist-packages (from requests->smart-open>=1.2.1->gensim) (2.10)\n",
            "Requirement already satisfied: urllib3!=1.25.0,!=1.25.1,<1.26,>=1.21.1 in /usr/local/lib/python3.6/dist-packages (from requests->smart-open>=1.2.1->gensim) (1.24.3)\n",
            "Requirement already satisfied: chardet<4,>=3.0.2 in /usr/local/lib/python3.6/dist-packages (from requests->smart-open>=1.2.1->gensim) (3.0.4)\n",
            "Requirement already satisfied: certifi>=2017.4.17 in /usr/local/lib/python3.6/dist-packages (from requests->smart-open>=1.2.1->gensim) (2020.6.20)\n",
            "Requirement already satisfied: s3transfer<0.4.0,>=0.3.0 in /usr/local/lib/python3.6/dist-packages (from boto3->smart-open>=1.2.1->gensim) (0.3.3)\n",
            "Requirement already satisfied: botocore<1.18.0,>=1.17.63 in /usr/local/lib/python3.6/dist-packages (from boto3->smart-open>=1.2.1->gensim) (1.17.63)\n",
            "Requirement already satisfied: jmespath<1.0.0,>=0.7.1 in /usr/local/lib/python3.6/dist-packages (from boto3->smart-open>=1.2.1->gensim) (0.10.0)\n",
            "Requirement already satisfied: docutils<0.16,>=0.10 in /usr/local/lib/python3.6/dist-packages (from botocore<1.18.0,>=1.17.63->boto3->smart-open>=1.2.1->gensim) (0.15.2)\n",
            "Requirement already satisfied: python-dateutil<3.0.0,>=2.1 in /usr/local/lib/python3.6/dist-packages (from botocore<1.18.0,>=1.17.63->boto3->smart-open>=1.2.1->gensim) (2.8.1)\n",
            "[nltk_data] Downloading package wordnet to /root/nltk_data...\n",
            "[nltk_data]   Package wordnet is already up-to-date!\n"
          ],
          "name": "stdout"
        },
        {
          "output_type": "execute_result",
          "data": {
            "text/plain": [
              "True"
            ]
          },
          "metadata": {
            "tags": []
          },
          "execution_count": 53
        }
      ]
    },
    {
      "cell_type": "code",
      "metadata": {
        "id": "WhSMKLhmARvk",
        "colab_type": "code",
        "colab": {}
      },
      "source": [
        "#Lemmatizing and Stemming the train data with the help of function\n",
        "\n",
        "def lemmatize_stemming(text):\n",
        "  return SnowballStemmer(\"english\").stem(WordNetLemmatizer().lemmatize(text,pos='v'))\n",
        "\n",
        "#Removing stopwords and tokenizing them\n",
        "def preprocess(text):\n",
        "  result=[]\n",
        "  for token in gensim.utils.simple_preprocess(text):\n",
        "    if token not in gensim.parsing.preprocessing.STOPWORDS and len(token)>3:\n",
        "      result.append(lemmatize_stemming(token))\n",
        "\n",
        "  return result\n",
        "\n",
        "\n"
      ],
      "execution_count": 54,
      "outputs": []
    },
    {
      "cell_type": "code",
      "metadata": {
        "id": "AaMMbVbyDwrt",
        "colab_type": "code",
        "colab": {
          "base_uri": "https://localhost:8080/",
          "height": 145
        },
        "outputId": "565cfd17-22ed-4e63-ff7d-8de5434a6391"
      },
      "source": [
        "#Testing the above function\n",
        "doc_sample = 'I am so unlucky, my laptop started updating just in the last date of project submission.'\n",
        "\n",
        "print(\"Original document:\")\n",
        "words= []\n",
        "for word in doc_sample.split(' '):\n",
        "  words.append(word)\n",
        "print(words)\n",
        "print(\"\\n\\nTokenized and lemmatized document:\")\n",
        "print(preprocess(doc_sample))"
      ],
      "execution_count": 55,
      "outputs": [
        {
          "output_type": "stream",
          "text": [
            "Original document:\n",
            "['I', 'am', 'so', 'unlucky,', 'my', 'laptop', 'started', 'updating', 'just', 'in', 'the', 'last', 'date', 'of', 'project', 'submission.']\n",
            "\n",
            "\n",
            "Tokenized and lemmatized document:\n",
            "['unlucki', 'laptop', 'start', 'updat', 'date', 'project', 'submiss']\n"
          ],
          "name": "stdout"
        }
      ]
    },
    {
      "cell_type": "code",
      "metadata": {
        "id": "_sHzuHxkFSOg",
        "colab_type": "code",
        "colab": {}
      },
      "source": [
        "processed_docs =[]\n",
        "\n",
        "for doc in tm_train.data:\n",
        "  processed_docs.append(preprocess(doc))"
      ],
      "execution_count": 56,
      "outputs": []
    },
    {
      "cell_type": "code",
      "metadata": {
        "id": "tWYLSpHMJp53",
        "colab_type": "code",
        "colab": {
          "base_uri": "https://localhost:8080/",
          "height": 35
        },
        "outputId": "0ae549ad-d93b-4b41-a42f-d58ae436c13a"
      },
      "source": [
        "#Checking the length of data\n",
        "len(processed_docs)"
      ],
      "execution_count": 57,
      "outputs": [
        {
          "output_type": "execute_result",
          "data": {
            "text/plain": [
              "11314"
            ]
          },
          "metadata": {
            "tags": []
          },
          "execution_count": 57
        }
      ]
    },
    {
      "cell_type": "code",
      "metadata": {
        "id": "9K5ftEXFJ6_P",
        "colab_type": "code",
        "colab": {
          "base_uri": "https://localhost:8080/",
          "height": 1000
        },
        "outputId": "167fcd88-9232-4dd9-dab9-f57e15b35287"
      },
      "source": [
        "#Having a glimse of the data\n",
        "processed_docs[:3]"
      ],
      "execution_count": 58,
      "outputs": [
        {
          "output_type": "execute_result",
          "data": {
            "text/plain": [
              "[['lerxst',\n",
              "  'thing',\n",
              "  'subject',\n",
              "  'nntp',\n",
              "  'post',\n",
              "  'host',\n",
              "  'organ',\n",
              "  'univers',\n",
              "  'maryland',\n",
              "  'colleg',\n",
              "  'park',\n",
              "  'line',\n",
              "  'wonder',\n",
              "  'enlighten',\n",
              "  'door',\n",
              "  'sport',\n",
              "  'look',\n",
              "  'late',\n",
              "  'earli',\n",
              "  'call',\n",
              "  'bricklin',\n",
              "  'door',\n",
              "  'small',\n",
              "  'addit',\n",
              "  'bumper',\n",
              "  'separ',\n",
              "  'rest',\n",
              "  'bodi',\n",
              "  'know',\n",
              "  'tellm',\n",
              "  'model',\n",
              "  'engin',\n",
              "  'spec',\n",
              "  'year',\n",
              "  'product',\n",
              "  'histori',\n",
              "  'info',\n",
              "  'funki',\n",
              "  'look',\n",
              "  'mail',\n",
              "  'thank',\n",
              "  'bring',\n",
              "  'neighborhood',\n",
              "  'lerxst'],\n",
              " ['guykuo',\n",
              "  'carson',\n",
              "  'washington',\n",
              "  'subject',\n",
              "  'clock',\n",
              "  'poll',\n",
              "  'final',\n",
              "  'summari',\n",
              "  'final',\n",
              "  'clock',\n",
              "  'report',\n",
              "  'keyword',\n",
              "  'acceler',\n",
              "  'clock',\n",
              "  'upgrad',\n",
              "  'articl',\n",
              "  'shelley',\n",
              "  'qvfo',\n",
              "  'innc',\n",
              "  'organ',\n",
              "  'univers',\n",
              "  'washington',\n",
              "  'line',\n",
              "  'nntp',\n",
              "  'post',\n",
              "  'host',\n",
              "  'carson',\n",
              "  'washington',\n",
              "  'fair',\n",
              "  'number',\n",
              "  'brave',\n",
              "  'soul',\n",
              "  'upgrad',\n",
              "  'clock',\n",
              "  'oscil',\n",
              "  'share',\n",
              "  'experi',\n",
              "  'poll',\n",
              "  'send',\n",
              "  'brief',\n",
              "  'messag',\n",
              "  'detail',\n",
              "  'experi',\n",
              "  'procedur',\n",
              "  'speed',\n",
              "  'attain',\n",
              "  'rat',\n",
              "  'speed',\n",
              "  'card',\n",
              "  'adapt',\n",
              "  'heat',\n",
              "  'sink',\n",
              "  'hour',\n",
              "  'usag',\n",
              "  'floppi',\n",
              "  'disk',\n",
              "  'function',\n",
              "  'floppi',\n",
              "  'especi',\n",
              "  'request',\n",
              "  'summar',\n",
              "  'day',\n",
              "  'network',\n",
              "  'knowledg',\n",
              "  'base',\n",
              "  'clock',\n",
              "  'upgrad',\n",
              "  'haven',\n",
              "  'answer',\n",
              "  'poll',\n",
              "  'thank',\n",
              "  'guykuo',\n",
              "  'washington'],\n",
              " ['twilli',\n",
              "  'purdu',\n",
              "  'thoma',\n",
              "  'willi',\n",
              "  'subject',\n",
              "  'question',\n",
              "  'organ',\n",
              "  'purdu',\n",
              "  'univers',\n",
              "  'engin',\n",
              "  'network',\n",
              "  'distribut',\n",
              "  'line',\n",
              "  'folk',\n",
              "  'plus',\n",
              "  'final',\n",
              "  'give',\n",
              "  'ghost',\n",
              "  'weekend',\n",
              "  'start',\n",
              "  'life',\n",
              "  'sooo',\n",
              "  'market',\n",
              "  'machin',\n",
              "  'sooner',\n",
              "  'intend',\n",
              "  'look',\n",
              "  'pick',\n",
              "  'powerbook',\n",
              "  'mayb',\n",
              "  'bunch',\n",
              "  'question',\n",
              "  'hope',\n",
              "  'somebodi',\n",
              "  'answer',\n",
              "  'anybodi',\n",
              "  'know',\n",
              "  'dirt',\n",
              "  'round',\n",
              "  'powerbook',\n",
              "  'introduct',\n",
              "  'expect',\n",
              "  'hear',\n",
              "  'suppos',\n",
              "  'appear',\n",
              "  'summer',\n",
              "  'haven',\n",
              "  'hear',\n",
              "  'anymor',\n",
              "  'access',\n",
              "  'macleak',\n",
              "  'wonder',\n",
              "  'anybodi',\n",
              "  'info',\n",
              "  'anybodi',\n",
              "  'hear',\n",
              "  'rumor',\n",
              "  'price',\n",
              "  'drop',\n",
              "  'powerbook',\n",
              "  'line',\n",
              "  'like',\n",
              "  'one',\n",
              "  'go',\n",
              "  'recent',\n",
              "  'impress',\n",
              "  'display',\n",
              "  'probabl',\n",
              "  'swing',\n",
              "  'disk',\n",
              "  'feel',\n",
              "  'better',\n",
              "  'display',\n",
              "  'look',\n",
              "  'great',\n",
              "  'store',\n",
              "  'good',\n",
              "  'solicit',\n",
              "  'opinion',\n",
              "  'peopl',\n",
              "  'worth',\n",
              "  'take',\n",
              "  'disk',\n",
              "  'size',\n",
              "  'money',\n",
              "  'activ',\n",
              "  'display',\n",
              "  'realiz',\n",
              "  'real',\n",
              "  'subject',\n",
              "  'question',\n",
              "  'play',\n",
              "  'machin',\n",
              "  'store',\n",
              "  'breifli',\n",
              "  'figur',\n",
              "  'opinion',\n",
              "  'somebodi',\n",
              "  'actual',\n",
              "  'use',\n",
              "  'machin',\n",
              "  'daili',\n",
              "  'prove',\n",
              "  'help',\n",
              "  'hellcat',\n",
              "  'perform',\n",
              "  'thank',\n",
              "  'bunch',\n",
              "  'advanc',\n",
              "  'info',\n",
              "  'email',\n",
              "  'post',\n",
              "  'summari',\n",
              "  'news',\n",
              "  'read',\n",
              "  'time',\n",
              "  'premium',\n",
              "  'final',\n",
              "  'corner',\n",
              "  'willi',\n",
              "  'twilli',\n",
              "  'purdu',\n",
              "  'purdu',\n",
              "  'electr',\n",
              "  'engin',\n",
              "  'convict',\n",
              "  'danger',\n",
              "  'enemi',\n",
              "  'truth',\n",
              "  'lie',\n",
              "  'nietzsch']]"
            ]
          },
          "metadata": {
            "tags": []
          },
          "execution_count": 58
        }
      ]
    },
    {
      "cell_type": "code",
      "metadata": {
        "id": "n3-ietDVKMsD",
        "colab_type": "code",
        "colab": {}
      },
      "source": [
        "#Bag of words on the dataset\n",
        "dictionary = gensim.corpora.Dictionary(processed_docs)"
      ],
      "execution_count": 59,
      "outputs": []
    },
    {
      "cell_type": "code",
      "metadata": {
        "id": "MiSrOSb2Ki9T",
        "colab_type": "code",
        "colab": {
          "base_uri": "https://localhost:8080/",
          "height": 35
        },
        "outputId": "920b3b47-471b-4113-e9c6-64eaab118e06"
      },
      "source": [
        "print(dictionary)"
      ],
      "execution_count": 60,
      "outputs": [
        {
          "output_type": "stream",
          "text": [
            "Dictionary(61411 unique tokens: ['addit', 'bodi', 'bricklin', 'bring', 'bumper']...)\n"
          ],
          "name": "stdout"
        }
      ]
    },
    {
      "cell_type": "code",
      "metadata": {
        "id": "hVeI5fWpLpVV",
        "colab_type": "code",
        "colab": {
          "base_uri": "https://localhost:8080/",
          "height": 395
        },
        "outputId": "17795a4b-fe2c-47c4-9837-e172da3f2e5f"
      },
      "source": [
        "#Checking the dictinary\n",
        "count = 0\n",
        "for k,v in dictionary.iteritems():\n",
        "  print(k,v)\n",
        "  count +=1\n",
        "  if count>20:\n",
        "    break\n"
      ],
      "execution_count": 61,
      "outputs": [
        {
          "output_type": "stream",
          "text": [
            "0 addit\n",
            "1 bodi\n",
            "2 bricklin\n",
            "3 bring\n",
            "4 bumper\n",
            "5 call\n",
            "6 colleg\n",
            "7 door\n",
            "8 earli\n",
            "9 engin\n",
            "10 enlighten\n",
            "11 funki\n",
            "12 histori\n",
            "13 host\n",
            "14 info\n",
            "15 know\n",
            "16 late\n",
            "17 lerxst\n",
            "18 line\n",
            "19 look\n",
            "20 mail\n"
          ],
          "name": "stdout"
        }
      ]
    },
    {
      "cell_type": "code",
      "metadata": {
        "id": "maMttPyTLs20",
        "colab_type": "code",
        "colab": {}
      },
      "source": [
        "#Removing rare and repeatative words\n",
        "dictionary.filter_extremes(no_below=15,no_above=0.1,keep_n=100000)"
      ],
      "execution_count": 62,
      "outputs": []
    },
    {
      "cell_type": "code",
      "metadata": {
        "id": "SjiqOgSvN2oS",
        "colab_type": "code",
        "colab": {
          "base_uri": "https://localhost:8080/",
          "height": 449
        },
        "outputId": "e3ad3b4a-8817-4fbc-a420-e3d4698e10bb"
      },
      "source": [
        "bow_corpus= [dictionary.doc2bow(doc) for doc in processed_docs]\n",
        "bow_corpus[0]"
      ],
      "execution_count": 63,
      "outputs": [
        {
          "output_type": "execute_result",
          "data": {
            "text/plain": [
              "[(0, 1),\n",
              " (1, 1),\n",
              " (2, 1),\n",
              " (3, 1),\n",
              " (4, 1),\n",
              " (5, 1),\n",
              " (6, 2),\n",
              " (7, 1),\n",
              " (8, 1),\n",
              " (9, 1),\n",
              " (10, 1),\n",
              " (11, 1),\n",
              " (12, 1),\n",
              " (13, 1),\n",
              " (14, 1),\n",
              " (15, 1),\n",
              " (16, 1),\n",
              " (17, 1),\n",
              " (18, 1),\n",
              " (19, 1),\n",
              " (20, 1),\n",
              " (21, 1),\n",
              " (22, 1),\n",
              " (23, 1)]"
            ]
          },
          "metadata": {
            "tags": []
          },
          "execution_count": 63
        }
      ]
    },
    {
      "cell_type": "code",
      "metadata": {
        "id": "fKfu1IRPO0Wo",
        "colab_type": "code",
        "colab": {
          "base_uri": "https://localhost:8080/",
          "height": 557
        },
        "outputId": "bfdd917b-8af7-4daa-bac9-27ecded36e22"
      },
      "source": [
        "#preview\n",
        "document_num =10\n",
        "bow_doc_x = bow_corpus[document_num]\n",
        "\n",
        "for i in range(len(bow_doc_x)):\n",
        "  print(\"Word {} (\\\"{}\\\") appears {} time.\". format(bow_doc_x[i][0],\n",
        "                                                    dictionary[bow_doc_x[i][0]],\n",
        "                                                    bow_doc_x[i][1]))"
      ],
      "execution_count": 64,
      "outputs": [
        {
          "output_type": "stream",
          "text": [
            "Word 14 (\"model\") appears 1 time.\n",
            "Word 33 (\"clock\") appears 1 time.\n",
            "Word 46 (\"keyword\") appears 1 time.\n",
            "Word 63 (\"summari\") appears 1 time.\n",
            "Word 83 (\"email\") appears 1 time.\n",
            "Word 101 (\"opinion\") appears 1 time.\n",
            "Word 130 (\"worth\") appears 1 time.\n",
            "Word 146 (\"nice\") appears 1 time.\n",
            "Word 227 (\"hard\") appears 1 time.\n",
            "Word 385 (\"owner\") appears 1 time.\n",
            "Word 399 (\"axi\") appears 1 time.\n",
            "Word 400 (\"beemer\") appears 1 time.\n",
            "Word 401 (\"bike\") appears 2 time.\n",
            "Word 402 (\"brown\") appears 1 time.\n",
            "Word 403 (\"ducati\") appears 2 time.\n",
            "Word 404 (\"expir\") appears 1 time.\n",
            "Word 405 (\"fade\") appears 1 time.\n",
            "Word 406 (\"leak\") appears 2 time.\n",
            "Word 407 (\"lonestar\") appears 2 time.\n",
            "Word 408 (\"motor\") appears 1 time.\n",
            "Word 409 (\"orang\") appears 1 time.\n",
            "Word 410 (\"paint\") appears 1 time.\n",
            "Word 411 (\"pop\") appears 1 time.\n",
            "Word 412 (\"recommend\") appears 1 time.\n",
            "Word 413 (\"richardson\") appears 2 time.\n",
            "Word 414 (\"run\") appears 1 time.\n",
            "Word 415 (\"sell\") appears 1 time.\n",
            "Word 416 (\"shop\") appears 1 time.\n",
            "Word 417 (\"stabl\") appears 1 time.\n",
            "Word 418 (\"tran\") appears 1 time.\n"
          ],
          "name": "stdout"
        }
      ]
    },
    {
      "cell_type": "code",
      "metadata": {
        "id": "qM5KHav6RALw",
        "colab_type": "code",
        "colab": {}
      },
      "source": [
        "lda_model = gensim.models.LdaMulticore(bow_corpus,num_topics = 10,\n",
        "                                       id2word = dictionary,\n",
        "                                       passes =10,\n",
        "                                       workers=2)\n"
      ],
      "execution_count": 65,
      "outputs": []
    },
    {
      "cell_type": "code",
      "metadata": {
        "id": "P7_1qQFYSEaU",
        "colab_type": "code",
        "colab": {
          "base_uri": "https://localhost:8080/",
          "height": 539
        },
        "outputId": "2ccf933e-f652-4c2b-d9be-bf3d64745829"
      },
      "source": [
        "num=18\n",
        "unseen_document = tm_test.data[num]\n",
        "print(unseen_document)"
      ],
      "execution_count": 69,
      "outputs": [
        {
          "output_type": "stream",
          "text": [
            "From: Mike Diack <mike-d@staff.tc.umn.edu>\n",
            "Subject: Re: Electronic Components etc\n",
            "X-Xxmessage-Id: <A7FD05D0F6016515@dialup-slip-1-21.gw.umn.edu>\n",
            "X-Xxdate: Fri, 23 Apr 93 02:32:48 GMT\n",
            "Nntp-Posting-Host: dialup-slip-1-21.gw.umn.edu\n",
            "Organization: persian cat & carpet co.\n",
            "X-Useragent: Nuntius v1.1.1d7\n",
            "Lines: 19\n",
            "\n",
            "I said\n",
            ">Cipher tape drives\t\t\t\t$10.00 \n",
            "what a SILLY boy i was, now i have zillions of messages like\n",
            "\"does that include shipping\" \t\t\n",
            "\"is it scsi\"\n",
            "\"what rom version is it\"\n",
            "\"will it work on a maximegalon gargantuabrain 9000\"\n",
            "ok, the deal is this - if you live in the twin cities, email me, and set\n",
            "up a time, sure, you can drop round and grab one for a tenner.\n",
            "Else\n",
            "Min order $20 (2 drives) + shipping. No guarantees they are good for\n",
            "any purpose at all (they look newish & clean), no technical\n",
            "negotiations. They are model 525 floppytape, part # 960273-639\n",
            "revision D. 17 pin floppy style connector on the back\n",
            "Else\n",
            "They go in the bin - life is too short for extended negotiations over\n",
            "$10 items :-)\n",
            "cheers\n",
            "Mike.\n",
            "\n"
          ],
          "name": "stdout"
        }
      ]
    },
    {
      "cell_type": "code",
      "metadata": {
        "id": "0we7T7E1Se7J",
        "colab_type": "code",
        "colab": {
          "base_uri": "https://localhost:8080/",
          "height": 109
        },
        "outputId": "5ba2ae51-abdb-42ae-bec1-966dde51ceb1"
      },
      "source": [
        "bow_vector = dictionary.doc2bow(preprocess(unseen_document))\n",
        "\n",
        "for index,score in sorted( lda_model[bow_vector]):\n",
        "  print(\"Score: {}\\t Topic: {}\".format(score, lda_model.print_topic(index,40)))\n"
      ],
      "execution_count": 70,
      "outputs": [
        {
          "output_type": "stream",
          "text": [
            "Score: 0.08351480215787888\t Topic: 0.018*\"game\" + 0.015*\"team\" + 0.010*\"play\" + 0.010*\"player\" + 0.007*\"season\" + 0.007*\"hockey\" + 0.005*\"leagu\" + 0.005*\"score\" + 0.005*\"bike\" + 0.004*\"basebal\" + 0.004*\"divis\" + 0.004*\"andrew\" + 0.003*\"run\" + 0.003*\"best\" + 0.003*\"mike\" + 0.003*\"lose\" + 0.003*\"defens\" + 0.003*\"roger\" + 0.003*\"goal\" + 0.003*\"leav\" + 0.003*\"playoff\" + 0.003*\"virginia\" + 0.003*\"motorcycl\" + 0.003*\"pitch\" + 0.003*\"win\" + 0.003*\"second\" + 0.003*\"john\" + 0.003*\"pick\" + 0.003*\"pittsburgh\" + 0.003*\"sport\" + 0.002*\"final\" + 0.002*\"list\" + 0.002*\"home\" + 0.002*\"blue\" + 0.002*\"mark\" + 0.002*\"trade\" + 0.002*\"dave\" + 0.002*\"boston\" + 0.002*\"david\" + 0.002*\"fan\"\n",
            "Score: 0.06993193924427032\t Topic: 0.012*\"encrypt\" + 0.011*\"govern\" + 0.010*\"israel\" + 0.010*\"secur\" + 0.010*\"chip\" + 0.009*\"isra\" + 0.008*\"clipper\" + 0.006*\"public\" + 0.006*\"key\" + 0.005*\"arab\" + 0.005*\"escrow\" + 0.004*\"protect\" + 0.004*\"privaci\" + 0.004*\"phone\" + 0.004*\"technolog\" + 0.004*\"attack\" + 0.004*\"polici\" + 0.004*\"secret\" + 0.004*\"netcom\" + 0.003*\"enforc\" + 0.003*\"communic\" + 0.003*\"american\" + 0.003*\"messag\" + 0.003*\"algorithm\" + 0.003*\"propos\" + 0.003*\"access\" + 0.003*\"agenc\" + 0.003*\"provid\" + 0.003*\"devic\" + 0.003*\"crypto\" + 0.003*\"palestinian\" + 0.003*\"court\" + 0.003*\"privat\" + 0.003*\"clinton\" + 0.003*\"data\" + 0.003*\"administr\" + 0.003*\"wiretap\" + 0.002*\"author\" + 0.002*\"order\" + 0.002*\"legal\"\n",
            "Score: 0.690291702747345\t Topic: 0.018*\"drive\" + 0.006*\"price\" + 0.006*\"sale\" + 0.006*\"disk\" + 0.006*\"control\" + 0.006*\"speed\" + 0.006*\"hard\" + 0.005*\"engin\" + 0.005*\"power\" + 0.005*\"sell\" + 0.005*\"access\" + 0.004*\"appl\" + 0.004*\"buy\" + 0.004*\"high\" + 0.003*\"card\" + 0.003*\"driver\" + 0.003*\"sound\" + 0.003*\"model\" + 0.003*\"offer\" + 0.003*\"ship\" + 0.003*\"car\" + 0.003*\"instal\" + 0.003*\"cost\" + 0.003*\"board\" + 0.003*\"best\" + 0.003*\"chip\" + 0.003*\"monitor\" + 0.003*\"printer\" + 0.003*\"design\" + 0.002*\"machin\" + 0.002*\"floppi\" + 0.002*\"switch\" + 0.002*\"littl\" + 0.002*\"manual\" + 0.002*\"turn\" + 0.002*\"scsi\" + 0.002*\"memori\" + 0.002*\"upgrad\" + 0.002*\"servic\" + 0.002*\"softwar\"\n",
            "Score: 0.14472059905529022\t Topic: 0.036*\"window\" + 0.013*\"armenian\" + 0.009*\"file\" + 0.008*\"mous\" + 0.007*\"widget\" + 0.007*\"applic\" + 0.006*\"manag\" + 0.006*\"program\" + 0.005*\"motif\" + 0.005*\"display\" + 0.005*\"armenia\" + 0.005*\"uucp\" + 0.004*\"event\" + 0.004*\"jpeg\" + 0.004*\"copi\" + 0.004*\"chang\" + 0.004*\"imag\" + 0.004*\"serdar\" + 0.004*\"turkish\" + 0.004*\"argic\" + 0.004*\"run\" + 0.004*\"font\" + 0.004*\"creat\" + 0.004*\"driver\" + 0.004*\"xterm\" + 0.003*\"server\" + 0.003*\"softwar\" + 0.003*\"memori\" + 0.003*\"error\" + 0.003*\"genocid\" + 0.003*\"turk\" + 0.003*\"valu\" + 0.003*\"code\" + 0.003*\"xlib\" + 0.003*\"screen\" + 0.003*\"david\" + 0.002*\"page\" + 0.002*\"icon\" + 0.002*\"zuma\" + 0.002*\"user\"\n"
          ],
          "name": "stdout"
        }
      ]
    },
    {
      "cell_type": "markdown",
      "metadata": {
        "id": "cFAL879dV5V-",
        "colab_type": "text"
      },
      "source": [
        "#Conclusion:\n",
        "1. As we can see from the above model, our data is basically divided into four topics. Percentage wise into 69%,14%, 8%and 6%.\n",
        "2. The greatest score is 0.69, which includes words like drive, price, sale, disk control,speed, engine etc.\n",
        "     Since, these words resembles with the section of computers and hardwares.Therefor, we can conclude that 69% of the data is about computer and hardware topics\n",
        "3. Similarly, the second largest score is 0.14, which has words like window, file, mous, applic, program resembles the topics of graphics computer windows, foresale and electronics.\n",
        "4. Remaining data talks about sports and politics.\n",
        "\n"
      ]
    }
  ]
}