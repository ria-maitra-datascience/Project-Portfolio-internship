{
 "cells": [
  {
   "cell_type": "markdown",
   "metadata": {},
   "source": [
    "# Contents"
   ]
  },
  {
   "cell_type": "markdown",
   "metadata": {},
   "source": [
    "1. Auto MPG Data Set\n",
    "2. Problem Definition\n",
    "3. Data Analysis (EDA)\n",
    "4. Pre-processing Pipeline\n",
    "5. Building Machine Learning Models\n",
    "6. Concluding Remarks"
   ]
  },
  {
   "cell_type": "markdown",
   "metadata": {},
   "source": [
    "# 1. Auto MPG Data Set"
   ]
  },
  {
   "cell_type": "markdown",
   "metadata": {},
   "source": [
    "This dataset is a slightly modified version of the dataset provided in the StatLib library. In line with the use by Ross Quinlan (1993) in predicting the attribute \"mpg\", 8 of the original instances were removed because they had unknown values for the \"mpg\" attribute. The original dataset is available in the file \"auto-mpg.data-original\".\n",
    "\n",
    "\"The data concerns city-cycle fuel consumption in miles per gallon, to be predicted in terms of 3 multivalued discrete and 5 continuous attributes.\" (Quinlan, 1993)"
   ]
  },
  {
   "cell_type": "markdown",
   "metadata": {},
   "source": [
    "# 2. Problem Definition"
   ]
  },
  {
   "cell_type": "markdown",
   "metadata": {},
   "source": [
    "\"The data concerns city-cycle fuel consumption in miles per gallon, to be predicted in terms of 3 multivalued discrete and 5 continuous attributes.\" (Quinlan, 1993)\n",
    "\n",
    "\n",
    "1. We will analyse how our target variable i.e mpg is effected by other independable variables.\n",
    "2. We will find out what factors are positively correlated and negatively correlated with our target variable.\n",
    "3. We will find out which model is best suited to predict mpg."
   ]
  },
  {
   "cell_type": "markdown",
   "metadata": {},
   "source": [
    "# 3. Data Analysis(EDA)"
   ]
  },
  {
   "cell_type": "markdown",
   "metadata": {},
   "source": [
    "3.1 First we will import all the required libraries and load the dataset."
   ]
  },
  {
   "cell_type": "code",
   "execution_count": 59,
   "metadata": {},
   "outputs": [],
   "source": [
    "import pandas as pd\n",
    "import numpy as np\n",
    "import seaborn as sns\n",
    "import matplotlib.pyplot as plt\n",
    "from sklearn.preprocessing import LabelEncoder\n",
    "from sklearn.linear_model import LinearRegression\n",
    "from sklearn.metrics import mean_squared_error,mean_absolute_error\n",
    "\n",
    "from sklearn.model_selection import train_test_split\n",
    "import warnings\n",
    "warnings.filterwarnings('ignore')"
   ]
  },
  {
   "cell_type": "code",
   "execution_count": 60,
   "metadata": {},
   "outputs": [],
   "source": [
    "columns=['mpg','cylinders','displacement','horsepower','weight','acceleration','modelyear','origin','carname']"
   ]
  },
  {
   "cell_type": "code",
   "execution_count": 61,
   "metadata": {},
   "outputs": [
    {
     "data": {
      "text/html": [
       "<div>\n",
       "<style scoped>\n",
       "    .dataframe tbody tr th:only-of-type {\n",
       "        vertical-align: middle;\n",
       "    }\n",
       "\n",
       "    .dataframe tbody tr th {\n",
       "        vertical-align: top;\n",
       "    }\n",
       "\n",
       "    .dataframe thead th {\n",
       "        text-align: right;\n",
       "    }\n",
       "</style>\n",
       "<table border=\"1\" class=\"dataframe\">\n",
       "  <thead>\n",
       "    <tr style=\"text-align: right;\">\n",
       "      <th></th>\n",
       "      <th>mpg</th>\n",
       "      <th>cylinders</th>\n",
       "      <th>displacement</th>\n",
       "      <th>horsepower</th>\n",
       "      <th>weight</th>\n",
       "      <th>acceleration</th>\n",
       "      <th>modelyear</th>\n",
       "      <th>origin</th>\n",
       "      <th>carname</th>\n",
       "    </tr>\n",
       "  </thead>\n",
       "  <tbody>\n",
       "    <tr>\n",
       "      <td>0</td>\n",
       "      <td>15.0</td>\n",
       "      <td>8</td>\n",
       "      <td>350.0</td>\n",
       "      <td>165</td>\n",
       "      <td>3693</td>\n",
       "      <td>11.5</td>\n",
       "      <td>70</td>\n",
       "      <td>1</td>\n",
       "      <td>buick skylark 320</td>\n",
       "    </tr>\n",
       "    <tr>\n",
       "      <td>1</td>\n",
       "      <td>18.0</td>\n",
       "      <td>8</td>\n",
       "      <td>318.0</td>\n",
       "      <td>150</td>\n",
       "      <td>3436</td>\n",
       "      <td>11.0</td>\n",
       "      <td>70</td>\n",
       "      <td>1</td>\n",
       "      <td>plymouth satellite</td>\n",
       "    </tr>\n",
       "    <tr>\n",
       "      <td>2</td>\n",
       "      <td>16.0</td>\n",
       "      <td>8</td>\n",
       "      <td>304.0</td>\n",
       "      <td>150</td>\n",
       "      <td>3433</td>\n",
       "      <td>12.0</td>\n",
       "      <td>70</td>\n",
       "      <td>1</td>\n",
       "      <td>amc rebel sst</td>\n",
       "    </tr>\n",
       "    <tr>\n",
       "      <td>3</td>\n",
       "      <td>17.0</td>\n",
       "      <td>8</td>\n",
       "      <td>302.0</td>\n",
       "      <td>140</td>\n",
       "      <td>3449</td>\n",
       "      <td>10.5</td>\n",
       "      <td>70</td>\n",
       "      <td>1</td>\n",
       "      <td>ford torino</td>\n",
       "    </tr>\n",
       "    <tr>\n",
       "      <td>4</td>\n",
       "      <td>15.0</td>\n",
       "      <td>8</td>\n",
       "      <td>429.0</td>\n",
       "      <td>198</td>\n",
       "      <td>4341</td>\n",
       "      <td>10.0</td>\n",
       "      <td>70</td>\n",
       "      <td>1</td>\n",
       "      <td>ford galaxie 500</td>\n",
       "    </tr>\n",
       "    <tr>\n",
       "      <td>...</td>\n",
       "      <td>...</td>\n",
       "      <td>...</td>\n",
       "      <td>...</td>\n",
       "      <td>...</td>\n",
       "      <td>...</td>\n",
       "      <td>...</td>\n",
       "      <td>...</td>\n",
       "      <td>...</td>\n",
       "      <td>...</td>\n",
       "    </tr>\n",
       "    <tr>\n",
       "      <td>392</td>\n",
       "      <td>27.0</td>\n",
       "      <td>4</td>\n",
       "      <td>140.0</td>\n",
       "      <td>86</td>\n",
       "      <td>2790</td>\n",
       "      <td>15.6</td>\n",
       "      <td>82</td>\n",
       "      <td>1</td>\n",
       "      <td>ford mustang gl</td>\n",
       "    </tr>\n",
       "    <tr>\n",
       "      <td>393</td>\n",
       "      <td>44.0</td>\n",
       "      <td>4</td>\n",
       "      <td>97.0</td>\n",
       "      <td>52</td>\n",
       "      <td>2130</td>\n",
       "      <td>24.6</td>\n",
       "      <td>82</td>\n",
       "      <td>2</td>\n",
       "      <td>vw pickup</td>\n",
       "    </tr>\n",
       "    <tr>\n",
       "      <td>394</td>\n",
       "      <td>32.0</td>\n",
       "      <td>4</td>\n",
       "      <td>135.0</td>\n",
       "      <td>84</td>\n",
       "      <td>2295</td>\n",
       "      <td>11.6</td>\n",
       "      <td>82</td>\n",
       "      <td>1</td>\n",
       "      <td>dodge rampage</td>\n",
       "    </tr>\n",
       "    <tr>\n",
       "      <td>395</td>\n",
       "      <td>28.0</td>\n",
       "      <td>4</td>\n",
       "      <td>120.0</td>\n",
       "      <td>79</td>\n",
       "      <td>2625</td>\n",
       "      <td>18.6</td>\n",
       "      <td>82</td>\n",
       "      <td>1</td>\n",
       "      <td>ford ranger</td>\n",
       "    </tr>\n",
       "    <tr>\n",
       "      <td>396</td>\n",
       "      <td>31.0</td>\n",
       "      <td>4</td>\n",
       "      <td>119.0</td>\n",
       "      <td>82</td>\n",
       "      <td>2720</td>\n",
       "      <td>19.4</td>\n",
       "      <td>82</td>\n",
       "      <td>1</td>\n",
       "      <td>chevy s-10</td>\n",
       "    </tr>\n",
       "  </tbody>\n",
       "</table>\n",
       "<p>397 rows × 9 columns</p>\n",
       "</div>"
      ],
      "text/plain": [
       "      mpg  cylinders  displacement horsepower  weight  acceleration  \\\n",
       "0    15.0          8         350.0        165    3693          11.5   \n",
       "1    18.0          8         318.0        150    3436          11.0   \n",
       "2    16.0          8         304.0        150    3433          12.0   \n",
       "3    17.0          8         302.0        140    3449          10.5   \n",
       "4    15.0          8         429.0        198    4341          10.0   \n",
       "..    ...        ...           ...        ...     ...           ...   \n",
       "392  27.0          4         140.0         86    2790          15.6   \n",
       "393  44.0          4          97.0         52    2130          24.6   \n",
       "394  32.0          4         135.0         84    2295          11.6   \n",
       "395  28.0          4         120.0         79    2625          18.6   \n",
       "396  31.0          4         119.0         82    2720          19.4   \n",
       "\n",
       "     modelyear  origin             carname  \n",
       "0           70       1   buick skylark 320  \n",
       "1           70       1  plymouth satellite  \n",
       "2           70       1       amc rebel sst  \n",
       "3           70       1         ford torino  \n",
       "4           70       1    ford galaxie 500  \n",
       "..         ...     ...                 ...  \n",
       "392         82       1     ford mustang gl  \n",
       "393         82       2           vw pickup  \n",
       "394         82       1       dodge rampage  \n",
       "395         82       1         ford ranger  \n",
       "396         82       1          chevy s-10  \n",
       "\n",
       "[397 rows x 9 columns]"
      ]
     },
     "execution_count": 61,
     "metadata": {},
     "output_type": "execute_result"
    }
   ],
   "source": [
    "df=pd.read_csv('mgp.csv',sep='\\t',names=columns,header=0)\n",
    "df"
   ]
  },
  {
   "cell_type": "code",
   "execution_count": 62,
   "metadata": {},
   "outputs": [
    {
     "data": {
      "text/plain": [
       "mpg             0\n",
       "cylinders       0\n",
       "displacement    0\n",
       "horsepower      0\n",
       "weight          0\n",
       "acceleration    0\n",
       "modelyear       0\n",
       "origin          0\n",
       "carname         0\n",
       "dtype: int64"
      ]
     },
     "execution_count": 62,
     "metadata": {},
     "output_type": "execute_result"
    }
   ],
   "source": [
    "#Lets check null values\n",
    "df.isnull().sum()"
   ]
  },
  {
   "cell_type": "code",
   "execution_count": 63,
   "metadata": {},
   "outputs": [
    {
     "data": {
      "text/plain": [
       "<matplotlib.axes._subplots.AxesSubplot at 0x1ad2d8a1b08>"
      ]
     },
     "execution_count": 63,
     "metadata": {},
     "output_type": "execute_result"
    },
    {
     "data": {
      "image/png": "[encoded data removed]",
      "text/plain": [
       "<Figure size 432x288 with 2 Axes>"
      ]
     },
     "metadata": {
      "needs_background": "light"
     },
     "output_type": "display_data"
    }
   ],
   "source": [
    "sns.heatmap(df.isnull())"
   ]
  },
  {
   "cell_type": "raw",
   "metadata": {},
   "source": [
    "Observation: \n",
    "    --From above we can see that there is no null values present."
   ]
  },
  {
   "cell_type": "code",
   "execution_count": 64,
   "metadata": {},
   "outputs": [
    {
     "data": {
      "text/plain": [
       "mpg             float64\n",
       "cylinders         int64\n",
       "displacement    float64\n",
       "horsepower       object\n",
       "weight            int64\n",
       "acceleration    float64\n",
       "modelyear         int64\n",
       "origin            int64\n",
       "carname          object\n",
       "dtype: object"
      ]
     },
     "execution_count": 64,
     "metadata": {},
     "output_type": "execute_result"
    }
   ],
   "source": [
    "#lets check data types\n",
    "df.dtypes"
   ]
  },
  {
   "cell_type": "code",
   "execution_count": 65,
   "metadata": {},
   "outputs": [],
   "source": [
    "#lets first convert all categorial values into numerical values.\n",
    "le = LabelEncoder()\n",
    "list1 = ['horsepower','carname']\n",
    "for val in list1:\n",
    "    df[val] = le.fit_transform(df[val].astype(str))"
   ]
  },
  {
   "cell_type": "code",
   "execution_count": 66,
   "metadata": {},
   "outputs": [
    {
     "data": {
      "text/plain": [
       "mpg             float64\n",
       "cylinders         int64\n",
       "displacement    float64\n",
       "horsepower        int32\n",
       "weight            int64\n",
       "acceleration    float64\n",
       "modelyear         int64\n",
       "origin            int64\n",
       "carname           int32\n",
       "dtype: object"
      ]
     },
     "execution_count": 66,
     "metadata": {},
     "output_type": "execute_result"
    }
   ],
   "source": [
    "#lets again check data types\n",
    "df.dtypes"
   ]
  },
  {
   "cell_type": "raw",
   "metadata": {},
   "source": [
    "Obeservation:\n",
    "    --All data types has been converted into numerical values."
   ]
  },
  {
   "cell_type": "code",
   "execution_count": 67,
   "metadata": {},
   "outputs": [
    {
     "data": {
      "text/html": [
       "<div>\n",
       "<style scoped>\n",
       "    .dataframe tbody tr th:only-of-type {\n",
       "        vertical-align: middle;\n",
       "    }\n",
       "\n",
       "    .dataframe tbody tr th {\n",
       "        vertical-align: top;\n",
       "    }\n",
       "\n",
       "    .dataframe thead th {\n",
       "        text-align: right;\n",
       "    }\n",
       "</style>\n",
       "<table border=\"1\" class=\"dataframe\">\n",
       "  <thead>\n",
       "    <tr style=\"text-align: right;\">\n",
       "      <th></th>\n",
       "      <th>mpg</th>\n",
       "      <th>cylinders</th>\n",
       "      <th>displacement</th>\n",
       "      <th>horsepower</th>\n",
       "      <th>weight</th>\n",
       "      <th>acceleration</th>\n",
       "      <th>modelyear</th>\n",
       "      <th>origin</th>\n",
       "      <th>carname</th>\n",
       "    </tr>\n",
       "  </thead>\n",
       "  <tbody>\n",
       "    <tr>\n",
       "      <td>count</td>\n",
       "      <td>397.000000</td>\n",
       "      <td>397.000000</td>\n",
       "      <td>397.000000</td>\n",
       "      <td>397.000000</td>\n",
       "      <td>397.000000</td>\n",
       "      <td>397.000000</td>\n",
       "      <td>397.000000</td>\n",
       "      <td>397.000000</td>\n",
       "      <td>397.000000</td>\n",
       "    </tr>\n",
       "    <tr>\n",
       "      <td>mean</td>\n",
       "      <td>23.528463</td>\n",
       "      <td>5.448363</td>\n",
       "      <td>193.139798</td>\n",
       "      <td>50.896725</td>\n",
       "      <td>2969.080605</td>\n",
       "      <td>15.577078</td>\n",
       "      <td>76.025189</td>\n",
       "      <td>1.574307</td>\n",
       "      <td>148.801008</td>\n",
       "    </tr>\n",
       "    <tr>\n",
       "      <td>std</td>\n",
       "      <td>7.820926</td>\n",
       "      <td>1.698329</td>\n",
       "      <td>104.244898</td>\n",
       "      <td>29.720192</td>\n",
       "      <td>847.485218</td>\n",
       "      <td>2.755326</td>\n",
       "      <td>3.689922</td>\n",
       "      <td>0.802549</td>\n",
       "      <td>89.468708</td>\n",
       "    </tr>\n",
       "    <tr>\n",
       "      <td>min</td>\n",
       "      <td>9.000000</td>\n",
       "      <td>3.000000</td>\n",
       "      <td>68.000000</td>\n",
       "      <td>0.000000</td>\n",
       "      <td>1613.000000</td>\n",
       "      <td>8.000000</td>\n",
       "      <td>70.000000</td>\n",
       "      <td>1.000000</td>\n",
       "      <td>0.000000</td>\n",
       "    </tr>\n",
       "    <tr>\n",
       "      <td>25%</td>\n",
       "      <td>17.500000</td>\n",
       "      <td>4.000000</td>\n",
       "      <td>104.000000</td>\n",
       "      <td>27.000000</td>\n",
       "      <td>2223.000000</td>\n",
       "      <td>13.900000</td>\n",
       "      <td>73.000000</td>\n",
       "      <td>1.000000</td>\n",
       "      <td>66.000000</td>\n",
       "    </tr>\n",
       "    <tr>\n",
       "      <td>50%</td>\n",
       "      <td>23.000000</td>\n",
       "      <td>4.000000</td>\n",
       "      <td>146.000000</td>\n",
       "      <td>60.000000</td>\n",
       "      <td>2800.000000</td>\n",
       "      <td>15.500000</td>\n",
       "      <td>76.000000</td>\n",
       "      <td>1.000000</td>\n",
       "      <td>150.000000</td>\n",
       "    </tr>\n",
       "    <tr>\n",
       "      <td>75%</td>\n",
       "      <td>29.000000</td>\n",
       "      <td>8.000000</td>\n",
       "      <td>262.000000</td>\n",
       "      <td>78.000000</td>\n",
       "      <td>3609.000000</td>\n",
       "      <td>17.200000</td>\n",
       "      <td>79.000000</td>\n",
       "      <td>2.000000</td>\n",
       "      <td>226.000000</td>\n",
       "    </tr>\n",
       "    <tr>\n",
       "      <td>max</td>\n",
       "      <td>46.600000</td>\n",
       "      <td>8.000000</td>\n",
       "      <td>455.000000</td>\n",
       "      <td>93.000000</td>\n",
       "      <td>5140.000000</td>\n",
       "      <td>24.800000</td>\n",
       "      <td>82.000000</td>\n",
       "      <td>3.000000</td>\n",
       "      <td>304.000000</td>\n",
       "    </tr>\n",
       "  </tbody>\n",
       "</table>\n",
       "</div>"
      ],
      "text/plain": [
       "              mpg   cylinders  displacement  horsepower       weight  \\\n",
       "count  397.000000  397.000000    397.000000  397.000000   397.000000   \n",
       "mean    23.528463    5.448363    193.139798   50.896725  2969.080605   \n",
       "std      7.820926    1.698329    104.244898   29.720192   847.485218   \n",
       "min      9.000000    3.000000     68.000000    0.000000  1613.000000   \n",
       "25%     17.500000    4.000000    104.000000   27.000000  2223.000000   \n",
       "50%     23.000000    4.000000    146.000000   60.000000  2800.000000   \n",
       "75%     29.000000    8.000000    262.000000   78.000000  3609.000000   \n",
       "max     46.600000    8.000000    455.000000   93.000000  5140.000000   \n",
       "\n",
       "       acceleration   modelyear      origin     carname  \n",
       "count    397.000000  397.000000  397.000000  397.000000  \n",
       "mean      15.577078   76.025189    1.574307  148.801008  \n",
       "std        2.755326    3.689922    0.802549   89.468708  \n",
       "min        8.000000   70.000000    1.000000    0.000000  \n",
       "25%       13.900000   73.000000    1.000000   66.000000  \n",
       "50%       15.500000   76.000000    1.000000  150.000000  \n",
       "75%       17.200000   79.000000    2.000000  226.000000  \n",
       "max       24.800000   82.000000    3.000000  304.000000  "
      ]
     },
     "execution_count": 67,
     "metadata": {},
     "output_type": "execute_result"
    }
   ],
   "source": [
    "#Lets describe the data statistically\n",
    "df.describe()"
   ]
  },
  {
   "cell_type": "raw",
   "metadata": {},
   "source": [
    "Observation:\n",
    "    --mean is more than median in columns'dispalcement','horsepower','weight', indicating data is skewed in these columns.\n",
    "    --std is huge in columns 'displacement', 'horsepower','weight'and 'carname'.\n",
    "    -- gap between 75% and max is huge in columns 'displacemnet','weight', indicating presence of outliers."
   ]
  },
  {
   "cell_type": "code",
   "execution_count": 68,
   "metadata": {},
   "outputs": [
    {
     "data": {
      "text/html": [
       "<div>\n",
       "<style scoped>\n",
       "    .dataframe tbody tr th:only-of-type {\n",
       "        vertical-align: middle;\n",
       "    }\n",
       "\n",
       "    .dataframe tbody tr th {\n",
       "        vertical-align: top;\n",
       "    }\n",
       "\n",
       "    .dataframe thead th {\n",
       "        text-align: right;\n",
       "    }\n",
       "</style>\n",
       "<table border=\"1\" class=\"dataframe\">\n",
       "  <thead>\n",
       "    <tr style=\"text-align: right;\">\n",
       "      <th></th>\n",
       "      <th>mpg</th>\n",
       "      <th>cylinders</th>\n",
       "      <th>displacement</th>\n",
       "      <th>horsepower</th>\n",
       "      <th>weight</th>\n",
       "      <th>acceleration</th>\n",
       "      <th>modelyear</th>\n",
       "      <th>origin</th>\n",
       "      <th>carname</th>\n",
       "    </tr>\n",
       "  </thead>\n",
       "  <tbody>\n",
       "    <tr>\n",
       "      <td>mpg</td>\n",
       "      <td>1.000000</td>\n",
       "      <td>-0.775412</td>\n",
       "      <td>-0.803972</td>\n",
       "      <td>0.450731</td>\n",
       "      <td>-0.831558</td>\n",
       "      <td>0.419133</td>\n",
       "      <td>0.578667</td>\n",
       "      <td>0.562894</td>\n",
       "      <td>0.272552</td>\n",
       "    </tr>\n",
       "    <tr>\n",
       "      <td>cylinders</td>\n",
       "      <td>-0.775412</td>\n",
       "      <td>1.000000</td>\n",
       "      <td>0.950718</td>\n",
       "      <td>-0.573726</td>\n",
       "      <td>0.896623</td>\n",
       "      <td>-0.503016</td>\n",
       "      <td>-0.344729</td>\n",
       "      <td>-0.561796</td>\n",
       "      <td>-0.272748</td>\n",
       "    </tr>\n",
       "    <tr>\n",
       "      <td>displacement</td>\n",
       "      <td>-0.803972</td>\n",
       "      <td>0.950718</td>\n",
       "      <td>1.000000</td>\n",
       "      <td>-0.509555</td>\n",
       "      <td>0.932957</td>\n",
       "      <td>-0.542083</td>\n",
       "      <td>-0.367470</td>\n",
       "      <td>-0.608749</td>\n",
       "      <td>-0.289892</td>\n",
       "    </tr>\n",
       "    <tr>\n",
       "      <td>horsepower</td>\n",
       "      <td>0.450731</td>\n",
       "      <td>-0.573726</td>\n",
       "      <td>-0.509555</td>\n",
       "      <td>1.000000</td>\n",
       "      <td>-0.509559</td>\n",
       "      <td>0.285826</td>\n",
       "      <td>0.141939</td>\n",
       "      <td>0.285383</td>\n",
       "      <td>0.171371</td>\n",
       "    </tr>\n",
       "    <tr>\n",
       "      <td>weight</td>\n",
       "      <td>-0.831558</td>\n",
       "      <td>0.896623</td>\n",
       "      <td>0.932957</td>\n",
       "      <td>-0.509559</td>\n",
       "      <td>1.000000</td>\n",
       "      <td>-0.416488</td>\n",
       "      <td>-0.305150</td>\n",
       "      <td>-0.580552</td>\n",
       "      <td>-0.254002</td>\n",
       "    </tr>\n",
       "    <tr>\n",
       "      <td>acceleration</td>\n",
       "      <td>0.419133</td>\n",
       "      <td>-0.503016</td>\n",
       "      <td>-0.542083</td>\n",
       "      <td>0.285826</td>\n",
       "      <td>-0.416488</td>\n",
       "      <td>1.000000</td>\n",
       "      <td>0.284376</td>\n",
       "      <td>0.204102</td>\n",
       "      <td>0.125110</td>\n",
       "    </tr>\n",
       "    <tr>\n",
       "      <td>modelyear</td>\n",
       "      <td>0.578667</td>\n",
       "      <td>-0.344729</td>\n",
       "      <td>-0.367470</td>\n",
       "      <td>0.141939</td>\n",
       "      <td>-0.305150</td>\n",
       "      <td>0.284376</td>\n",
       "      <td>1.000000</td>\n",
       "      <td>0.178441</td>\n",
       "      <td>0.070541</td>\n",
       "    </tr>\n",
       "    <tr>\n",
       "      <td>origin</td>\n",
       "      <td>0.562894</td>\n",
       "      <td>-0.561796</td>\n",
       "      <td>-0.608749</td>\n",
       "      <td>0.285383</td>\n",
       "      <td>-0.580552</td>\n",
       "      <td>0.204102</td>\n",
       "      <td>0.178441</td>\n",
       "      <td>1.000000</td>\n",
       "      <td>0.358844</td>\n",
       "    </tr>\n",
       "    <tr>\n",
       "      <td>carname</td>\n",
       "      <td>0.272552</td>\n",
       "      <td>-0.272748</td>\n",
       "      <td>-0.289892</td>\n",
       "      <td>0.171371</td>\n",
       "      <td>-0.254002</td>\n",
       "      <td>0.125110</td>\n",
       "      <td>0.070541</td>\n",
       "      <td>0.358844</td>\n",
       "      <td>1.000000</td>\n",
       "    </tr>\n",
       "  </tbody>\n",
       "</table>\n",
       "</div>"
      ],
      "text/plain": [
       "                   mpg  cylinders  displacement  horsepower    weight  \\\n",
       "mpg           1.000000  -0.775412     -0.803972    0.450731 -0.831558   \n",
       "cylinders    -0.775412   1.000000      0.950718   -0.573726  0.896623   \n",
       "displacement -0.803972   0.950718      1.000000   -0.509555  0.932957   \n",
       "horsepower    0.450731  -0.573726     -0.509555    1.000000 -0.509559   \n",
       "weight       -0.831558   0.896623      0.932957   -0.509559  1.000000   \n",
       "acceleration  0.419133  -0.503016     -0.542083    0.285826 -0.416488   \n",
       "modelyear     0.578667  -0.344729     -0.367470    0.141939 -0.305150   \n",
       "origin        0.562894  -0.561796     -0.608749    0.285383 -0.580552   \n",
       "carname       0.272552  -0.272748     -0.289892    0.171371 -0.254002   \n",
       "\n",
       "              acceleration  modelyear    origin   carname  \n",
       "mpg               0.419133   0.578667  0.562894  0.272552  \n",
       "cylinders        -0.503016  -0.344729 -0.561796 -0.272748  \n",
       "displacement     -0.542083  -0.367470 -0.608749 -0.289892  \n",
       "horsepower        0.285826   0.141939  0.285383  0.171371  \n",
       "weight           -0.416488  -0.305150 -0.580552 -0.254002  \n",
       "acceleration      1.000000   0.284376  0.204102  0.125110  \n",
       "modelyear         0.284376   1.000000  0.178441  0.070541  \n",
       "origin            0.204102   0.178441  1.000000  0.358844  \n",
       "carname           0.125110   0.070541  0.358844  1.000000  "
      ]
     },
     "execution_count": 68,
     "metadata": {},
     "output_type": "execute_result"
    }
   ],
   "source": [
    "#Lets check the correlation.\n",
    "dfcor= df.corr()\n",
    "dfcor"
   ]
  },
  {
   "cell_type": "code",
   "execution_count": 69,
   "metadata": {},
   "outputs": [
    {
     "data": {
      "text/plain": [
       "<matplotlib.axes._subplots.AxesSubplot at 0x1ad2e132108>"
      ]
     },
     "execution_count": 69,
     "metadata": {},
     "output_type": "execute_result"
    },
    {
     "data": {
      "image/png": "[encoded data removed]",
      "text/plain": [
       "<Figure size 720x432 with 2 Axes>"
      ]
     },
     "metadata": {
      "needs_background": "light"
     },
     "output_type": "display_data"
    }
   ],
   "source": [
    "plt.figure(figsize = (10,6))\n",
    "sns.heatmap(dfcor,cmap = 'Blues',annot = True)"
   ]
  },
  {
   "cell_type": "code",
   "execution_count": 70,
   "metadata": {},
   "outputs": [
    {
     "data": {
      "text/plain": [
       "<matplotlib.axes._subplots.AxesSubplot at 0x1ad2f423988>"
      ]
     },
     "execution_count": 70,
     "metadata": {},
     "output_type": "execute_result"
    },
    {
     "data": {
      "image/png": "[encoded data removed]",
      "text/plain": [
       "<Figure size 1440x1080 with 2 Axes>"
      ]
     },
     "metadata": {
      "needs_background": "light"
     },
     "output_type": "display_data"
    }
   ],
   "source": [
    "plt.figure(figsize = (20,15))\n",
    "sns.heatmap(dfcor,cmap ='YlOrRd_r',annot = True)"
   ]
  },
  {
   "cell_type": "raw",
   "metadata": {},
   "source": [
    "Observation:\n",
    "    --weight, displacement and cylinders are very negatively correlated with our target variable.\n",
    "    --origin and modelyear is highly positively correlated with out tarvariable."
   ]
  },
  {
   "cell_type": "code",
   "execution_count": 14,
   "metadata": {},
   "outputs": [],
   "source": [
    "#Since weight, displacement and cylinders are very negatively correlated so we will drop these columns"
   ]
  },
  {
   "cell_type": "code",
   "execution_count": 71,
   "metadata": {},
   "outputs": [],
   "source": [
    "df.drop('weight',axis=1,inplace=True)\n",
    "df.drop('displacement',axis=1,inplace=True)\n",
    "df.drop('cylinders',axis=1,inplace=True)"
   ]
  },
  {
   "cell_type": "code",
   "execution_count": 72,
   "metadata": {},
   "outputs": [
    {
     "data": {
      "text/plain": [
       "(397, 6)"
      ]
     },
     "execution_count": 72,
     "metadata": {},
     "output_type": "execute_result"
    }
   ],
   "source": [
    "df.shape"
   ]
  },
  {
   "cell_type": "code",
   "execution_count": 73,
   "metadata": {},
   "outputs": [
    {
     "data": {
      "text/plain": [
       "mpg             0.452893\n",
       "horsepower     -0.322679\n",
       "acceleration    0.275880\n",
       "modelyear       0.010233\n",
       "origin          0.919911\n",
       "carname         0.013775\n",
       "dtype: float64"
      ]
     },
     "execution_count": 73,
     "metadata": {},
     "output_type": "execute_result"
    }
   ],
   "source": [
    "#lets check the skewness\n",
    "df.skew()"
   ]
  },
  {
   "cell_type": "raw",
   "metadata": {},
   "source": [
    "Obervation:\n",
    "    --Only positive skewness is significant\n",
    "    --here horsefull is negatively skewed, hence it will not help much to predict our target variable."
   ]
  },
  {
   "cell_type": "code",
   "execution_count": 74,
   "metadata": {},
   "outputs": [],
   "source": [
    "#Treating using log\n",
    "import numpy as np\n",
    "for col in df.columns:\n",
    "    if df.skew().loc[col]>0.55:\n",
    "        df[col] = np.log1p(df[col])"
   ]
  },
  {
   "cell_type": "code",
   "execution_count": 75,
   "metadata": {},
   "outputs": [
    {
     "data": {
      "text/plain": [
       "mpg             0.452893\n",
       "horsepower     -0.322679\n",
       "acceleration    0.275880\n",
       "modelyear       0.010233\n",
       "origin          0.792604\n",
       "carname         0.013775\n",
       "dtype: float64"
      ]
     },
     "execution_count": 75,
     "metadata": {},
     "output_type": "execute_result"
    }
   ],
   "source": [
    "df.skew()"
   ]
  },
  {
   "cell_type": "raw",
   "metadata": {},
   "source": [
    "Obervation:\n",
    "    --carname skewness is decreased."
   ]
  },
  {
   "cell_type": "code",
   "execution_count": 19,
   "metadata": {},
   "outputs": [],
   "source": [
    "collist=df.columns.values\n",
    "ncol=15\n",
    "nrows=15"
   ]
  },
  {
   "cell_type": "code",
   "execution_count": 20,
   "metadata": {},
   "outputs": [
    {
     "data": {
      "image/png": "[encoded data removed]",
      "text/plain": [
       "<Figure size 1080x5400 with 5 Axes>"
      ]
     },
     "metadata": {
      "needs_background": "light"
     },
     "output_type": "display_data"
    }
   ],
   "source": [
    "#Lets visualize outliers through boxplots\n",
    "plt.figure(figsize=(ncol,5*ncol))\n",
    "for i in range (1,len(collist)):\n",
    "    plt.subplot(nrows,ncol,i+1)\n",
    "    sns.boxplot(df[collist[i]],color='green',orient='v')\n",
    "    plt.tight_layout()"
   ]
  },
  {
   "cell_type": "code",
   "execution_count": 77,
   "metadata": {},
   "outputs": [],
   "source": [
    "#Lets do bivariate analysis with target variable."
   ]
  },
  {
   "cell_type": "code",
   "execution_count": 78,
   "metadata": {},
   "outputs": [
    {
     "data": {
      "text/plain": [
       "<matplotlib.axes._subplots.AxesSubplot at 0x1ad2f39d308>"
      ]
     },
     "execution_count": 78,
     "metadata": {},
     "output_type": "execute_result"
    },
    {
     "data": {
      "image/png": "[encoded data removed]",
      "text/plain": [
       "<Figure size 432x288 with 1 Axes>"
      ]
     },
     "metadata": {
      "needs_background": "light"
     },
     "output_type": "display_data"
    }
   ],
   "source": [
    "df['mpg'].plot.box()"
   ]
  },
  {
   "cell_type": "raw",
   "metadata": {},
   "source": [
    "Observation:\n",
    "    --few outliers are present in acceleration column."
   ]
  },
  {
   "cell_type": "code",
   "execution_count": 21,
   "metadata": {},
   "outputs": [
    {
     "data": {
      "text/plain": [
       "<matplotlib.collections.PathCollection at 0x1ad2d964248>"
      ]
     },
     "execution_count": 21,
     "metadata": {},
     "output_type": "execute_result"
    },
    {
     "data": {
      "image/png": "[encoded data removed]",
      "text/plain": [
       "<Figure size 432x288 with 1 Axes>"
      ]
     },
     "metadata": {
      "needs_background": "light"
     },
     "output_type": "display_data"
    }
   ],
   "source": [
    "plt.scatter(df['acceleration'],df['mpg'])"
   ]
  },
  {
   "cell_type": "code",
   "execution_count": 79,
   "metadata": {},
   "outputs": [
    {
     "data": {
      "text/plain": [
       "<matplotlib.collections.PathCollection at 0x1ad2f4e8288>"
      ]
     },
     "execution_count": 79,
     "metadata": {},
     "output_type": "execute_result"
    },
    {
     "data": {
      "image/png": "[encoded data removed]",
      "text/plain": [
       "<Figure size 432x288 with 1 Axes>"
      ]
     },
     "metadata": {
      "needs_background": "light"
     },
     "output_type": "display_data"
    }
   ],
   "source": [
    "plt.scatter(df['horsepower'],df['mpg'])"
   ]
  },
  {
   "cell_type": "code",
   "execution_count": 80,
   "metadata": {},
   "outputs": [
    {
     "data": {
      "text/plain": [
       "<matplotlib.collections.PathCollection at 0x1ad2f419808>"
      ]
     },
     "execution_count": 80,
     "metadata": {},
     "output_type": "execute_result"
    },
    {
     "data": {
      "image/png": "[encoded data removed]",
      "text/plain": [
       "<Figure size 432x288 with 1 Axes>"
      ]
     },
     "metadata": {
      "needs_background": "light"
     },
     "output_type": "display_data"
    }
   ],
   "source": [
    "plt.scatter(df['origin'],df['mpg'])"
   ]
  },
  {
   "cell_type": "code",
   "execution_count": 86,
   "metadata": {},
   "outputs": [
    {
     "data": {
      "text/plain": [
       "<matplotlib.collections.PathCollection at 0x1ad2f5f7c48>"
      ]
     },
     "execution_count": 86,
     "metadata": {},
     "output_type": "execute_result"
    },
    {
     "data": {
      "image/png": "[encoded data removed]",
      "text/plain": [
       "<Figure size 432x288 with 1 Axes>"
      ]
     },
     "metadata": {
      "needs_background": "light"
     },
     "output_type": "display_data"
    }
   ],
   "source": [
    "plt.scatter(df['modelyear'],df['mpg'])"
   ]
  },
  {
   "cell_type": "code",
   "execution_count": 88,
   "metadata": {},
   "outputs": [
    {
     "data": {
      "text/plain": [
       "<matplotlib.collections.PathCollection at 0x1ad2f7f58c8>"
      ]
     },
     "execution_count": 88,
     "metadata": {},
     "output_type": "execute_result"
    },
    {
     "data": {
      "image/png": "[encoded data removed]",
      "text/plain": [
       "<Figure size 432x288 with 1 Axes>"
      ]
     },
     "metadata": {
      "needs_background": "light"
     },
     "output_type": "display_data"
    }
   ],
   "source": [
    "plt.scatter(df['carname'],df['mpg'])"
   ]
  },
  {
   "cell_type": "markdown",
   "metadata": {},
   "source": [
    "# Pre-processing Pipeline\n"
   ]
  },
  {
   "cell_type": "code",
   "execution_count": 23,
   "metadata": {},
   "outputs": [
    {
     "data": {
      "text/plain": [
       "array([[1.09184315, 0.60293379, 1.48157516, 1.63493738, 0.73704171,\n",
       "        1.26237816],\n",
       "       [0.70777286, 0.80507148, 1.66327087, 1.63493738, 0.73704171,\n",
       "        0.91990502],\n",
       "       [0.96381972, 0.80507148, 1.29987946, 1.63493738, 0.73704171,\n",
       "        1.50858447],\n",
       "       ...,\n",
       "       [1.08455517, 0.91309889, 1.44523602, 1.62126734, 0.73704171,\n",
       "        0.33350891],\n",
       "       [0.57246145, 0.74465081, 1.09850386, 1.62126734, 0.73704171,\n",
       "        0.11413892],\n",
       "       [0.95653174, 0.84571966, 1.38921699, 1.62126734, 0.73704171,\n",
       "        0.8930687 ]])"
      ]
     },
     "execution_count": 23,
     "metadata": {},
     "output_type": "execute_result"
    }
   ],
   "source": [
    "from scipy.stats import zscore\n",
    "z=np.abs(zscore(df))\n",
    "z"
   ]
  },
  {
   "cell_type": "code",
   "execution_count": 24,
   "metadata": {},
   "outputs": [
    {
     "name": "stdout",
     "output_type": "stream",
     "text": [
      "(array([298, 393], dtype=int64), array([2, 2], dtype=int64))\n"
     ]
    }
   ],
   "source": [
    "threshold=3\n",
    "print(np.where(z>3))"
   ]
  },
  {
   "cell_type": "code",
   "execution_count": 25,
   "metadata": {},
   "outputs": [],
   "source": [
    "df_new=df[((z<3).all(axis=1))] #Removing the outliers"
   ]
  },
  {
   "cell_type": "code",
   "execution_count": 26,
   "metadata": {},
   "outputs": [
    {
     "data": {
      "text/plain": [
       "(395, 6)"
      ]
     },
     "execution_count": 26,
     "metadata": {},
     "output_type": "execute_result"
    }
   ],
   "source": [
    "df_new.shape"
   ]
  },
  {
   "cell_type": "code",
   "execution_count": 27,
   "metadata": {},
   "outputs": [
    {
     "data": {
      "text/plain": [
       "(397, 6)"
      ]
     },
     "execution_count": 27,
     "metadata": {},
     "output_type": "execute_result"
    }
   ],
   "source": [
    "df.shape"
   ]
  },
  {
   "cell_type": "markdown",
   "metadata": {},
   "source": [
    "# 5.Building Machine Learning Models"
   ]
  },
  {
   "cell_type": "markdown",
   "metadata": {},
   "source": [
    "Since our target variable is continuous variable, there we will take regression models."
   ]
  },
  {
   "cell_type": "code",
   "execution_count": 53,
   "metadata": {},
   "outputs": [],
   "source": [
    "#Now lets train and test our data. Here our target variable is y i.e mpg, and our input variables is x"
   ]
  },
  {
   "cell_type": "code",
   "execution_count": 28,
   "metadata": {},
   "outputs": [
    {
     "data": {
      "text/html": [
       "<div>\n",
       "<style scoped>\n",
       "    .dataframe tbody tr th:only-of-type {\n",
       "        vertical-align: middle;\n",
       "    }\n",
       "\n",
       "    .dataframe tbody tr th {\n",
       "        vertical-align: top;\n",
       "    }\n",
       "\n",
       "    .dataframe thead th {\n",
       "        text-align: right;\n",
       "    }\n",
       "</style>\n",
       "<table border=\"1\" class=\"dataframe\">\n",
       "  <thead>\n",
       "    <tr style=\"text-align: right;\">\n",
       "      <th></th>\n",
       "      <th>mpg</th>\n",
       "      <th>horsepower</th>\n",
       "      <th>acceleration</th>\n",
       "      <th>modelyear</th>\n",
       "      <th>origin</th>\n",
       "      <th>carname</th>\n",
       "    </tr>\n",
       "  </thead>\n",
       "  <tbody>\n",
       "    <tr>\n",
       "      <td>0</td>\n",
       "      <td>15.0</td>\n",
       "      <td>33</td>\n",
       "      <td>11.5</td>\n",
       "      <td>70</td>\n",
       "      <td>0.693147</td>\n",
       "      <td>36</td>\n",
       "    </tr>\n",
       "    <tr>\n",
       "      <td>1</td>\n",
       "      <td>18.0</td>\n",
       "      <td>27</td>\n",
       "      <td>11.0</td>\n",
       "      <td>70</td>\n",
       "      <td>0.693147</td>\n",
       "      <td>231</td>\n",
       "    </tr>\n",
       "    <tr>\n",
       "      <td>2</td>\n",
       "      <td>16.0</td>\n",
       "      <td>27</td>\n",
       "      <td>12.0</td>\n",
       "      <td>70</td>\n",
       "      <td>0.693147</td>\n",
       "      <td>14</td>\n",
       "    </tr>\n",
       "    <tr>\n",
       "      <td>3</td>\n",
       "      <td>17.0</td>\n",
       "      <td>22</td>\n",
       "      <td>10.5</td>\n",
       "      <td>70</td>\n",
       "      <td>0.693147</td>\n",
       "      <td>161</td>\n",
       "    </tr>\n",
       "    <tr>\n",
       "      <td>4</td>\n",
       "      <td>15.0</td>\n",
       "      <td>40</td>\n",
       "      <td>10.0</td>\n",
       "      <td>70</td>\n",
       "      <td>0.693147</td>\n",
       "      <td>141</td>\n",
       "    </tr>\n",
       "    <tr>\n",
       "      <td>...</td>\n",
       "      <td>...</td>\n",
       "      <td>...</td>\n",
       "      <td>...</td>\n",
       "      <td>...</td>\n",
       "      <td>...</td>\n",
       "      <td>...</td>\n",
       "    </tr>\n",
       "    <tr>\n",
       "      <td>391</td>\n",
       "      <td>27.0</td>\n",
       "      <td>84</td>\n",
       "      <td>17.3</td>\n",
       "      <td>82</td>\n",
       "      <td>0.693147</td>\n",
       "      <td>43</td>\n",
       "    </tr>\n",
       "    <tr>\n",
       "      <td>392</td>\n",
       "      <td>27.0</td>\n",
       "      <td>80</td>\n",
       "      <td>15.6</td>\n",
       "      <td>82</td>\n",
       "      <td>0.693147</td>\n",
       "      <td>153</td>\n",
       "    </tr>\n",
       "    <tr>\n",
       "      <td>394</td>\n",
       "      <td>32.0</td>\n",
       "      <td>78</td>\n",
       "      <td>11.6</td>\n",
       "      <td>82</td>\n",
       "      <td>0.693147</td>\n",
       "      <td>119</td>\n",
       "    </tr>\n",
       "    <tr>\n",
       "      <td>395</td>\n",
       "      <td>28.0</td>\n",
       "      <td>73</td>\n",
       "      <td>18.6</td>\n",
       "      <td>82</td>\n",
       "      <td>0.693147</td>\n",
       "      <td>159</td>\n",
       "    </tr>\n",
       "    <tr>\n",
       "      <td>396</td>\n",
       "      <td>31.0</td>\n",
       "      <td>76</td>\n",
       "      <td>19.4</td>\n",
       "      <td>82</td>\n",
       "      <td>0.693147</td>\n",
       "      <td>69</td>\n",
       "    </tr>\n",
       "  </tbody>\n",
       "</table>\n",
       "<p>395 rows × 6 columns</p>\n",
       "</div>"
      ],
      "text/plain": [
       "      mpg  horsepower  acceleration  modelyear    origin  carname\n",
       "0    15.0          33          11.5         70  0.693147       36\n",
       "1    18.0          27          11.0         70  0.693147      231\n",
       "2    16.0          27          12.0         70  0.693147       14\n",
       "3    17.0          22          10.5         70  0.693147      161\n",
       "4    15.0          40          10.0         70  0.693147      141\n",
       "..    ...         ...           ...        ...       ...      ...\n",
       "391  27.0          84          17.3         82  0.693147       43\n",
       "392  27.0          80          15.6         82  0.693147      153\n",
       "394  32.0          78          11.6         82  0.693147      119\n",
       "395  28.0          73          18.6         82  0.693147      159\n",
       "396  31.0          76          19.4         82  0.693147       69\n",
       "\n",
       "[395 rows x 6 columns]"
      ]
     },
     "execution_count": 28,
     "metadata": {},
     "output_type": "execute_result"
    }
   ],
   "source": [
    "df_new"
   ]
  },
  {
   "cell_type": "code",
   "execution_count": 29,
   "metadata": {},
   "outputs": [],
   "source": [
    "x=df_new.iloc[:,1:]"
   ]
  },
  {
   "cell_type": "code",
   "execution_count": 30,
   "metadata": {},
   "outputs": [
    {
     "data": {
      "text/html": [
       "<div>\n",
       "<style scoped>\n",
       "    .dataframe tbody tr th:only-of-type {\n",
       "        vertical-align: middle;\n",
       "    }\n",
       "\n",
       "    .dataframe tbody tr th {\n",
       "        vertical-align: top;\n",
       "    }\n",
       "\n",
       "    .dataframe thead th {\n",
       "        text-align: right;\n",
       "    }\n",
       "</style>\n",
       "<table border=\"1\" class=\"dataframe\">\n",
       "  <thead>\n",
       "    <tr style=\"text-align: right;\">\n",
       "      <th></th>\n",
       "      <th>horsepower</th>\n",
       "      <th>acceleration</th>\n",
       "      <th>modelyear</th>\n",
       "      <th>origin</th>\n",
       "      <th>carname</th>\n",
       "    </tr>\n",
       "  </thead>\n",
       "  <tbody>\n",
       "    <tr>\n",
       "      <td>0</td>\n",
       "      <td>33</td>\n",
       "      <td>11.5</td>\n",
       "      <td>70</td>\n",
       "      <td>0.693147</td>\n",
       "      <td>36</td>\n",
       "    </tr>\n",
       "    <tr>\n",
       "      <td>1</td>\n",
       "      <td>27</td>\n",
       "      <td>11.0</td>\n",
       "      <td>70</td>\n",
       "      <td>0.693147</td>\n",
       "      <td>231</td>\n",
       "    </tr>\n",
       "    <tr>\n",
       "      <td>2</td>\n",
       "      <td>27</td>\n",
       "      <td>12.0</td>\n",
       "      <td>70</td>\n",
       "      <td>0.693147</td>\n",
       "      <td>14</td>\n",
       "    </tr>\n",
       "    <tr>\n",
       "      <td>3</td>\n",
       "      <td>22</td>\n",
       "      <td>10.5</td>\n",
       "      <td>70</td>\n",
       "      <td>0.693147</td>\n",
       "      <td>161</td>\n",
       "    </tr>\n",
       "    <tr>\n",
       "      <td>4</td>\n",
       "      <td>40</td>\n",
       "      <td>10.0</td>\n",
       "      <td>70</td>\n",
       "      <td>0.693147</td>\n",
       "      <td>141</td>\n",
       "    </tr>\n",
       "    <tr>\n",
       "      <td>...</td>\n",
       "      <td>...</td>\n",
       "      <td>...</td>\n",
       "      <td>...</td>\n",
       "      <td>...</td>\n",
       "      <td>...</td>\n",
       "    </tr>\n",
       "    <tr>\n",
       "      <td>391</td>\n",
       "      <td>84</td>\n",
       "      <td>17.3</td>\n",
       "      <td>82</td>\n",
       "      <td>0.693147</td>\n",
       "      <td>43</td>\n",
       "    </tr>\n",
       "    <tr>\n",
       "      <td>392</td>\n",
       "      <td>80</td>\n",
       "      <td>15.6</td>\n",
       "      <td>82</td>\n",
       "      <td>0.693147</td>\n",
       "      <td>153</td>\n",
       "    </tr>\n",
       "    <tr>\n",
       "      <td>394</td>\n",
       "      <td>78</td>\n",
       "      <td>11.6</td>\n",
       "      <td>82</td>\n",
       "      <td>0.693147</td>\n",
       "      <td>119</td>\n",
       "    </tr>\n",
       "    <tr>\n",
       "      <td>395</td>\n",
       "      <td>73</td>\n",
       "      <td>18.6</td>\n",
       "      <td>82</td>\n",
       "      <td>0.693147</td>\n",
       "      <td>159</td>\n",
       "    </tr>\n",
       "    <tr>\n",
       "      <td>396</td>\n",
       "      <td>76</td>\n",
       "      <td>19.4</td>\n",
       "      <td>82</td>\n",
       "      <td>0.693147</td>\n",
       "      <td>69</td>\n",
       "    </tr>\n",
       "  </tbody>\n",
       "</table>\n",
       "<p>395 rows × 5 columns</p>\n",
       "</div>"
      ],
      "text/plain": [
       "     horsepower  acceleration  modelyear    origin  carname\n",
       "0            33          11.5         70  0.693147       36\n",
       "1            27          11.0         70  0.693147      231\n",
       "2            27          12.0         70  0.693147       14\n",
       "3            22          10.5         70  0.693147      161\n",
       "4            40          10.0         70  0.693147      141\n",
       "..          ...           ...        ...       ...      ...\n",
       "391          84          17.3         82  0.693147       43\n",
       "392          80          15.6         82  0.693147      153\n",
       "394          78          11.6         82  0.693147      119\n",
       "395          73          18.6         82  0.693147      159\n",
       "396          76          19.4         82  0.693147       69\n",
       "\n",
       "[395 rows x 5 columns]"
      ]
     },
     "execution_count": 30,
     "metadata": {},
     "output_type": "execute_result"
    }
   ],
   "source": [
    "x"
   ]
  },
  {
   "cell_type": "code",
   "execution_count": 31,
   "metadata": {},
   "outputs": [],
   "source": [
    "y=df_new[['mpg']]"
   ]
  },
  {
   "cell_type": "code",
   "execution_count": 58,
   "metadata": {},
   "outputs": [],
   "source": [
    "#Scaling the input variable\n",
    "#Linearregression algorithm requires all features to be on common scale"
   ]
  },
  {
   "cell_type": "code",
   "execution_count": 32,
   "metadata": {},
   "outputs": [],
   "source": [
    "from sklearn.preprocessing import StandardScaler\n",
    "scale = StandardScaler()\n",
    "x = scale.fit_transform(x)"
   ]
  },
  {
   "cell_type": "code",
   "execution_count": 33,
   "metadata": {},
   "outputs": [
    {
     "name": "stdout",
     "output_type": "stream",
     "text": [
      "max r2 score corresponding to 94 is 0.7390520149310098\n"
     ]
    }
   ],
   "source": [
    "from sklearn.metrics import mean_absolute_error\n",
    "from sklearn.metrics import mean_squared_error\n",
    "from sklearn.metrics import r2_score\n",
    "from sklearn import linear_model\n",
    "\n",
    "max_r_score = 0\n",
    "for r_state in range(42,100):\n",
    "    x_train,x_test,y_train,y_test = train_test_split(x,y,random_state=r_state,test_size = 0.20)\n",
    "    regr = linear_model.LinearRegression()\n",
    "    regr.fit(x_train,y_train)\n",
    "    pred = regr.predict(x_test)\n",
    "    r2_scr = r2_score(y_test,pred)\n",
    "    if r2_scr>max_r_score:\n",
    "        max_r_score = r2_scr\n",
    "        final_r_state = r_state\n",
    "print('max r2 score corresponding to',final_r_state,'is',max_r_score)"
   ]
  },
  {
   "cell_type": "code",
   "execution_count": 62,
   "metadata": {},
   "outputs": [],
   "source": [
    "#lets cross validate to avoid over fitting and undefitting of the model"
   ]
  },
  {
   "cell_type": "code",
   "execution_count": 34,
   "metadata": {},
   "outputs": [
    {
     "data": {
      "text/plain": [
       "0.32538564275689064"
      ]
     },
     "execution_count": 34,
     "metadata": {},
     "output_type": "execute_result"
    }
   ],
   "source": [
    "from sklearn.model_selection import cross_val_score\n",
    "cross_val_score(linear_model.LinearRegression(),x,y,cv=10,scoring ='r2').mean()"
   ]
  },
  {
   "cell_type": "code",
   "execution_count": 35,
   "metadata": {},
   "outputs": [],
   "source": [
    "x_train,x_test,y_train,y_test = train_test_split(x,y,random_state = 94,test_size=0.20)\n",
    "lreg = linear_model.LinearRegression()\n",
    "lreg.fit(x_train,y_train)\n",
    "pred = lreg.predict(x_test)"
   ]
  },
  {
   "cell_type": "code",
   "execution_count": 36,
   "metadata": {},
   "outputs": [
    {
     "data": {
      "text/plain": [
       "0.617255462933229"
      ]
     },
     "execution_count": 36,
     "metadata": {},
     "output_type": "execute_result"
    }
   ],
   "source": [
    "lreg.score(x_train,y_train)"
   ]
  },
  {
   "cell_type": "code",
   "execution_count": 38,
   "metadata": {},
   "outputs": [
    {
     "name": "stdout",
     "output_type": "stream",
     "text": [
      "error\n",
      "Mean squared: 3.3499286695946164\n",
      "Mean Squared error: 16.54657166340413\n",
      "Root Mean Squared Error: 4.067747738417923\n",
      "r2 score: 0.7390520149310098\n"
     ]
    }
   ],
   "source": [
    "print('error')\n",
    "print('Mean squared:', mean_absolute_error(y_test,pred))\n",
    "print('Mean Squared error:',mean_squared_error(y_test,pred))\n",
    "print('Root Mean Squared Error:',np.sqrt(mean_squared_error(y_test,pred)))\n",
    "print('r2 score:',r2_score(y_test,pred))"
   ]
  },
  {
   "cell_type": "code",
   "execution_count": 47,
   "metadata": {},
   "outputs": [
    {
     "name": "stdout",
     "output_type": "stream",
     "text": [
      "{'criterion': 'mae', 'max_depth': 8, 'max_features': 'sqrt', 'n_estimators': 500, 'random_state': 42}\n",
      "0.679122506426872\n"
     ]
    }
   ],
   "source": [
    "from sklearn.ensemble import RandomForestRegressor\n",
    "from sklearn.model_selection import GridSearchCV\n",
    "rf = RandomForestRegressor()\n",
    "param_grid = { \n",
    "    'n_estimators': [200, 500],\n",
    "    'max_features': ['auto', 'sqrt', 'log2'],\n",
    "    'max_depth' : [4,5,6,7,8],\n",
    "    'criterion' :['mse', 'mae'],\n",
    "    'random_state' :[42,46,55,58]\n",
    "}\n",
    "\n",
    "gd_sr = GridSearchCV(estimator=rf,\n",
    "                    param_grid=param_grid,\n",
    "                    scoring='r2',cv=5)\n",
    "gd_sr.fit(x,y)\n",
    "\n",
    "best_parameters = gd_sr.best_params_\n",
    "print(best_parameters)\n",
    "best_result = gd_sr.best_score_\n",
    "print(best_result)"
   ]
  },
  {
   "cell_type": "code",
   "execution_count": 50,
   "metadata": {},
   "outputs": [
    {
     "data": {
      "text/plain": [
       "RandomForestRegressor(bootstrap=True, criterion='mae', max_depth=8,\n",
       "                      max_features='sqrt', max_leaf_nodes=None,\n",
       "                      min_impurity_decrease=0.0, min_impurity_split=None,\n",
       "                      min_samples_leaf=1, min_samples_split=2,\n",
       "                      min_weight_fraction_leaf=0.0, n_estimators=200,\n",
       "                      n_jobs=None, oob_score=False, random_state=42, verbose=0,\n",
       "                      warm_start=False)"
      ]
     },
     "execution_count": 50,
     "metadata": {},
     "output_type": "execute_result"
    }
   ],
   "source": [
    "rf=RandomForestRegressor(n_estimators = 200, random_state = 42, max_features = 'sqrt', max_depth = 8, criterion = 'mae')\n",
    "rf.fit(x_train,y_train)"
   ]
  },
  {
   "cell_type": "code",
   "execution_count": 51,
   "metadata": {},
   "outputs": [
    {
     "data": {
      "text/plain": [
       "0.9480896862895514"
      ]
     },
     "execution_count": 51,
     "metadata": {},
     "output_type": "execute_result"
    }
   ],
   "source": [
    "rf.score(x_train,y_train)"
   ]
  },
  {
   "cell_type": "code",
   "execution_count": 52,
   "metadata": {},
   "outputs": [
    {
     "data": {
      "text/plain": [
       "array([16.12025, 24.20475, 22.0005 , 22.1725 , 19.33375, 14.643  ,\n",
       "       28.23625, 27.59825, 17.47975, 31.2145 , 34.847  , 32.299  ,\n",
       "       13.66425, 24.334  , 29.017  , 20.02475, 32.3145 , 28.73925,\n",
       "       31.14725, 26.4595 , 15.3695 , 17.2625 , 30.232  , 15.0675 ,\n",
       "       14.68575, 19.08275, 24.83525, 29.44725, 13.73425, 31.80425,\n",
       "       20.37725, 33.8955 , 28.67075, 14.27875, 24.46675, 23.49825,\n",
       "       13.375  , 14.7    , 23.14275, 21.46625, 27.6725 , 33.55925,\n",
       "       19.44075, 31.965  , 13.1275 , 33.327  , 34.22975, 16.49475,\n",
       "       18.0055 , 34.265  , 17.9645 , 14.20525, 30.85175, 31.00325,\n",
       "       12.975  , 36.7495 , 26.382  , 27.177  , 13.87175, 15.01825,\n",
       "       23.826  , 13.57   , 23.136  , 23.07125, 23.86325, 14.673  ,\n",
       "       25.023  , 17.63425, 24.27925, 33.90425, 14.0925 , 13.14525,\n",
       "       26.25225, 14.53825, 24.76075, 24.26925, 33.14725, 20.99525,\n",
       "       16.2605 ])"
      ]
     },
     "execution_count": 52,
     "metadata": {},
     "output_type": "execute_result"
    }
   ],
   "source": [
    "pred = rf.predict(x_test)\n",
    "pred"
   ]
  },
  {
   "cell_type": "code",
   "execution_count": 53,
   "metadata": {},
   "outputs": [],
   "source": [
    "#lets cross validate to avoid over fitting and undefitting of the model"
   ]
  },
  {
   "cell_type": "code",
   "execution_count": 54,
   "metadata": {},
   "outputs": [
    {
     "data": {
      "text/plain": [
       "0.6847251518523646"
      ]
     },
     "execution_count": 54,
     "metadata": {},
     "output_type": "execute_result"
    }
   ],
   "source": [
    "cross_val_score(rf,x,y,cv=10,scoring ='r2').mean()"
   ]
  },
  {
   "cell_type": "raw",
   "metadata": {},
   "source": [
    "Observation:\n",
    "    --Since crossvalidation score is less than the algorithm score,therefore our model is not overfitting or underfitting."
   ]
  },
  {
   "cell_type": "code",
   "execution_count": 82,
   "metadata": {},
   "outputs": [],
   "source": [
    "#rf is giving the best score so we will save this model."
   ]
  },
  {
   "cell_type": "code",
   "execution_count": 84,
   "metadata": {},
   "outputs": [
    {
     "data": {
      "text/plain": [
       "array([16.12025, 24.20475, 22.0005 , 22.1725 , 19.33375, 14.643  ,\n",
       "       28.23625, 27.59825, 17.47975, 31.2145 , 34.847  , 32.299  ,\n",
       "       13.66425, 24.334  , 29.017  , 20.02475, 32.3145 , 28.73925,\n",
       "       31.14725, 26.4595 , 15.3695 , 17.2625 , 30.232  , 15.0675 ,\n",
       "       14.68575, 19.08275, 24.83525, 29.44725, 13.73425, 31.80425,\n",
       "       20.37725, 33.8955 , 28.67075, 14.27875, 24.46675, 23.49825,\n",
       "       13.375  , 14.7    , 23.14275, 21.46625, 27.6725 , 33.55925,\n",
       "       19.44075, 31.965  , 13.1275 , 33.327  , 34.22975, 16.49475,\n",
       "       18.0055 , 34.265  , 17.9645 , 14.20525, 30.85175, 31.00325,\n",
       "       12.975  , 36.7495 , 26.382  , 27.177  , 13.87175, 15.01825,\n",
       "       23.826  , 13.57   , 23.136  , 23.07125, 23.86325, 14.673  ,\n",
       "       25.023  , 17.63425, 24.27925, 33.90425, 14.0925 , 13.14525,\n",
       "       26.25225, 14.53825, 24.76075, 24.26925, 33.14725, 20.99525,\n",
       "       16.2605 ])"
      ]
     },
     "execution_count": 84,
     "metadata": {},
     "output_type": "execute_result"
    }
   ],
   "source": [
    "from sklearn.externals import joblib\n",
    "joblib.dump(rf,'rfmpg.obj')\n",
    "rf_from_joblib = joblib.load('rfmpg.obj')\n",
    "rf_from_joblib.predict(x_test) "
   ]
  },
  {
   "cell_type": "code",
   "execution_count": 85,
   "metadata": {},
   "outputs": [
    {
     "data": {
      "text/plain": [
       "Index(['mpg', 'horsepower', 'acceleration', 'modelyear', 'origin', 'carname'], dtype='object')"
      ]
     },
     "execution_count": 85,
     "metadata": {},
     "output_type": "execute_result"
    }
   ],
   "source": [
    "df_new.columns"
   ]
  },
  {
   "cell_type": "markdown",
   "metadata": {},
   "source": [
    "# 6. Conclusion"
   ]
  },
  {
   "cell_type": "markdown",
   "metadata": {},
   "source": [
    "Mpg is positively correlated with horsepower, acceleration, modelyear , origin and carname"
   ]
  },
  {
   "cell_type": "markdown",
   "metadata": {},
   "source": [
    "cars with horsepower ranges (60-80) more mpg is consumed."
   ]
  },
  {
   "cell_type": "markdown",
   "metadata": {},
   "source": [
    "Cars with model year 80 has consumed more mpg."
   ]
  },
  {
   "cell_type": "markdown",
   "metadata": {},
   "source": [
    "Horsepower data is negatively skewed meaning data is not evenly distributed."
   ]
  },
  {
   "cell_type": "code",
   "execution_count": null,
   "metadata": {},
   "outputs": [],
   "source": []
  },
  {
   "cell_type": "code",
   "execution_count": null,
   "metadata": {},
   "outputs": [],
   "source": []
  }
 ],
 "metadata": {
  "kernelspec": {
   "display_name": "Python 3",
   "language": "python",
   "name": "python3"
  },
  "language_info": {
   "codemirror_mode": {
    "name": "ipython",
    "version": 3
   },
   "file_extension": ".py",
   "mimetype": "text/x-python",
   "name": "python",
   "nbconvert_exporter": "python",
   "pygments_lexer": "ipython3",
   "version": "3.7.4"
  }
 },
 "nbformat": 4,
 "nbformat_minor": 2
}
