{
 "cells": [
  {
   "cell_type": "markdown",
   "metadata": {},
   "source": [
    "1. C"
   ]
  },
  {
   "cell_type": "markdown",
   "metadata": {},
   "source": [
    "2. D"
   ]
  },
  {
   "cell_type": "markdown",
   "metadata": {},
   "source": [
    "3. C"
   ]
  },
  {
   "cell_type": "markdown",
   "metadata": {},
   "source": [
    "4 . D"
   ]
  },
  {
   "cell_type": "markdown",
   "metadata": {},
   "source": [
    "5. C"
   ]
  },
  {
   "cell_type": "markdown",
   "metadata": {},
   "source": [
    "6. B"
   ]
  },
  {
   "cell_type": "markdown",
   "metadata": {},
   "source": [
    "7. C"
   ]
  },
  {
   "cell_type": "markdown",
   "metadata": {},
   "source": [
    "8. A,C"
   ]
  },
  {
   "cell_type": "markdown",
   "metadata": {},
   "source": [
    "10. A,B,D "
   ]
  },
  {
   "cell_type": "markdown",
   "metadata": {},
   "source": [
    "11. What are outliers? Explain the inter Quartile Range(IQR) method for outlier detection.\n",
    "\n",
    "Ans.\n",
    "Outliers are data points that are far away from other observations. An outlier may occur because of extreme values, baiseness, error in typing etc.\n",
    "Inter Quartile Range(IQR) method:\n",
    "We can detect outliers through box plot, in case of a normal distribution, the box plot in divided into four equal parts lower extreme, lower quartile(25%), median(50%), upper quartile(75%), upper extreme. The range between lower quartile and upper quartile is known as inter quartile range, and lower extreme and upper extreme are the lowest value and highest value of the data, anything lieing below lower extreme or anything lying above upper extreme are detected as outliers."
   ]
  },
  {
   "cell_type": "markdown",
   "metadata": {},
   "source": [
    "12. What is the primary difference between bagging and boosting algorithms?\n",
    "\n",
    "Ans. Bagging:\n",
    "Bagging is a process of combining results of all models created on subsets of original data.\n",
    "\n",
    "Boosting:\n",
    "Boosting is a sequential process, where each subsequent model corrects the errors of the previous model. The next model is dependent on the previous model.Multiple model are made each correcting the errors of the previous model, hence the resultant model is the weighted mean of all the models.\n",
    "\n"
   ]
  },
  {
   "cell_type": "markdown",
   "metadata": {},
   "source": [
    "13. What is adjusted R2 in logistic regression. How it is calculated?\n",
    "Ans. R2 is a measure to determine how close the data is to the fitred regression line. It is the percentage of variation of the target variable that is explained by the linear model.\n",
    "\n",
    "R2 is calculated by subtracting the remainder of mean squared error of regression line divided by mean square error of the average of the data from 1."
   ]
  },
  {
   "cell_type": "markdown",
   "metadata": {},
   "source": [
    "14. What is the difference between standardization and normalisation?\n",
    "\n",
    "Ans. Normalisation:\n",
    "Normalisation is a scaling technique, where the values are made in a uniform ranges, its ranges from 0 to 1.\n",
    "\n",
    "Standardization:\n",
    "Standardization is a scaling technique where mean are made zero and standard deviation 1."
   ]
  },
  {
   "cell_type": "markdown",
   "metadata": {},
   "source": [
    "15. What is cross validation? Describe one advantage and one disadvantage of using cross-validation.\n",
    "\n",
    "Ans. Cross Validation: \n",
    "Cross validation is a technique where the data is divided into n no. of folds. then each fold is train and tested. Lastly average of mean is taken. Cross validation is mainly used to detect overfitting or underfitting of the model.\n",
    "\n",
    "Advantage:Prevent from overfitting or underfitting.\n",
    "Disadvantage:Increases training time since earlier only one data set has to be trained but now multiple data set has to be trained."
   ]
  },
  {
   "cell_type": "code",
   "execution_count": null,
   "metadata": {},
   "outputs": [],
   "source": []
  }
 ],
 "metadata": {
  "kernelspec": {
   "display_name": "Python 3",
   "language": "python",
   "name": "python3"
  },
  "language_info": {
   "codemirror_mode": {
    "name": "ipython",
    "version": 3
   },
   "file_extension": ".py",
   "mimetype": "text/x-python",
   "name": "python",
   "nbconvert_exporter": "python",
   "pygments_lexer": "ipython3",
   "version": "3.7.4"
  }
 },
 "nbformat": 4,
 "nbformat_minor": 2
}
