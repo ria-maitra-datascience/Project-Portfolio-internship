{
 "cells": [
  {
   "cell_type": "markdown",
   "metadata": {},
   "source": [
    "1. A\n",
    "2. B\n",
    "3. B\n",
    "4. D\n",
    "5. C\n",
    "6. D\n",
    "7. A\n",
    "8. B\n",
    "9. A\n",
    "10. C\n",
    "11. C\n",
    "12. B\n",
    "13. C\n",
    "14. A\n",
    "15. A"
   ]
  },
  {
   "cell_type": "code",
   "execution_count": null,
   "metadata": {},
   "outputs": [],
   "source": []
  }
 ],
 "metadata": {
  "kernelspec": {
   "display_name": "Python 3",
   "language": "python",
   "name": "python3"
  },
  "language_info": {
   "codemirror_mode": {
    "name": "ipython",
    "version": 3
   },
   "file_extension": ".py",
   "mimetype": "text/x-python",
   "name": "python",
   "nbconvert_exporter": "python",
   "pygments_lexer": "ipython3",
   "version": "3.7.4"
  }
 },
 "nbformat": 4,
 "nbformat_minor": 2
}
