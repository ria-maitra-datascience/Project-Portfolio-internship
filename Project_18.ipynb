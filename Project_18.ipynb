{
 "cells": [
  {
   "cell_type": "code",
   "execution_count": null,
   "metadata": {},
   "outputs": [],
   "source": []
  },
  {
   "cell_type": "code",
   "execution_count": 1,
   "metadata": {},
   "outputs": [],
   "source": [
    "import pandas as pd\n",
    "import numpy as np\n",
    "import seaborn as sns\n",
    "import matplotlib.pyplot as plt\n",
    "from sklearn.preprocessing import LabelEncoder\n",
    "from sklearn.linear_model import LinearRegression\n",
    "from sklearn.metrics import mean_squared_error,mean_absolute_error\n",
    "\n",
    "from sklearn.model_selection import train_test_split\n",
    "import warnings\n",
    "warnings.filterwarnings('ignore')"
   ]
  },
  {
   "cell_type": "code",
   "execution_count": 2,
   "metadata": {},
   "outputs": [
    {
     "data": {
      "text/html": [
       "<div>\n",
       "<style scoped>\n",
       "    .dataframe tbody tr th:only-of-type {\n",
       "        vertical-align: middle;\n",
       "    }\n",
       "\n",
       "    .dataframe tbody tr th {\n",
       "        vertical-align: top;\n",
       "    }\n",
       "\n",
       "    .dataframe thead th {\n",
       "        text-align: right;\n",
       "    }\n",
       "</style>\n",
       "<table border=\"1\" class=\"dataframe\">\n",
       "  <thead>\n",
       "    <tr style=\"text-align: right;\">\n",
       "      <th></th>\n",
       "      <th>Date</th>\n",
       "      <th>Country</th>\n",
       "      <th>Population</th>\n",
       "      <th>Total Tests</th>\n",
       "      <th>Total Cases</th>\n",
       "      <th>Total Deaths</th>\n",
       "      <th>Total Recovered</th>\n",
       "      <th>Serious or Critical</th>\n",
       "      <th>Active Cases</th>\n",
       "    </tr>\n",
       "  </thead>\n",
       "  <tbody>\n",
       "    <tr>\n",
       "      <td>0</td>\n",
       "      <td>2020-04-18</td>\n",
       "      <td>USA</td>\n",
       "      <td>330774664</td>\n",
       "      <td>3722145.0</td>\n",
       "      <td>738792.0</td>\n",
       "      <td>39014.0</td>\n",
       "      <td>68269.0</td>\n",
       "      <td>13551.0</td>\n",
       "      <td>631509.0</td>\n",
       "    </tr>\n",
       "    <tr>\n",
       "      <td>1</td>\n",
       "      <td>2020-04-18</td>\n",
       "      <td>Russia</td>\n",
       "      <td>145927292</td>\n",
       "      <td>1831892.0</td>\n",
       "      <td>36793.0</td>\n",
       "      <td>313.0</td>\n",
       "      <td>3057.0</td>\n",
       "      <td>8.0</td>\n",
       "      <td>33423.0</td>\n",
       "    </tr>\n",
       "    <tr>\n",
       "      <td>2</td>\n",
       "      <td>2020-04-18</td>\n",
       "      <td>Spain</td>\n",
       "      <td>46752703</td>\n",
       "      <td>930230.0</td>\n",
       "      <td>194416.0</td>\n",
       "      <td>20043.0</td>\n",
       "      <td>74797.0</td>\n",
       "      <td>7371.0</td>\n",
       "      <td>99576.0</td>\n",
       "    </tr>\n",
       "    <tr>\n",
       "      <td>3</td>\n",
       "      <td>2020-04-18</td>\n",
       "      <td>Brazil</td>\n",
       "      <td>212380932</td>\n",
       "      <td>62985.0</td>\n",
       "      <td>36722.0</td>\n",
       "      <td>2361.0</td>\n",
       "      <td>14026.0</td>\n",
       "      <td>6634.0</td>\n",
       "      <td>20335.0</td>\n",
       "    </tr>\n",
       "    <tr>\n",
       "      <td>4</td>\n",
       "      <td>2020-04-18</td>\n",
       "      <td>UK</td>\n",
       "      <td>67844241</td>\n",
       "      <td>460437.0</td>\n",
       "      <td>114217.0</td>\n",
       "      <td>15464.0</td>\n",
       "      <td>NaN</td>\n",
       "      <td>1559.0</td>\n",
       "      <td>98409.0</td>\n",
       "    </tr>\n",
       "    <tr>\n",
       "      <td>...</td>\n",
       "      <td>...</td>\n",
       "      <td>...</td>\n",
       "      <td>...</td>\n",
       "      <td>...</td>\n",
       "      <td>...</td>\n",
       "      <td>...</td>\n",
       "      <td>...</td>\n",
       "      <td>...</td>\n",
       "      <td>...</td>\n",
       "    </tr>\n",
       "    <tr>\n",
       "      <td>213</td>\n",
       "      <td>2020-04-19</td>\n",
       "      <td>USA</td>\n",
       "      <td>330774664</td>\n",
       "      <td>3861549.0</td>\n",
       "      <td>763832.0</td>\n",
       "      <td>40553.0</td>\n",
       "      <td>71003.0</td>\n",
       "      <td>13566.0</td>\n",
       "      <td>652276.0</td>\n",
       "    </tr>\n",
       "    <tr>\n",
       "      <td>214</td>\n",
       "      <td>2020-04-19</td>\n",
       "      <td>Russia</td>\n",
       "      <td>145927292</td>\n",
       "      <td>1940000.0</td>\n",
       "      <td>42853.0</td>\n",
       "      <td>361.0</td>\n",
       "      <td>3291.0</td>\n",
       "      <td>8.0</td>\n",
       "      <td>39201.0</td>\n",
       "    </tr>\n",
       "    <tr>\n",
       "      <td>215</td>\n",
       "      <td>2020-04-19</td>\n",
       "      <td>Spain</td>\n",
       "      <td>46752703</td>\n",
       "      <td>930230.0</td>\n",
       "      <td>198674.0</td>\n",
       "      <td>20453.0</td>\n",
       "      <td>77357.0</td>\n",
       "      <td>7371.0</td>\n",
       "      <td>100864.0</td>\n",
       "    </tr>\n",
       "    <tr>\n",
       "      <td>216</td>\n",
       "      <td>2020-04-19</td>\n",
       "      <td>Brazil</td>\n",
       "      <td>212380932</td>\n",
       "      <td>62985.0</td>\n",
       "      <td>38654.0</td>\n",
       "      <td>2462.0</td>\n",
       "      <td>22130.0</td>\n",
       "      <td>6634.0</td>\n",
       "      <td>14062.0</td>\n",
       "    </tr>\n",
       "    <tr>\n",
       "      <td>217</td>\n",
       "      <td>2020-04-19</td>\n",
       "      <td>UK</td>\n",
       "      <td>67844241</td>\n",
       "      <td>482063.0</td>\n",
       "      <td>120067.0</td>\n",
       "      <td>16060.0</td>\n",
       "      <td>NaN</td>\n",
       "      <td>1559.0</td>\n",
       "      <td>103663.0</td>\n",
       "    </tr>\n",
       "  </tbody>\n",
       "</table>\n",
       "<p>218 rows × 9 columns</p>\n",
       "</div>"
      ],
      "text/plain": [
       "          Date Country  Population  Total Tests  Total Cases  Total Deaths  \\\n",
       "0   2020-04-18     USA   330774664    3722145.0     738792.0       39014.0   \n",
       "1   2020-04-18  Russia   145927292    1831892.0      36793.0         313.0   \n",
       "2   2020-04-18   Spain    46752703     930230.0     194416.0       20043.0   \n",
       "3   2020-04-18  Brazil   212380932      62985.0      36722.0        2361.0   \n",
       "4   2020-04-18      UK    67844241     460437.0     114217.0       15464.0   \n",
       "..         ...     ...         ...          ...          ...           ...   \n",
       "213 2020-04-19     USA   330774664    3861549.0     763832.0       40553.0   \n",
       "214 2020-04-19  Russia   145927292    1940000.0      42853.0         361.0   \n",
       "215 2020-04-19   Spain    46752703     930230.0     198674.0       20453.0   \n",
       "216 2020-04-19  Brazil   212380932      62985.0      38654.0        2462.0   \n",
       "217 2020-04-19      UK    67844241     482063.0     120067.0       16060.0   \n",
       "\n",
       "     Total Recovered  Serious or Critical  Active Cases  \n",
       "0            68269.0              13551.0      631509.0  \n",
       "1             3057.0                  8.0       33423.0  \n",
       "2            74797.0               7371.0       99576.0  \n",
       "3            14026.0               6634.0       20335.0  \n",
       "4                NaN               1559.0       98409.0  \n",
       "..               ...                  ...           ...  \n",
       "213          71003.0              13566.0      652276.0  \n",
       "214           3291.0                  8.0       39201.0  \n",
       "215          77357.0               7371.0      100864.0  \n",
       "216          22130.0               6634.0       14062.0  \n",
       "217              NaN               1559.0      103663.0  \n",
       "\n",
       "[218 rows x 9 columns]"
      ]
     },
     "execution_count": 2,
     "metadata": {},
     "output_type": "execute_result"
    }
   ],
   "source": [
    "df=pd.read_csv('project_18_covid.csv',parse_dates=['Date'])\n",
    "df.head(218)"
   ]
  },
  {
   "cell_type": "code",
   "execution_count": 3,
   "metadata": {},
   "outputs": [
    {
     "data": {
      "text/plain": [
       "Date                      0\n",
       "Country                   0\n",
       "Population                0\n",
       "Total Tests            1098\n",
       "Total Cases              49\n",
       "Total Deaths           1236\n",
       "Total Recovered         285\n",
       "Serious or Critical    2486\n",
       "Active Cases             59\n",
       "dtype: int64"
      ]
     },
     "execution_count": 3,
     "metadata": {},
     "output_type": "execute_result"
    }
   ],
   "source": [
    "df.isnull().sum()"
   ]
  },
  {
   "cell_type": "code",
   "execution_count": 4,
   "metadata": {},
   "outputs": [],
   "source": [
    "df=df.fillna(df.median())"
   ]
  },
  {
   "cell_type": "code",
   "execution_count": 5,
   "metadata": {},
   "outputs": [
    {
     "data": {
      "text/plain": [
       "Date                   0\n",
       "Country                0\n",
       "Population             0\n",
       "Total Tests            0\n",
       "Total Cases            0\n",
       "Total Deaths           0\n",
       "Total Recovered        0\n",
       "Serious or Critical    0\n",
       "Active Cases           0\n",
       "dtype: int64"
      ]
     },
     "execution_count": 5,
     "metadata": {},
     "output_type": "execute_result"
    }
   ],
   "source": [
    "df.isnull().sum()"
   ]
  },
  {
   "cell_type": "code",
   "execution_count": 6,
   "metadata": {},
   "outputs": [
    {
     "data": {
      "text/html": [
       "<div>\n",
       "<style scoped>\n",
       "    .dataframe tbody tr th:only-of-type {\n",
       "        vertical-align: middle;\n",
       "    }\n",
       "\n",
       "    .dataframe tbody tr th {\n",
       "        vertical-align: top;\n",
       "    }\n",
       "\n",
       "    .dataframe thead th {\n",
       "        text-align: right;\n",
       "    }\n",
       "</style>\n",
       "<table border=\"1\" class=\"dataframe\">\n",
       "  <thead>\n",
       "    <tr style=\"text-align: right;\">\n",
       "      <th></th>\n",
       "      <th>Day</th>\n",
       "      <th>Month</th>\n",
       "      <th>Year</th>\n",
       "      <th>Total_Tests</th>\n",
       "      <th>Total Cases</th>\n",
       "      <th>Total Deaths</th>\n",
       "      <th>Total Recovered</th>\n",
       "      <th>Serious or Critical</th>\n",
       "      <th>Active Cases</th>\n",
       "    </tr>\n",
       "  </thead>\n",
       "  <tbody>\n",
       "    <tr>\n",
       "      <td>0</td>\n",
       "      <td>18</td>\n",
       "      <td>April</td>\n",
       "      <td>2020</td>\n",
       "      <td>3722145.0</td>\n",
       "      <td>738792.0</td>\n",
       "      <td>39014.0</td>\n",
       "      <td>68269.0</td>\n",
       "      <td>13551.0</td>\n",
       "      <td>631509.0</td>\n",
       "    </tr>\n",
       "    <tr>\n",
       "      <td>1</td>\n",
       "      <td>18</td>\n",
       "      <td>April</td>\n",
       "      <td>2020</td>\n",
       "      <td>1831892.0</td>\n",
       "      <td>36793.0</td>\n",
       "      <td>313.0</td>\n",
       "      <td>3057.0</td>\n",
       "      <td>8.0</td>\n",
       "      <td>33423.0</td>\n",
       "    </tr>\n",
       "    <tr>\n",
       "      <td>2</td>\n",
       "      <td>18</td>\n",
       "      <td>April</td>\n",
       "      <td>2020</td>\n",
       "      <td>930230.0</td>\n",
       "      <td>194416.0</td>\n",
       "      <td>20043.0</td>\n",
       "      <td>74797.0</td>\n",
       "      <td>7371.0</td>\n",
       "      <td>99576.0</td>\n",
       "    </tr>\n",
       "    <tr>\n",
       "      <td>3</td>\n",
       "      <td>18</td>\n",
       "      <td>April</td>\n",
       "      <td>2020</td>\n",
       "      <td>62985.0</td>\n",
       "      <td>36722.0</td>\n",
       "      <td>2361.0</td>\n",
       "      <td>14026.0</td>\n",
       "      <td>6634.0</td>\n",
       "      <td>20335.0</td>\n",
       "    </tr>\n",
       "    <tr>\n",
       "      <td>4</td>\n",
       "      <td>18</td>\n",
       "      <td>April</td>\n",
       "      <td>2020</td>\n",
       "      <td>460437.0</td>\n",
       "      <td>114217.0</td>\n",
       "      <td>15464.0</td>\n",
       "      <td>219.0</td>\n",
       "      <td>1559.0</td>\n",
       "      <td>98409.0</td>\n",
       "    </tr>\n",
       "    <tr>\n",
       "      <td>...</td>\n",
       "      <td>...</td>\n",
       "      <td>...</td>\n",
       "      <td>...</td>\n",
       "      <td>...</td>\n",
       "      <td>...</td>\n",
       "      <td>...</td>\n",
       "      <td>...</td>\n",
       "      <td>...</td>\n",
       "      <td>...</td>\n",
       "    </tr>\n",
       "    <tr>\n",
       "      <td>6598</td>\n",
       "      <td>18</td>\n",
       "      <td>May</td>\n",
       "      <td>2020</td>\n",
       "      <td>25478.0</td>\n",
       "      <td>6.0</td>\n",
       "      <td>24.0</td>\n",
       "      <td>6.0</td>\n",
       "      <td>13.0</td>\n",
       "      <td>0.0</td>\n",
       "    </tr>\n",
       "    <tr>\n",
       "      <td>6599</td>\n",
       "      <td>18</td>\n",
       "      <td>May</td>\n",
       "      <td>2020</td>\n",
       "      <td>25478.0</td>\n",
       "      <td>6.0</td>\n",
       "      <td>24.0</td>\n",
       "      <td>6.0</td>\n",
       "      <td>13.0</td>\n",
       "      <td>0.0</td>\n",
       "    </tr>\n",
       "    <tr>\n",
       "      <td>6600</td>\n",
       "      <td>18</td>\n",
       "      <td>May</td>\n",
       "      <td>2020</td>\n",
       "      <td>25478.0</td>\n",
       "      <td>3.0</td>\n",
       "      <td>24.0</td>\n",
       "      <td>3.0</td>\n",
       "      <td>13.0</td>\n",
       "      <td>0.0</td>\n",
       "    </tr>\n",
       "    <tr>\n",
       "      <td>6601</td>\n",
       "      <td>18</td>\n",
       "      <td>May</td>\n",
       "      <td>2020</td>\n",
       "      <td>25478.0</td>\n",
       "      <td>1.0</td>\n",
       "      <td>24.0</td>\n",
       "      <td>219.0</td>\n",
       "      <td>13.0</td>\n",
       "      <td>1.0</td>\n",
       "    </tr>\n",
       "    <tr>\n",
       "      <td>6602</td>\n",
       "      <td>18</td>\n",
       "      <td>May</td>\n",
       "      <td>2020</td>\n",
       "      <td>25478.0</td>\n",
       "      <td>1.0</td>\n",
       "      <td>24.0</td>\n",
       "      <td>1.0</td>\n",
       "      <td>13.0</td>\n",
       "      <td>0.0</td>\n",
       "    </tr>\n",
       "  </tbody>\n",
       "</table>\n",
       "<p>6603 rows × 9 columns</p>\n",
       "</div>"
      ],
      "text/plain": [
       "      Day  Month  Year  Total_Tests  Total Cases  Total Deaths  \\\n",
       "0      18  April  2020    3722145.0     738792.0       39014.0   \n",
       "1      18  April  2020    1831892.0      36793.0         313.0   \n",
       "2      18  April  2020     930230.0     194416.0       20043.0   \n",
       "3      18  April  2020      62985.0      36722.0        2361.0   \n",
       "4      18  April  2020     460437.0     114217.0       15464.0   \n",
       "...   ...    ...   ...          ...          ...           ...   \n",
       "6598   18    May  2020      25478.0          6.0          24.0   \n",
       "6599   18    May  2020      25478.0          6.0          24.0   \n",
       "6600   18    May  2020      25478.0          3.0          24.0   \n",
       "6601   18    May  2020      25478.0          1.0          24.0   \n",
       "6602   18    May  2020      25478.0          1.0          24.0   \n",
       "\n",
       "      Total Recovered  Serious or Critical  Active Cases  \n",
       "0             68269.0              13551.0      631509.0  \n",
       "1              3057.0                  8.0       33423.0  \n",
       "2             74797.0               7371.0       99576.0  \n",
       "3             14026.0               6634.0       20335.0  \n",
       "4               219.0               1559.0       98409.0  \n",
       "...               ...                  ...           ...  \n",
       "6598              6.0                 13.0           0.0  \n",
       "6599              6.0                 13.0           0.0  \n",
       "6600              3.0                 13.0           0.0  \n",
       "6601            219.0                 13.0           1.0  \n",
       "6602              1.0                 13.0           0.0  \n",
       "\n",
       "[6603 rows x 9 columns]"
      ]
     },
     "execution_count": 6,
     "metadata": {},
     "output_type": "execute_result"
    }
   ],
   "source": [
    "df_dates=pd.DataFrame()\n",
    "df_dates['Day']=df['Date'].dt.day\n",
    "df_dates['Month']=df['Date'].dt.month_name()\n",
    "df_dates['Year']=df['Date'].dt.year\n",
    "df_dates['Total_Tests']=df['Total Tests']\n",
    "df_dates['Total Cases']=df['Total Cases']\n",
    "df_dates['Total Deaths']=df['Total Deaths']\n",
    "df_dates['Total Recovered']=df['Total Recovered']\n",
    "df_dates['Serious or Critical']=df['Serious or Critical']\n",
    "df_dates['Active Cases']=df['Active Cases']\n",
    "df_dates"
   ]
  },
  {
   "cell_type": "code",
   "execution_count": 7,
   "metadata": {},
   "outputs": [
    {
     "data": {
      "text/plain": [
       "<matplotlib.axes._subplots.AxesSubplot at 0x18a81585b88>"
      ]
     },
     "execution_count": 7,
     "metadata": {},
     "output_type": "execute_result"
    },
    {
     "data": {
      "image/png": "[encoded data removed]",
      "text/plain": [
       "<Figure size 720x360 with 1 Axes>"
      ]
     },
     "metadata": {
      "needs_background": "light"
     },
     "output_type": "display_data"
    }
   ],
   "source": [
    "plt.figure(figsize=(10,5))\n",
    "sns.barplot(x='Day',y='Total_Tests',hue='Month',data=df_dates)"
   ]
  },
  {
   "cell_type": "code",
   "execution_count": 8,
   "metadata": {},
   "outputs": [
    {
     "data": {
      "text/plain": [
       "<matplotlib.axes._subplots.AxesSubplot at 0x18a84aa1388>"
      ]
     },
     "execution_count": 8,
     "metadata": {},
     "output_type": "execute_result"
    },
    {
     "data": {
      "image/png": "[encoded data removed]",
      "text/plain": [
       "<Figure size 720x360 with 1 Axes>"
      ]
     },
     "metadata": {
      "needs_background": "light"
     },
     "output_type": "display_data"
    }
   ],
   "source": [
    "plt.figure(figsize=(10,5))\n",
    "sns.barplot(x='Day',y='Total Cases',hue='Month',data=df_dates)"
   ]
  },
  {
   "cell_type": "code",
   "execution_count": 9,
   "metadata": {},
   "outputs": [
    {
     "data": {
      "text/plain": [
       "<matplotlib.axes._subplots.AxesSubplot at 0x18a84f79bc8>"
      ]
     },
     "execution_count": 9,
     "metadata": {},
     "output_type": "execute_result"
    },
    {
     "data": {
      "image/png": "[encoded data removed]",
      "text/plain": [
       "<Figure size 720x360 with 1 Axes>"
      ]
     },
     "metadata": {
      "needs_background": "light"
     },
     "output_type": "display_data"
    }
   ],
   "source": [
    "plt.figure(figsize=(10,5))\n",
    "sns.barplot(x='Day',y='Total Deaths',hue='Month',data=df_dates)"
   ]
  },
  {
   "cell_type": "code",
   "execution_count": 10,
   "metadata": {},
   "outputs": [
    {
     "data": {
      "text/plain": [
       "<matplotlib.axes._subplots.AxesSubplot at 0x18a85205c48>"
      ]
     },
     "execution_count": 10,
     "metadata": {},
     "output_type": "execute_result"
    },
    {
     "data": {
      "image/png": "[encoded data removed]",
      "text/plain": [
       "<Figure size 720x360 with 1 Axes>"
      ]
     },
     "metadata": {
      "needs_background": "light"
     },
     "output_type": "display_data"
    }
   ],
   "source": [
    "plt.figure(figsize=(10,5))\n",
    "sns.barplot(x='Day',y='Total Recovered',hue='Month',data=df_dates)"
   ]
  },
  {
   "cell_type": "code",
   "execution_count": 11,
   "metadata": {},
   "outputs": [
    {
     "data": {
      "text/plain": [
       "<matplotlib.axes._subplots.AxesSubplot at 0x18a855b4148>"
      ]
     },
     "execution_count": 11,
     "metadata": {},
     "output_type": "execute_result"
    },
    {
     "data": {
      "image/png": "[encoded data removed]",
      "text/plain": [
       "<Figure size 720x360 with 1 Axes>"
      ]
     },
     "metadata": {
      "needs_background": "light"
     },
     "output_type": "display_data"
    }
   ],
   "source": [
    "plt.figure(figsize=(10,5))\n",
    "sns.barplot(x='Day',y='Serious or Critical',hue='Month',data=df_dates)"
   ]
  },
  {
   "cell_type": "code",
   "execution_count": 12,
   "metadata": {},
   "outputs": [
    {
     "data": {
      "text/plain": [
       "<matplotlib.axes._subplots.AxesSubplot at 0x18a8562b688>"
      ]
     },
     "execution_count": 12,
     "metadata": {},
     "output_type": "execute_result"
    },
    {
     "data": {
      "image/png": "[encoded data removed]",
      "text/plain": [
       "<Figure size 720x360 with 1 Axes>"
      ]
     },
     "metadata": {
      "needs_background": "light"
     },
     "output_type": "display_data"
    }
   ],
   "source": [
    "plt.figure(figsize=(10,5))\n",
    "sns.barplot(x='Day',y='Active Cases',hue='Month',data=df_dates)"
   ]
  },
  {
   "cell_type": "code",
   "execution_count": 13,
   "metadata": {},
   "outputs": [
    {
     "data": {
      "text/plain": [
       "<matplotlib.axes._subplots.AxesSubplot at 0x18a86994648>"
      ]
     },
     "execution_count": 13,
     "metadata": {},
     "output_type": "execute_result"
    },
    {
     "data": {
      "image/png": "[encoded data removed]",
      "text/plain": [
       "<Figure size 720x360 with 1 Axes>"
      ]
     },
     "metadata": {
      "needs_background": "light"
     },
     "output_type": "display_data"
    }
   ],
   "source": [
    "plt.figure(figsize=(10,5))\n",
    "sns.lineplot(x='Total Deaths',y='Total Recovered',data=df)"
   ]
  },
  {
   "cell_type": "code",
   "execution_count": 41,
   "metadata": {},
   "outputs": [
    {
     "data": {
      "text/plain": [
       "<matplotlib.axes._subplots.AxesSubplot at 0x18a95dd3b08>"
      ]
     },
     "execution_count": 41,
     "metadata": {},
     "output_type": "execute_result"
    },
    {
     "data": {
      "image/png": "[encoded data removed]",
      "text/plain": [
       "<Figure size 720x360 with 1 Axes>"
      ]
     },
     "metadata": {
      "needs_background": "light"
     },
     "output_type": "display_data"
    }
   ],
   "source": [
    "plt.figure(figsize=(10,5))\n",
    "sns.lineplot(x='Total Deaths',y='Population',data=df)"
   ]
  },
  {
   "cell_type": "code",
   "execution_count": null,
   "metadata": {},
   "outputs": [],
   "source": []
  },
  {
   "cell_type": "code",
   "execution_count": 14,
   "metadata": {},
   "outputs": [
    {
     "data": {
      "text/plain": [
       "<matplotlib.axes._subplots.AxesSubplot at 0x18a85796ac8>"
      ]
     },
     "execution_count": 14,
     "metadata": {},
     "output_type": "execute_result"
    },
    {
     "data": {
      "image/png": "[encoded data removed]",
      "text/plain": [
       "<Figure size 720x360 with 1 Axes>"
      ]
     },
     "metadata": {
      "needs_background": "light"
     },
     "output_type": "display_data"
    }
   ],
   "source": [
    "plt.figure(figsize=(10,5))\n",
    "sns.barplot(x='Total Deaths',y='Total_Tests',data=df_dates)"
   ]
  },
  {
   "cell_type": "code",
   "execution_count": 15,
   "metadata": {},
   "outputs": [
    {
     "data": {
      "text/plain": [
       "<matplotlib.axes._subplots.AxesSubplot at 0x18a875da288>"
      ]
     },
     "execution_count": 15,
     "metadata": {},
     "output_type": "execute_result"
    },
    {
     "data": {
      "image/png": "[encoded data removed]",
      "text/plain": [
       "<Figure size 720x360 with 1 Axes>"
      ]
     },
     "metadata": {
      "needs_background": "light"
     },
     "output_type": "display_data"
    }
   ],
   "source": [
    "plt.figure(figsize=(10,5))\n",
    "sns.barplot(x='Total Deaths',y='Total Cases',data=df_dates)"
   ]
  },
  {
   "cell_type": "code",
   "execution_count": 16,
   "metadata": {},
   "outputs": [
    {
     "data": {
      "text/plain": [
       "<matplotlib.axes._subplots.AxesSubplot at 0x18a8d38f7c8>"
      ]
     },
     "execution_count": 16,
     "metadata": {},
     "output_type": "execute_result"
    },
    {
     "data": {
      "image/png": "[encoded data removed]",
      "text/plain": [
       "<Figure size 720x360 with 1 Axes>"
      ]
     },
     "metadata": {
      "needs_background": "light"
     },
     "output_type": "display_data"
    }
   ],
   "source": [
    "plt.figure(figsize=(10,5))\n",
    "sns.barplot(x='Total Deaths',y='Serious or Critical',data=df_dates)"
   ]
  },
  {
   "cell_type": "code",
   "execution_count": 17,
   "metadata": {},
   "outputs": [
    {
     "data": {
      "text/plain": [
       "<matplotlib.axes._subplots.AxesSubplot at 0x18a8e727e48>"
      ]
     },
     "execution_count": 17,
     "metadata": {},
     "output_type": "execute_result"
    },
    {
     "data": {
      "image/png": "[encoded data removed]",
      "text/plain": [
       "<Figure size 720x360 with 1 Axes>"
      ]
     },
     "metadata": {
      "needs_background": "light"
     },
     "output_type": "display_data"
    }
   ],
   "source": [
    "plt.figure(figsize=(10,5))\n",
    "sns.barplot(x='Total Deaths',y='Active Cases',data=df_dates)"
   ]
  },
  {
   "cell_type": "code",
   "execution_count": 18,
   "metadata": {},
   "outputs": [
    {
     "data": {
      "text/plain": [
       "1.0"
      ]
     },
     "execution_count": 18,
     "metadata": {},
     "output_type": "execute_result"
    }
   ],
   "source": [
    "a=0.189+0.657+0.154\n",
    "a"
   ]
  },
  {
   "cell_type": "code",
   "execution_count": 19,
   "metadata": {},
   "outputs": [
    {
     "data": {
      "text/plain": [
       "0.9870000000000001"
      ]
     },
     "execution_count": 19,
     "metadata": {},
     "output_type": "execute_result"
    }
   ],
   "source": [
    "b=0.17600000000000002+0.657+0.154\n",
    "b"
   ]
  },
  {
   "cell_type": "code",
   "execution_count": 20,
   "metadata": {},
   "outputs": [
    {
     "data": {
      "text/plain": [
       "1.0"
      ]
     },
     "execution_count": 20,
     "metadata": {},
     "output_type": "execute_result"
    }
   ],
   "source": [
    "c=0.147+0.659+0.194\n",
    "c"
   ]
  },
  {
   "cell_type": "code",
   "execution_count": 21,
   "metadata": {},
   "outputs": [
    {
     "data": {
      "text/plain": [
       "Population             2.402114e+11\n",
       "Total Tests            1.221047e+09\n",
       "Total Cases            1.109872e+08\n",
       "Total Deaths           7.630689e+06\n",
       "Total Recovered        3.705698e+07\n",
       "Serious or Critical    1.624561e+06\n",
       "Active Cases           6.522139e+07\n",
       "dtype: float64"
      ]
     },
     "execution_count": 21,
     "metadata": {},
     "output_type": "execute_result"
    }
   ],
   "source": [
    "df.sum(axis = 0, skipna = True) "
   ]
  },
  {
   "cell_type": "code",
   "execution_count": 22,
   "metadata": {},
   "outputs": [
    {
     "data": {
      "text/plain": [
       "1221046857.0"
      ]
     },
     "execution_count": 22,
     "metadata": {},
     "output_type": "execute_result"
    }
   ],
   "source": [
    "a=df['Total Tests'].sum()\n",
    "a"
   ]
  },
  {
   "cell_type": "code",
   "execution_count": 23,
   "metadata": {},
   "outputs": [
    {
     "data": {
      "text/plain": [
       "110987172.5"
      ]
     },
     "execution_count": 23,
     "metadata": {},
     "output_type": "execute_result"
    }
   ],
   "source": [
    "d=df['Total Cases'].sum()\n",
    "d"
   ]
  },
  {
   "cell_type": "code",
   "execution_count": 24,
   "metadata": {},
   "outputs": [
    {
     "data": {
      "text/plain": [
       "1624561.0"
      ]
     },
     "execution_count": 24,
     "metadata": {},
     "output_type": "execute_result"
    }
   ],
   "source": [
    "e=df['Serious or Critical'].sum()\n",
    "e"
   ]
  },
  {
   "cell_type": "code",
   "execution_count": 25,
   "metadata": {},
   "outputs": [
    {
     "data": {
      "text/plain": [
       "65221394.0"
      ]
     },
     "execution_count": 25,
     "metadata": {},
     "output_type": "execute_result"
    }
   ],
   "source": [
    "f=df['Active Cases'].sum()\n",
    "f"
   ]
  },
  {
   "cell_type": "code",
   "execution_count": 26,
   "metadata": {},
   "outputs": [
    {
     "data": {
      "text/plain": [
       "7630689.0"
      ]
     },
     "execution_count": 26,
     "metadata": {},
     "output_type": "execute_result"
    }
   ],
   "source": [
    "b=df['Total Deaths'].sum()\n",
    "b"
   ]
  },
  {
   "cell_type": "code",
   "execution_count": 27,
   "metadata": {},
   "outputs": [
    {
     "data": {
      "text/plain": [
       "1.0"
      ]
     },
     "execution_count": 27,
     "metadata": {},
     "output_type": "execute_result"
    }
   ],
   "source": [
    "c"
   ]
  },
  {
   "cell_type": "code",
   "execution_count": 28,
   "metadata": {},
   "outputs": [
    {
     "data": {
      "text/plain": [
       "37056985.0"
      ]
     },
     "execution_count": 28,
     "metadata": {},
     "output_type": "execute_result"
    }
   ],
   "source": [
    "c=df['Total Recovered'].sum()\n",
    "c"
   ]
  },
  {
   "cell_type": "code",
   "execution_count": 30,
   "metadata": {},
   "outputs": [
    {
     "data": {
      "image/png": "[encoded data removed]",
      "text/plain": [
       "<Figure size 720x720 with 1 Axes>"
      ]
     },
     "metadata": {},
     "output_type": "display_data"
    }
   ],
   "source": [
    "\n",
    "# Creating dataset \n",
    "pop = ['Total Tests','Total Cases','Serious or Critical','Active Cases','Total_deaths','Total_recovered'] \n",
    "  \n",
    "data = [1221046857.0,110987172.5,1624561.0,65221394.0,7630689.0,37056985.0] \n",
    "  \n",
    "# Creating plot \n",
    "fig = plt.figure(figsize =(10, 10)) \n",
    "plt.pie(data, labels = pop,autopct='%1.1f%%') \n",
    "  \n",
    "# show plot \n",
    "plt.show()"
   ]
  },
  {
   "cell_type": "code",
   "execution_count": 31,
   "metadata": {},
   "outputs": [
    {
     "data": {
      "text/html": [
       "<div>\n",
       "<style scoped>\n",
       "    .dataframe tbody tr th:only-of-type {\n",
       "        vertical-align: middle;\n",
       "    }\n",
       "\n",
       "    .dataframe tbody tr th {\n",
       "        vertical-align: top;\n",
       "    }\n",
       "\n",
       "    .dataframe thead th {\n",
       "        text-align: right;\n",
       "    }\n",
       "</style>\n",
       "<table border=\"1\" class=\"dataframe\">\n",
       "  <thead>\n",
       "    <tr style=\"text-align: right;\">\n",
       "      <th></th>\n",
       "      <th>Population</th>\n",
       "      <th>Total Tests</th>\n",
       "      <th>Total Cases</th>\n",
       "      <th>Total Deaths</th>\n",
       "      <th>Total Recovered</th>\n",
       "      <th>Serious or Critical</th>\n",
       "      <th>Active Cases</th>\n",
       "    </tr>\n",
       "  </thead>\n",
       "  <tbody>\n",
       "    <tr>\n",
       "      <td>count</td>\n",
       "      <td>6.603000e+03</td>\n",
       "      <td>6.603000e+03</td>\n",
       "      <td>6.603000e+03</td>\n",
       "      <td>6603.000000</td>\n",
       "      <td>6603.000000</td>\n",
       "      <td>6603.000000</td>\n",
       "      <td>6.603000e+03</td>\n",
       "    </tr>\n",
       "    <tr>\n",
       "      <td>mean</td>\n",
       "      <td>3.637913e+07</td>\n",
       "      <td>1.849230e+05</td>\n",
       "      <td>1.680860e+04</td>\n",
       "      <td>1155.639709</td>\n",
       "      <td>5612.143723</td>\n",
       "      <td>246.033773</td>\n",
       "      <td>9.877540e+03</td>\n",
       "    </tr>\n",
       "    <tr>\n",
       "      <td>std</td>\n",
       "      <td>1.411537e+08</td>\n",
       "      <td>6.971325e+05</td>\n",
       "      <td>8.829631e+04</td>\n",
       "      <td>6015.559135</td>\n",
       "      <td>22984.083710</td>\n",
       "      <td>1321.936609</td>\n",
       "      <td>6.512371e+04</td>\n",
       "    </tr>\n",
       "    <tr>\n",
       "      <td>min</td>\n",
       "      <td>8.010000e+02</td>\n",
       "      <td>1.000000e+01</td>\n",
       "      <td>1.000000e+00</td>\n",
       "      <td>0.000000</td>\n",
       "      <td>1.000000</td>\n",
       "      <td>1.000000</td>\n",
       "      <td>0.000000e+00</td>\n",
       "    </tr>\n",
       "    <tr>\n",
       "      <td>25%</td>\n",
       "      <td>8.672680e+05</td>\n",
       "      <td>4.733000e+03</td>\n",
       "      <td>8.000000e+01</td>\n",
       "      <td>8.000000</td>\n",
       "      <td>29.000000</td>\n",
       "      <td>7.000000</td>\n",
       "      <td>2.700000e+01</td>\n",
       "    </tr>\n",
       "    <tr>\n",
       "      <td>50%</td>\n",
       "      <td>6.859926e+06</td>\n",
       "      <td>2.547800e+04</td>\n",
       "      <td>6.135000e+02</td>\n",
       "      <td>24.000000</td>\n",
       "      <td>219.000000</td>\n",
       "      <td>13.000000</td>\n",
       "      <td>2.720000e+02</td>\n",
       "    </tr>\n",
       "    <tr>\n",
       "      <td>75%</td>\n",
       "      <td>2.546422e+07</td>\n",
       "      <td>1.019110e+05</td>\n",
       "      <td>4.757000e+03</td>\n",
       "      <td>109.000000</td>\n",
       "      <td>1302.500000</td>\n",
       "      <td>27.000000</td>\n",
       "      <td>1.991000e+03</td>\n",
       "    </tr>\n",
       "    <tr>\n",
       "      <td>max</td>\n",
       "      <td>1.439324e+09</td>\n",
       "      <td>1.230074e+07</td>\n",
       "      <td>1.550294e+06</td>\n",
       "      <td>91981.000000</td>\n",
       "      <td>356383.000000</td>\n",
       "      <td>18671.000000</td>\n",
       "      <td>1.101930e+06</td>\n",
       "    </tr>\n",
       "  </tbody>\n",
       "</table>\n",
       "</div>"
      ],
      "text/plain": [
       "         Population   Total Tests   Total Cases  Total Deaths  \\\n",
       "count  6.603000e+03  6.603000e+03  6.603000e+03   6603.000000   \n",
       "mean   3.637913e+07  1.849230e+05  1.680860e+04   1155.639709   \n",
       "std    1.411537e+08  6.971325e+05  8.829631e+04   6015.559135   \n",
       "min    8.010000e+02  1.000000e+01  1.000000e+00      0.000000   \n",
       "25%    8.672680e+05  4.733000e+03  8.000000e+01      8.000000   \n",
       "50%    6.859926e+06  2.547800e+04  6.135000e+02     24.000000   \n",
       "75%    2.546422e+07  1.019110e+05  4.757000e+03    109.000000   \n",
       "max    1.439324e+09  1.230074e+07  1.550294e+06  91981.000000   \n",
       "\n",
       "       Total Recovered  Serious or Critical  Active Cases  \n",
       "count      6603.000000          6603.000000  6.603000e+03  \n",
       "mean       5612.143723           246.033773  9.877540e+03  \n",
       "std       22984.083710          1321.936609  6.512371e+04  \n",
       "min           1.000000             1.000000  0.000000e+00  \n",
       "25%          29.000000             7.000000  2.700000e+01  \n",
       "50%         219.000000            13.000000  2.720000e+02  \n",
       "75%        1302.500000            27.000000  1.991000e+03  \n",
       "max      356383.000000         18671.000000  1.101930e+06  "
      ]
     },
     "execution_count": 31,
     "metadata": {},
     "output_type": "execute_result"
    }
   ],
   "source": [
    "#Lets describe the data statistically\n",
    "df.describe()"
   ]
  },
  {
   "cell_type": "code",
   "execution_count": 32,
   "metadata": {},
   "outputs": [
    {
     "data": {
      "text/html": [
       "<div>\n",
       "<style scoped>\n",
       "    .dataframe tbody tr th:only-of-type {\n",
       "        vertical-align: middle;\n",
       "    }\n",
       "\n",
       "    .dataframe tbody tr th {\n",
       "        vertical-align: top;\n",
       "    }\n",
       "\n",
       "    .dataframe thead th {\n",
       "        text-align: right;\n",
       "    }\n",
       "</style>\n",
       "<table border=\"1\" class=\"dataframe\">\n",
       "  <thead>\n",
       "    <tr style=\"text-align: right;\">\n",
       "      <th></th>\n",
       "      <th>Population</th>\n",
       "      <th>Total Tests</th>\n",
       "      <th>Total Cases</th>\n",
       "      <th>Total Deaths</th>\n",
       "      <th>Total Recovered</th>\n",
       "      <th>Serious or Critical</th>\n",
       "      <th>Active Cases</th>\n",
       "    </tr>\n",
       "  </thead>\n",
       "  <tbody>\n",
       "    <tr>\n",
       "      <td>Population</td>\n",
       "      <td>1.000000</td>\n",
       "      <td>0.217547</td>\n",
       "      <td>0.226134</td>\n",
       "      <td>0.184768</td>\n",
       "      <td>0.310737</td>\n",
       "      <td>0.172339</td>\n",
       "      <td>0.179588</td>\n",
       "    </tr>\n",
       "    <tr>\n",
       "      <td>Total Tests</td>\n",
       "      <td>0.217547</td>\n",
       "      <td>1.000000</td>\n",
       "      <td>0.898828</td>\n",
       "      <td>0.812510</td>\n",
       "      <td>0.795733</td>\n",
       "      <td>0.745569</td>\n",
       "      <td>0.855645</td>\n",
       "    </tr>\n",
       "    <tr>\n",
       "      <td>Total Cases</td>\n",
       "      <td>0.226134</td>\n",
       "      <td>0.898828</td>\n",
       "      <td>1.000000</td>\n",
       "      <td>0.935240</td>\n",
       "      <td>0.819069</td>\n",
       "      <td>0.892219</td>\n",
       "      <td>0.975026</td>\n",
       "    </tr>\n",
       "    <tr>\n",
       "      <td>Total Deaths</td>\n",
       "      <td>0.184768</td>\n",
       "      <td>0.812510</td>\n",
       "      <td>0.935240</td>\n",
       "      <td>1.000000</td>\n",
       "      <td>0.796069</td>\n",
       "      <td>0.833228</td>\n",
       "      <td>0.881907</td>\n",
       "    </tr>\n",
       "    <tr>\n",
       "      <td>Total Recovered</td>\n",
       "      <td>0.310737</td>\n",
       "      <td>0.795733</td>\n",
       "      <td>0.819069</td>\n",
       "      <td>0.796069</td>\n",
       "      <td>1.000000</td>\n",
       "      <td>0.723215</td>\n",
       "      <td>0.685226</td>\n",
       "    </tr>\n",
       "    <tr>\n",
       "      <td>Serious or Critical</td>\n",
       "      <td>0.172339</td>\n",
       "      <td>0.745569</td>\n",
       "      <td>0.892219</td>\n",
       "      <td>0.833228</td>\n",
       "      <td>0.723215</td>\n",
       "      <td>1.000000</td>\n",
       "      <td>0.875899</td>\n",
       "    </tr>\n",
       "    <tr>\n",
       "      <td>Active Cases</td>\n",
       "      <td>0.179588</td>\n",
       "      <td>0.855645</td>\n",
       "      <td>0.975026</td>\n",
       "      <td>0.881907</td>\n",
       "      <td>0.685226</td>\n",
       "      <td>0.875899</td>\n",
       "      <td>1.000000</td>\n",
       "    </tr>\n",
       "  </tbody>\n",
       "</table>\n",
       "</div>"
      ],
      "text/plain": [
       "                     Population  Total Tests  Total Cases  Total Deaths  \\\n",
       "Population             1.000000     0.217547     0.226134      0.184768   \n",
       "Total Tests            0.217547     1.000000     0.898828      0.812510   \n",
       "Total Cases            0.226134     0.898828     1.000000      0.935240   \n",
       "Total Deaths           0.184768     0.812510     0.935240      1.000000   \n",
       "Total Recovered        0.310737     0.795733     0.819069      0.796069   \n",
       "Serious or Critical    0.172339     0.745569     0.892219      0.833228   \n",
       "Active Cases           0.179588     0.855645     0.975026      0.881907   \n",
       "\n",
       "                     Total Recovered  Serious or Critical  Active Cases  \n",
       "Population                  0.310737             0.172339      0.179588  \n",
       "Total Tests                 0.795733             0.745569      0.855645  \n",
       "Total Cases                 0.819069             0.892219      0.975026  \n",
       "Total Deaths                0.796069             0.833228      0.881907  \n",
       "Total Recovered             1.000000             0.723215      0.685226  \n",
       "Serious or Critical         0.723215             1.000000      0.875899  \n",
       "Active Cases                0.685226             0.875899      1.000000  "
      ]
     },
     "execution_count": 32,
     "metadata": {},
     "output_type": "execute_result"
    }
   ],
   "source": [
    "#Lets check the correlation.\n",
    "dfcor= df.corr()\n",
    "dfcor"
   ]
  },
  {
   "cell_type": "code",
   "execution_count": 33,
   "metadata": {},
   "outputs": [
    {
     "data": {
      "text/plain": [
       "<matplotlib.axes._subplots.AxesSubplot at 0x18a95c68048>"
      ]
     },
     "execution_count": 33,
     "metadata": {},
     "output_type": "execute_result"
    },
    {
     "data": {
      "image/png": "[encoded data removed]",
      "text/plain": [
       "<Figure size 1440x1152 with 2 Axes>"
      ]
     },
     "metadata": {
      "needs_background": "light"
     },
     "output_type": "display_data"
    }
   ],
   "source": [
    "plt.figure(figsize = (20,16))\n",
    "sns.heatmap(dfcor,cmap = 'Blues',annot = True)"
   ]
  },
  {
   "cell_type": "code",
   "execution_count": 34,
   "metadata": {},
   "outputs": [],
   "source": [
    "df.drop(['Date','Country'],axis=1,inplace=True)"
   ]
  },
  {
   "cell_type": "code",
   "execution_count": 35,
   "metadata": {},
   "outputs": [
    {
     "data": {
      "text/plain": [
       "Population              8.743503\n",
       "Total Tests             9.327844\n",
       "Total Cases            12.079492\n",
       "Total Deaths            8.970496\n",
       "Total Recovered         7.224953\n",
       "Serious or Critical     9.254038\n",
       "Active Cases           13.301565\n",
       "dtype: float64"
      ]
     },
     "execution_count": 35,
     "metadata": {},
     "output_type": "execute_result"
    }
   ],
   "source": [
    "#Now lets check the skewness\n",
    "df.skew()"
   ]
  },
  {
   "cell_type": "code",
   "execution_count": 36,
   "metadata": {},
   "outputs": [],
   "source": [
    "#Treating using log\n",
    "import numpy as np\n",
    "for col in df.columns:\n",
    "    if df.skew().loc[col]>0.55:\n",
    "        df[col] = np.log1p(df[col])"
   ]
  },
  {
   "cell_type": "code",
   "execution_count": 37,
   "metadata": {},
   "outputs": [
    {
     "data": {
      "text/plain": [
       "Population            -0.672563\n",
       "Total Tests           -0.301656\n",
       "Total Cases            0.189954\n",
       "Total Deaths           1.041062\n",
       "Total Recovered        0.361655\n",
       "Serious or Critical    1.405479\n",
       "Active Cases           0.080893\n",
       "dtype: float64"
      ]
     },
     "execution_count": 37,
     "metadata": {},
     "output_type": "execute_result"
    }
   ],
   "source": [
    "df.skew()"
   ]
  },
  {
   "cell_type": "code",
   "execution_count": 38,
   "metadata": {},
   "outputs": [
    {
     "data": {
      "text/plain": [
       "array([[1.72017001, 2.22972373, 2.58663366, ..., 2.22095216, 3.85307411,\n",
       "        2.64907612],\n",
       "       [1.40034579, 1.92662718, 1.49092124, ..., 1.00697719, 0.43985668,\n",
       "        1.65449582],\n",
       "       [0.95549338, 1.63690301, 2.09898556, ..., 2.25664805, 3.49586395,\n",
       "        2.02394115],\n",
       "       ...,\n",
       "       [2.18884951, 0.09883575, 1.84287885, ..., 1.58819465, 0.18063287,\n",
       "        1.87089983],\n",
       "       [0.24979687, 0.09883575, 2.09606893, ..., 0.0217885 , 0.18063287,\n",
       "        1.63632067],\n",
       "       [2.56003139, 0.09883575, 2.09606893, ..., 1.85913544, 0.18063287,\n",
       "        1.87089983]])"
      ]
     },
     "execution_count": 38,
     "metadata": {},
     "output_type": "execute_result"
    }
   ],
   "source": [
    "from scipy.stats import zscore\n",
    "z=np.abs(zscore(df))\n",
    "z"
   ]
  },
  {
   "cell_type": "code",
   "execution_count": 39,
   "metadata": {},
   "outputs": [
    {
     "name": "stdout",
     "output_type": "stream",
     "text": [
      "(array([   0,    0,    2,    3,    6,    9,  199,  207,  213,  213,  215,\n",
      "        216,  219,  222,  412,  426,  426,  428,  429,  432,  435,  625,\n",
      "        639,  639,  641,  642,  645,  648,  838,  852,  852,  854,  855,\n",
      "        858,  861, 1051, 1065, 1065, 1067, 1068, 1071, 1264, 1278, 1278,\n",
      "       1280, 1281, 1284, 1477, 1491, 1491, 1493, 1494, 1497, 1690, 1704,\n",
      "       1704, 1706, 1707, 1710, 1903, 1917, 1917, 1919, 1920, 1923, 2116,\n",
      "       2130, 2130, 2132, 2133, 2136, 2329, 2343, 2343, 2345, 2346, 2349,\n",
      "       2542, 2556, 2556, 2559, 2562, 2755, 2769, 2769, 2772, 2775, 2968,\n",
      "       2982, 2982, 2985, 2988, 3181, 3195, 3195, 3198, 3200, 3201, 3394,\n",
      "       3408, 3408, 3411, 3413, 3414, 3607, 3621, 3621, 3624, 3625, 3626,\n",
      "       3627, 3820, 3834, 3834, 3837, 3838, 3839, 4033, 4047, 4047, 4050,\n",
      "       4051, 4052, 4246, 4260, 4260, 4263, 4264, 4265, 4459, 4473, 4473,\n",
      "       4476, 4477, 4478, 4672, 4686, 4686, 4689, 4690, 4691, 4885, 4899,\n",
      "       4899, 4902, 4903, 4904, 5098, 5112, 5112, 5115, 5116, 5117, 5311,\n",
      "       5325, 5325, 5328, 5329, 5330, 5524, 5538, 5538, 5541, 5542, 5543,\n",
      "       5737, 5751, 5751, 5754, 5755, 5756, 5950, 5964, 5964, 5967, 5968,\n",
      "       5969, 6163, 6177, 6177, 6180, 6181, 6182, 6376, 6390, 6390, 6393,\n",
      "       6394, 6395, 6589], dtype=int64), array([3, 5, 5, 5, 5, 5, 0, 1, 3, 5, 5, 5, 5, 5, 0, 3, 5, 5, 5, 5, 5, 0,\n",
      "       3, 5, 5, 5, 5, 5, 0, 3, 5, 5, 5, 5, 5, 0, 3, 5, 5, 5, 5, 0, 3, 5,\n",
      "       5, 5, 5, 0, 3, 5, 5, 5, 5, 0, 3, 5, 5, 5, 5, 0, 3, 5, 5, 5, 5, 0,\n",
      "       3, 5, 5, 5, 5, 0, 3, 5, 5, 5, 5, 0, 3, 5, 5, 5, 0, 3, 5, 5, 5, 0,\n",
      "       3, 5, 5, 5, 0, 3, 5, 5, 3, 5, 0, 3, 5, 5, 3, 5, 0, 3, 5, 5, 3, 3,\n",
      "       5, 0, 3, 5, 5, 3, 3, 0, 3, 5, 5, 3, 3, 0, 3, 5, 5, 3, 3, 0, 3, 5,\n",
      "       5, 3, 3, 0, 3, 5, 5, 3, 3, 0, 3, 5, 5, 3, 3, 0, 3, 5, 5, 3, 3, 0,\n",
      "       3, 5, 5, 3, 3, 0, 3, 5, 5, 3, 3, 0, 3, 5, 5, 3, 3, 0, 3, 5, 5, 3,\n",
      "       3, 0, 3, 5, 5, 3, 3, 0, 3, 5, 5, 3, 3, 0], dtype=int64))\n"
     ]
    }
   ],
   "source": [
    "threshold=3\n",
    "print(np.where(z>3))"
   ]
  },
  {
   "cell_type": "code",
   "execution_count": 40,
   "metadata": {},
   "outputs": [
    {
     "data": {
      "text/html": [
       "<div>\n",
       "<style scoped>\n",
       "    .dataframe tbody tr th:only-of-type {\n",
       "        vertical-align: middle;\n",
       "    }\n",
       "\n",
       "    .dataframe tbody tr th {\n",
       "        vertical-align: top;\n",
       "    }\n",
       "\n",
       "    .dataframe thead th {\n",
       "        text-align: right;\n",
       "    }\n",
       "</style>\n",
       "<table border=\"1\" class=\"dataframe\">\n",
       "  <thead>\n",
       "    <tr style=\"text-align: right;\">\n",
       "      <th></th>\n",
       "      <th>Population</th>\n",
       "      <th>Total Tests</th>\n",
       "      <th>Total Cases</th>\n",
       "      <th>Total Deaths</th>\n",
       "      <th>Total Recovered</th>\n",
       "      <th>Serious or Critical</th>\n",
       "      <th>Active Cases</th>\n",
       "    </tr>\n",
       "  </thead>\n",
       "  <tbody>\n",
       "    <tr>\n",
       "      <td>1</td>\n",
       "      <td>18.798619</td>\n",
       "      <td>14.420860</td>\n",
       "      <td>10.513090</td>\n",
       "      <td>5.749393</td>\n",
       "      <td>8.025516</td>\n",
       "      <td>2.197225</td>\n",
       "      <td>10.417029</td>\n",
       "    </tr>\n",
       "    <tr>\n",
       "      <td>4</td>\n",
       "      <td>18.032725</td>\n",
       "      <td>13.039933</td>\n",
       "      <td>11.645864</td>\n",
       "      <td>9.646335</td>\n",
       "      <td>5.393628</td>\n",
       "      <td>7.352441</td>\n",
       "      <td>11.496898</td>\n",
       "    </tr>\n",
       "    <tr>\n",
       "      <td>5</td>\n",
       "      <td>17.917690</td>\n",
       "      <td>14.082352</td>\n",
       "      <td>12.077819</td>\n",
       "      <td>10.053114</td>\n",
       "      <td>10.712816</td>\n",
       "      <td>7.913521</td>\n",
       "      <td>11.587773</td>\n",
       "    </tr>\n",
       "    <tr>\n",
       "      <td>7</td>\n",
       "      <td>18.243381</td>\n",
       "      <td>14.362682</td>\n",
       "      <td>11.875657</td>\n",
       "      <td>8.420462</td>\n",
       "      <td>11.355113</td>\n",
       "      <td>7.980366</td>\n",
       "      <td>10.892787</td>\n",
       "    </tr>\n",
       "    <tr>\n",
       "      <td>8</td>\n",
       "      <td>18.249063</td>\n",
       "      <td>13.302907</td>\n",
       "      <td>11.318491</td>\n",
       "      <td>7.544861</td>\n",
       "      <td>9.254740</td>\n",
       "      <td>7.546974</td>\n",
       "      <td>11.156065</td>\n",
       "    </tr>\n",
       "    <tr>\n",
       "      <td>...</td>\n",
       "      <td>...</td>\n",
       "      <td>...</td>\n",
       "      <td>...</td>\n",
       "      <td>...</td>\n",
       "      <td>...</td>\n",
       "      <td>...</td>\n",
       "      <td>...</td>\n",
       "    </tr>\n",
       "    <tr>\n",
       "      <td>6598</td>\n",
       "      <td>9.197762</td>\n",
       "      <td>10.145610</td>\n",
       "      <td>1.945910</td>\n",
       "      <td>3.218876</td>\n",
       "      <td>1.945910</td>\n",
       "      <td>2.639057</td>\n",
       "      <td>0.000000</td>\n",
       "    </tr>\n",
       "    <tr>\n",
       "      <td>6599</td>\n",
       "      <td>13.297095</td>\n",
       "      <td>10.145610</td>\n",
       "      <td>1.945910</td>\n",
       "      <td>3.218876</td>\n",
       "      <td>1.945910</td>\n",
       "      <td>2.639057</td>\n",
       "      <td>0.000000</td>\n",
       "    </tr>\n",
       "    <tr>\n",
       "      <td>6600</td>\n",
       "      <td>9.615005</td>\n",
       "      <td>10.145610</td>\n",
       "      <td>1.386294</td>\n",
       "      <td>3.218876</td>\n",
       "      <td>1.386294</td>\n",
       "      <td>2.639057</td>\n",
       "      <td>0.000000</td>\n",
       "    </tr>\n",
       "    <tr>\n",
       "      <td>6601</td>\n",
       "      <td>14.576427</td>\n",
       "      <td>10.145610</td>\n",
       "      <td>0.693147</td>\n",
       "      <td>3.218876</td>\n",
       "      <td>5.393628</td>\n",
       "      <td>2.639057</td>\n",
       "      <td>0.693147</td>\n",
       "    </tr>\n",
       "    <tr>\n",
       "      <td>6602</td>\n",
       "      <td>8.665268</td>\n",
       "      <td>10.145610</td>\n",
       "      <td>0.693147</td>\n",
       "      <td>3.218876</td>\n",
       "      <td>0.693147</td>\n",
       "      <td>2.639057</td>\n",
       "      <td>0.000000</td>\n",
       "    </tr>\n",
       "  </tbody>\n",
       "</table>\n",
       "<p>6444 rows × 7 columns</p>\n",
       "</div>"
      ],
      "text/plain": [
       "      Population  Total Tests  Total Cases  Total Deaths  Total Recovered  \\\n",
       "1      18.798619    14.420860    10.513090      5.749393         8.025516   \n",
       "4      18.032725    13.039933    11.645864      9.646335         5.393628   \n",
       "5      17.917690    14.082352    12.077819     10.053114        10.712816   \n",
       "7      18.243381    14.362682    11.875657      8.420462        11.355113   \n",
       "8      18.249063    13.302907    11.318491      7.544861         9.254740   \n",
       "...          ...          ...          ...           ...              ...   \n",
       "6598    9.197762    10.145610     1.945910      3.218876         1.945910   \n",
       "6599   13.297095    10.145610     1.945910      3.218876         1.945910   \n",
       "6600    9.615005    10.145610     1.386294      3.218876         1.386294   \n",
       "6601   14.576427    10.145610     0.693147      3.218876         5.393628   \n",
       "6602    8.665268    10.145610     0.693147      3.218876         0.693147   \n",
       "\n",
       "      Serious or Critical  Active Cases  \n",
       "1                2.197225     10.417029  \n",
       "4                7.352441     11.496898  \n",
       "5                7.913521     11.587773  \n",
       "7                7.980366     10.892787  \n",
       "8                7.546974     11.156065  \n",
       "...                   ...           ...  \n",
       "6598             2.639057      0.000000  \n",
       "6599             2.639057      0.000000  \n",
       "6600             2.639057      0.000000  \n",
       "6601             2.639057      0.693147  \n",
       "6602             2.639057      0.000000  \n",
       "\n",
       "[6444 rows x 7 columns]"
      ]
     },
     "execution_count": 40,
     "metadata": {},
     "output_type": "execute_result"
    }
   ],
   "source": [
    "df_new=df[((z<3).all(axis=1))] #Removing the outliers\n",
    "df_new"
   ]
  },
  {
   "cell_type": "code",
   "execution_count": 42,
   "metadata": {},
   "outputs": [],
   "source": [
    "df1=df_new[['Population','Total Tests','Total Recovered','Serious or Critical','Active Cases']]"
   ]
  },
  {
   "cell_type": "code",
   "execution_count": 43,
   "metadata": {},
   "outputs": [],
   "source": [
    "x=df1"
   ]
  },
  {
   "cell_type": "code",
   "execution_count": 44,
   "metadata": {},
   "outputs": [
    {
     "data": {
      "text/plain": [
       "(6444, 5)"
      ]
     },
     "execution_count": 44,
     "metadata": {},
     "output_type": "execute_result"
    }
   ],
   "source": [
    "x.shape"
   ]
  },
  {
   "cell_type": "code",
   "execution_count": 45,
   "metadata": {},
   "outputs": [],
   "source": [
    "y=df_new[['Total Deaths']]"
   ]
  },
  {
   "cell_type": "code",
   "execution_count": 46,
   "metadata": {},
   "outputs": [
    {
     "data": {
      "text/plain": [
       "(6444, 1)"
      ]
     },
     "execution_count": 46,
     "metadata": {},
     "output_type": "execute_result"
    }
   ],
   "source": [
    "y.shape"
   ]
  },
  {
   "cell_type": "code",
   "execution_count": 47,
   "metadata": {},
   "outputs": [],
   "source": [
    "#Scaling the input variable\n",
    "#Algorithm requires all features to be on common scale"
   ]
  },
  {
   "cell_type": "code",
   "execution_count": 48,
   "metadata": {},
   "outputs": [],
   "source": [
    "from sklearn.preprocessing import StandardScaler\n",
    "scale = StandardScaler()\n",
    "\n",
    "x = scale.fit_transform(x)"
   ]
  },
  {
   "cell_type": "code",
   "execution_count": 49,
   "metadata": {},
   "outputs": [
    {
     "name": "stdout",
     "output_type": "stream",
     "text": [
      "max r2 score corresponding to 78 is 0.7348203500245241\n"
     ]
    }
   ],
   "source": [
    "from sklearn.metrics import mean_absolute_error\n",
    "from sklearn.metrics import mean_squared_error\n",
    "from sklearn.metrics import r2_score\n",
    "from sklearn import linear_model\n",
    "\n",
    "max_r_score = 0\n",
    "for r_state in range(42,100):\n",
    "    x_train,x_test,y_train,y_test = train_test_split(x,y,random_state=r_state,test_size = 0.20)\n",
    "    regr = linear_model.LinearRegression()\n",
    "    regr.fit(x_train,y_train)\n",
    "    y_pred = regr.predict(x_test)\n",
    "    r2_scr = r2_score(y_test,y_pred)\n",
    "    if r2_scr>max_r_score:\n",
    "        max_r_score = r2_scr\n",
    "        final_r_state = r_state\n",
    "print('max r2 score corresponding to',final_r_state,'is',max_r_score)"
   ]
  },
  {
   "cell_type": "code",
   "execution_count": 50,
   "metadata": {},
   "outputs": [
    {
     "data": {
      "text/plain": [
       "0.6981709352705797"
      ]
     },
     "execution_count": 50,
     "metadata": {},
     "output_type": "execute_result"
    }
   ],
   "source": [
    "from sklearn.model_selection import cross_val_score\n",
    "cross_val_score(linear_model.LinearRegression(),x,y,cv=10,scoring ='r2').mean()"
   ]
  },
  {
   "cell_type": "code",
   "execution_count": 51,
   "metadata": {},
   "outputs": [],
   "source": [
    "x_train,x_test,y_train,y_test = train_test_split(x,y,random_state = 95,test_size=0.20)\n",
    "lreg = linear_model.LinearRegression()\n",
    "lreg.fit(x_train,y_train)\n",
    "pred = lreg.predict(x_test)"
   ]
  },
  {
   "cell_type": "code",
   "execution_count": 52,
   "metadata": {},
   "outputs": [
    {
     "data": {
      "text/plain": [
       "0.7012249496419611"
      ]
     },
     "execution_count": 52,
     "metadata": {},
     "output_type": "execute_result"
    }
   ],
   "source": [
    "lreg.score(x_train,y_train)"
   ]
  },
  {
   "cell_type": "code",
   "execution_count": 53,
   "metadata": {},
   "outputs": [],
   "source": [
    "from sklearn.ensemble import RandomForestRegressor\n",
    "from sklearn.ensemble import GradientBoostingRegressor\n",
    "from sklearn.ensemble import AdaBoostRegressor"
   ]
  },
  {
   "cell_type": "code",
   "execution_count": 54,
   "metadata": {},
   "outputs": [],
   "source": [
    "model = [LinearRegression(),RandomForestRegressor(n_estimators = 200, random_state = 45),GradientBoostingRegressor(),AdaBoostRegressor()]"
   ]
  },
  {
   "cell_type": "code",
   "execution_count": 55,
   "metadata": {},
   "outputs": [
    {
     "name": "stdout",
     "output_type": "stream",
     "text": [
      "score 0.7012249496419611\n",
      "score 0.9876765095189581\n",
      "score 0.8980277370813559\n",
      "score 0.7754901737971286\n"
     ]
    }
   ],
   "source": [
    "for m in model:\n",
    "    m.fit(x_train,y_train)\n",
    "    score=m.score(x_train,y_train)\n",
    "    print('score',score)"
   ]
  },
  {
   "cell_type": "code",
   "execution_count": 56,
   "metadata": {},
   "outputs": [
    {
     "name": "stdout",
     "output_type": "stream",
     "text": [
      "0.6965597080105985\n",
      "0.9264577753686878\n",
      "0.8722251534200117\n",
      "0.7553092008451616\n"
     ]
    }
   ],
   "source": [
    "cros_val= [LinearRegression(),RandomForestRegressor(),GradientBoostingRegressor(),AdaBoostRegressor()]\n",
    "for cv in cros_val:\n",
    "    score= cross_val_score(cv,x,y,cv=5,scoring='r2')\n",
    "    print(score.mean())"
   ]
  },
  {
   "cell_type": "code",
   "execution_count": 57,
   "metadata": {},
   "outputs": [
    {
     "data": {
      "text/plain": [
       "0.9876765095189581"
      ]
     },
     "execution_count": 57,
     "metadata": {},
     "output_type": "execute_result"
    }
   ],
   "source": [
    "rf=RandomForestRegressor(n_estimators = 200, random_state = 45)\n",
    "rf.fit(x_train,y_train)\n",
    "rf.score(x_train,y_train)"
   ]
  },
  {
   "cell_type": "code",
   "execution_count": 60,
   "metadata": {},
   "outputs": [
    {
     "data": {
      "text/plain": [
       "array([4.42949495, 3.21565695, 6.25817258, ..., 6.19966969, 4.25338325,\n",
       "       3.21887582])"
      ]
     },
     "execution_count": 60,
     "metadata": {},
     "output_type": "execute_result"
    }
   ],
   "source": [
    "from sklearn.externals import joblib\n",
    "joblib.dump(rf,'rfcovid_world.obj')\n",
    "rf_from_joblib = joblib.load('rfcovid_world.obj')\n",
    "rf_from_joblib.predict(x_test)"
   ]
  }
 ],
 "metadata": {
  "kernelspec": {
   "display_name": "Python 3",
   "language": "python",
   "name": "python3"
  },
  "language_info": {
   "codemirror_mode": {
    "name": "ipython",
    "version": 3
   },
   "file_extension": ".py",
   "mimetype": "text/x-python",
   "name": "python",
   "nbconvert_exporter": "python",
   "pygments_lexer": "ipython3",
   "version": "3.7.4"
  }
 },
 "nbformat": 4,
 "nbformat_minor": 2
}
