{
 "cells": [
  {
   "cell_type": "markdown",
   "metadata": {},
   "source": [
    "1. C\n",
    "2. B\n",
    "3. C\n",
    "4. 2\n",
    "5. C\n",
    "6. C\n",
    "7. A\n",
    "8. c\n",
    "9. A,C\n",
    "10. A,B"
   ]
  },
  {
   "cell_type": "markdown",
   "metadata": {},
   "source": [
    "11"
   ]
  },
  {
   "cell_type": "code",
   "execution_count": 43,
   "metadata": {},
   "outputs": [
    {
     "name": "stdout",
     "output_type": "stream",
     "text": [
      "Factorial of 4 is  24\n"
     ]
    }
   ],
   "source": [
    "n=4\n",
    "fact=1\n",
    "\n",
    "for i in range(1,n+1):\n",
    "    fact = fact*i\n",
    "\n",
    "print(\"Factorial of 4 is \",fact)"
   ]
  },
  {
   "cell_type": "markdown",
   "metadata": {},
   "source": [
    "12."
   ]
  },
  {
   "cell_type": "code",
   "execution_count": 49,
   "metadata": {},
   "outputs": [
    {
     "name": "stdout",
     "output_type": "stream",
     "text": [
      "11 is a prime number\n"
     ]
    }
   ],
   "source": [
    "num=11\n",
    "if num>1:\n",
    "    for i in range(2,num):\n",
    "        if (num%i)==0:\n",
    "            print(num, \"is not a prime number\")\n",
    "            break\n",
    "    else:\n",
    "        print(num,\"is a prime number\")\n",
    "else:\n",
    "    print(num, \"is not a prime number\")\n",
    "\n",
    "    "
   ]
  },
  {
   "cell_type": "markdown",
   "metadata": {},
   "source": [
    "13."
   ]
  },
  {
   "cell_type": "code",
   "execution_count": 24,
   "metadata": {},
   "outputs": [
    {
     "name": "stdout",
     "output_type": "stream",
     "text": [
      "String is a palindrome\n"
     ]
    }
   ],
   "source": [
    "string=\"madam\"\n",
    "\n",
    "\n",
    "def ispalindrome(str):\n",
    "    for i in range(0,int(len(str)/2)):\n",
    "        if str[i] != str[len(str)-i-1]:\n",
    "            return False\n",
    "        else:\n",
    "            return True\n",
    "\n",
    "ans = ispalindrome(string)\n",
    "if(ans):\n",
    "    print('String is a palindrome')\n",
    "else:\n",
    "    print('String is not a palindrome')"
   ]
  },
  {
   "cell_type": "markdown",
   "metadata": {},
   "source": [
    "15."
   ]
  },
  {
   "cell_type": "code",
   "execution_count": 25,
   "metadata": {},
   "outputs": [
    {
     "data": {
      "text/plain": [
       "{'a': 2, 'k': 1, 'w': 1, 'r': 1, 'd': 1}"
      ]
     },
     "execution_count": 25,
     "metadata": {},
     "output_type": "execute_result"
    }
   ],
   "source": [
    "\n",
    "string ='akward'\n",
    "\n",
    "frequency ={}\n",
    "\n",
    "for i in string:\n",
    "    if i in frequency:\n",
    "        frequency[i] =frequency[i]+1\n",
    "    else:\n",
    "        frequency[i] = 1\n",
    "frequency"
   ]
  },
  {
   "cell_type": "code",
   "execution_count": null,
   "metadata": {},
   "outputs": [],
   "source": []
  }
 ],
 "metadata": {
  "kernelspec": {
   "display_name": "Python 3",
   "language": "python",
   "name": "python3"
  },
  "language_info": {
   "codemirror_mode": {
    "name": "ipython",
    "version": 3
   },
   "file_extension": ".py",
   "mimetype": "text/x-python",
   "name": "python",
   "nbconvert_exporter": "python",
   "pygments_lexer": "ipython3",
   "version": "3.7.4"
  }
 },
 "nbformat": 4,
 "nbformat_minor": 2
}
