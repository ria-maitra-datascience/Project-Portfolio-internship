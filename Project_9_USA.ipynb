{
 "cells": [
  {
   "cell_type": "markdown",
   "metadata": {},
   "source": [
    "# Contents"
   ]
  },
  {
   "cell_type": "markdown",
   "metadata": {},
   "source": [
    "1. UnitedStates_COVID_19_dataset\n",
    "2. Problem Definition\n",
    "3. Data Analysis (EDA)\n",
    "4. Pre-processing Pipeline\n",
    "5. Building Machine Learning Models\n",
    "6. Concluding Remark"
   ]
  },
  {
   "cell_type": "markdown",
   "metadata": {},
   "source": [
    "# 1. UnitedStates_COVID_19_dataset"
   ]
  },
  {
   "cell_type": "markdown",
   "metadata": {},
   "source": [
    "This is the data repository for the 2019 Novel Coronavirus Visual Dashboard operated by the Johns Hopkins University Center for Systems Science and Engineering (JHU CSSE). Also, Supported by ESRI Living Atlas Team and the Johns Hopkins University Applied Physics Lab (JHU APL)"
   ]
  },
  {
   "cell_type": "markdown",
   "metadata": {},
   "source": [
    "# 2.Problem Definition"
   ]
  },
  {
   "cell_type": "markdown",
   "metadata": {},
   "source": [
    "The dataset  is provided to identify the deaths and recovered cases."
   ]
  },
  {
   "cell_type": "code",
   "execution_count": 20,
   "metadata": {},
   "outputs": [],
   "source": [
    "import pandas as pd\n",
    "import numpy as np\n",
    "import seaborn as sns\n",
    "import matplotlib.pyplot as plt\n",
    "from sklearn.preprocessing import LabelEncoder\n",
    "from sklearn.linear_model import LinearRegression\n",
    "from sklearn.metrics import mean_squared_error,mean_absolute_error\n",
    "\n",
    "from sklearn.model_selection import train_test_split\n",
    "import warnings\n",
    "warnings.filterwarnings('ignore')"
   ]
  },
  {
   "cell_type": "code",
   "execution_count": 21,
   "metadata": {},
   "outputs": [],
   "source": [
    "df=pd.read_csv('covid-19_USA.csv')"
   ]
  },
  {
   "cell_type": "code",
   "execution_count": 22,
   "metadata": {},
   "outputs": [
    {
     "data": {
      "text/html": [
       "<div>\n",
       "<style scoped>\n",
       "    .dataframe tbody tr th:only-of-type {\n",
       "        vertical-align: middle;\n",
       "    }\n",
       "\n",
       "    .dataframe tbody tr th {\n",
       "        vertical-align: top;\n",
       "    }\n",
       "\n",
       "    .dataframe thead th {\n",
       "        text-align: right;\n",
       "    }\n",
       "</style>\n",
       "<table border=\"1\" class=\"dataframe\">\n",
       "  <thead>\n",
       "    <tr style=\"text-align: right;\">\n",
       "      <th></th>\n",
       "      <th>Province_State</th>\n",
       "      <th>Country_Region</th>\n",
       "      <th>Last_Update</th>\n",
       "      <th>Lat</th>\n",
       "      <th>Long_</th>\n",
       "      <th>Confirmed</th>\n",
       "      <th>Deaths</th>\n",
       "      <th>Recovered</th>\n",
       "      <th>Active</th>\n",
       "      <th>FIPS</th>\n",
       "      <th>Incident_Rate</th>\n",
       "      <th>People_Tested</th>\n",
       "      <th>People_Hospitalized</th>\n",
       "      <th>Mortality_Rate</th>\n",
       "      <th>UID</th>\n",
       "      <th>ISO3</th>\n",
       "      <th>Testing_Rate</th>\n",
       "      <th>Hospitalization_Rate</th>\n",
       "    </tr>\n",
       "  </thead>\n",
       "  <tbody>\n",
       "    <tr>\n",
       "      <td>0</td>\n",
       "      <td>Alabama</td>\n",
       "      <td>US</td>\n",
       "      <td>2020-05-21 02:32:54</td>\n",
       "      <td>32.3182</td>\n",
       "      <td>-86.9023</td>\n",
       "      <td>13052</td>\n",
       "      <td>522</td>\n",
       "      <td>NaN</td>\n",
       "      <td>12530.0</td>\n",
       "      <td>1</td>\n",
       "      <td>266.194321</td>\n",
       "      <td>164450.0</td>\n",
       "      <td>1493.0</td>\n",
       "      <td>3.999387</td>\n",
       "      <td>84000001</td>\n",
       "      <td>USA</td>\n",
       "      <td>3353.942386</td>\n",
       "      <td>11.438860</td>\n",
       "    </tr>\n",
       "    <tr>\n",
       "      <td>1</td>\n",
       "      <td>Alaska</td>\n",
       "      <td>US</td>\n",
       "      <td>2020-05-21 02:32:54</td>\n",
       "      <td>61.3707</td>\n",
       "      <td>-152.4044</td>\n",
       "      <td>401</td>\n",
       "      <td>10</td>\n",
       "      <td>352.0</td>\n",
       "      <td>39.0</td>\n",
       "      <td>2</td>\n",
       "      <td>54.815493</td>\n",
       "      <td>37045.0</td>\n",
       "      <td>NaN</td>\n",
       "      <td>2.493766</td>\n",
       "      <td>84000002</td>\n",
       "      <td>USA</td>\n",
       "      <td>5063.940017</td>\n",
       "      <td>NaN</td>\n",
       "    </tr>\n",
       "    <tr>\n",
       "      <td>2</td>\n",
       "      <td>American Samoa</td>\n",
       "      <td>US</td>\n",
       "      <td>2020-05-21 02:32:54</td>\n",
       "      <td>-14.2710</td>\n",
       "      <td>-170.1320</td>\n",
       "      <td>0</td>\n",
       "      <td>0</td>\n",
       "      <td>NaN</td>\n",
       "      <td>0.0</td>\n",
       "      <td>60</td>\n",
       "      <td>0.000000</td>\n",
       "      <td>124.0</td>\n",
       "      <td>NaN</td>\n",
       "      <td>NaN</td>\n",
       "      <td>16</td>\n",
       "      <td>ASM</td>\n",
       "      <td>222.857246</td>\n",
       "      <td>NaN</td>\n",
       "    </tr>\n",
       "    <tr>\n",
       "      <td>3</td>\n",
       "      <td>Arizona</td>\n",
       "      <td>US</td>\n",
       "      <td>2020-05-21 02:32:54</td>\n",
       "      <td>33.7298</td>\n",
       "      <td>-111.4312</td>\n",
       "      <td>14906</td>\n",
       "      <td>747</td>\n",
       "      <td>3773.0</td>\n",
       "      <td>10386.0</td>\n",
       "      <td>4</td>\n",
       "      <td>204.788838</td>\n",
       "      <td>165435.0</td>\n",
       "      <td>1792.0</td>\n",
       "      <td>5.011405</td>\n",
       "      <td>84000004</td>\n",
       "      <td>USA</td>\n",
       "      <td>2272.859351</td>\n",
       "      <td>12.022005</td>\n",
       "    </tr>\n",
       "    <tr>\n",
       "      <td>4</td>\n",
       "      <td>Arkansas</td>\n",
       "      <td>US</td>\n",
       "      <td>2020-05-21 02:32:54</td>\n",
       "      <td>34.9697</td>\n",
       "      <td>-92.3731</td>\n",
       "      <td>5003</td>\n",
       "      <td>107</td>\n",
       "      <td>3852.0</td>\n",
       "      <td>1044.0</td>\n",
       "      <td>5</td>\n",
       "      <td>165.782801</td>\n",
       "      <td>96258.0</td>\n",
       "      <td>535.0</td>\n",
       "      <td>2.138717</td>\n",
       "      <td>84000005</td>\n",
       "      <td>USA</td>\n",
       "      <td>3189.670370</td>\n",
       "      <td>10.693584</td>\n",
       "    </tr>\n",
       "    <tr>\n",
       "      <td>5</td>\n",
       "      <td>California</td>\n",
       "      <td>US</td>\n",
       "      <td>2020-05-21 02:32:54</td>\n",
       "      <td>36.1162</td>\n",
       "      <td>-119.6816</td>\n",
       "      <td>85997</td>\n",
       "      <td>3497</td>\n",
       "      <td>NaN</td>\n",
       "      <td>82500.0</td>\n",
       "      <td>6</td>\n",
       "      <td>217.646575</td>\n",
       "      <td>1380120.0</td>\n",
       "      <td>NaN</td>\n",
       "      <td>4.066421</td>\n",
       "      <td>84000006</td>\n",
       "      <td>USA</td>\n",
       "      <td>3492.893832</td>\n",
       "      <td>NaN</td>\n",
       "    </tr>\n",
       "    <tr>\n",
       "      <td>6</td>\n",
       "      <td>Colorado</td>\n",
       "      <td>US</td>\n",
       "      <td>2020-05-21 02:32:54</td>\n",
       "      <td>39.0598</td>\n",
       "      <td>-105.3111</td>\n",
       "      <td>22797</td>\n",
       "      <td>1299</td>\n",
       "      <td>3478.0</td>\n",
       "      <td>18020.0</td>\n",
       "      <td>8</td>\n",
       "      <td>395.868121</td>\n",
       "      <td>131837.0</td>\n",
       "      <td>3955.0</td>\n",
       "      <td>5.698118</td>\n",
       "      <td>84000008</td>\n",
       "      <td>USA</td>\n",
       "      <td>2289.339188</td>\n",
       "      <td>17.348774</td>\n",
       "    </tr>\n",
       "    <tr>\n",
       "      <td>7</td>\n",
       "      <td>Connecticut</td>\n",
       "      <td>US</td>\n",
       "      <td>2020-05-21 02:32:54</td>\n",
       "      <td>41.5978</td>\n",
       "      <td>-72.7554</td>\n",
       "      <td>39017</td>\n",
       "      <td>3529</td>\n",
       "      <td>6264.0</td>\n",
       "      <td>29224.0</td>\n",
       "      <td>9</td>\n",
       "      <td>1094.357902</td>\n",
       "      <td>190718.0</td>\n",
       "      <td>10946.0</td>\n",
       "      <td>9.044775</td>\n",
       "      <td>84000009</td>\n",
       "      <td>USA</td>\n",
       "      <td>5349.302875</td>\n",
       "      <td>28.054438</td>\n",
       "    </tr>\n",
       "    <tr>\n",
       "      <td>8</td>\n",
       "      <td>Delaware</td>\n",
       "      <td>US</td>\n",
       "      <td>2020-05-21 02:32:54</td>\n",
       "      <td>39.3185</td>\n",
       "      <td>-75.5071</td>\n",
       "      <td>8194</td>\n",
       "      <td>310</td>\n",
       "      <td>3965.0</td>\n",
       "      <td>3919.0</td>\n",
       "      <td>10</td>\n",
       "      <td>841.476990</td>\n",
       "      <td>45412.0</td>\n",
       "      <td>NaN</td>\n",
       "      <td>3.783256</td>\n",
       "      <td>84000010</td>\n",
       "      <td>USA</td>\n",
       "      <td>4663.552976</td>\n",
       "      <td>NaN</td>\n",
       "    </tr>\n",
       "    <tr>\n",
       "      <td>9</td>\n",
       "      <td>Diamond Princess</td>\n",
       "      <td>US</td>\n",
       "      <td>2020-05-21 02:32:54</td>\n",
       "      <td>NaN</td>\n",
       "      <td>NaN</td>\n",
       "      <td>49</td>\n",
       "      <td>0</td>\n",
       "      <td>NaN</td>\n",
       "      <td>49.0</td>\n",
       "      <td>88888</td>\n",
       "      <td>NaN</td>\n",
       "      <td>NaN</td>\n",
       "      <td>NaN</td>\n",
       "      <td>0.000000</td>\n",
       "      <td>84088888</td>\n",
       "      <td>USA</td>\n",
       "      <td>NaN</td>\n",
       "      <td>NaN</td>\n",
       "    </tr>\n",
       "    <tr>\n",
       "      <td>10</td>\n",
       "      <td>District of Columbia</td>\n",
       "      <td>US</td>\n",
       "      <td>2020-05-21 02:32:54</td>\n",
       "      <td>38.8974</td>\n",
       "      <td>-77.0268</td>\n",
       "      <td>7551</td>\n",
       "      <td>407</td>\n",
       "      <td>1059.0</td>\n",
       "      <td>6085.0</td>\n",
       "      <td>11</td>\n",
       "      <td>1069.927127</td>\n",
       "      <td>40419.0</td>\n",
       "      <td>NaN</td>\n",
       "      <td>5.390015</td>\n",
       "      <td>84000011</td>\n",
       "      <td>USA</td>\n",
       "      <td>5727.106946</td>\n",
       "      <td>NaN</td>\n",
       "    </tr>\n",
       "    <tr>\n",
       "      <td>11</td>\n",
       "      <td>Florida</td>\n",
       "      <td>US</td>\n",
       "      <td>2020-05-21 02:32:54</td>\n",
       "      <td>27.7663</td>\n",
       "      <td>-81.6868</td>\n",
       "      <td>47471</td>\n",
       "      <td>2096</td>\n",
       "      <td>NaN</td>\n",
       "      <td>45375.0</td>\n",
       "      <td>12</td>\n",
       "      <td>221.024217</td>\n",
       "      <td>771348.0</td>\n",
       "      <td>8934.0</td>\n",
       "      <td>4.415327</td>\n",
       "      <td>84000012</td>\n",
       "      <td>USA</td>\n",
       "      <td>3591.383953</td>\n",
       "      <td>18.819911</td>\n",
       "    </tr>\n",
       "    <tr>\n",
       "      <td>12</td>\n",
       "      <td>Georgia</td>\n",
       "      <td>US</td>\n",
       "      <td>2020-05-21 02:32:54</td>\n",
       "      <td>33.0406</td>\n",
       "      <td>-83.6431</td>\n",
       "      <td>39801</td>\n",
       "      <td>1697</td>\n",
       "      <td>NaN</td>\n",
       "      <td>38104.0</td>\n",
       "      <td>13</td>\n",
       "      <td>374.864974</td>\n",
       "      <td>402940.0</td>\n",
       "      <td>7107.0</td>\n",
       "      <td>4.263712</td>\n",
       "      <td>84000013</td>\n",
       "      <td>USA</td>\n",
       "      <td>3795.082856</td>\n",
       "      <td>17.856335</td>\n",
       "    </tr>\n",
       "    <tr>\n",
       "      <td>13</td>\n",
       "      <td>Grand Princess</td>\n",
       "      <td>US</td>\n",
       "      <td>2020-05-21 02:32:54</td>\n",
       "      <td>NaN</td>\n",
       "      <td>NaN</td>\n",
       "      <td>103</td>\n",
       "      <td>3</td>\n",
       "      <td>NaN</td>\n",
       "      <td>100.0</td>\n",
       "      <td>99999</td>\n",
       "      <td>NaN</td>\n",
       "      <td>NaN</td>\n",
       "      <td>NaN</td>\n",
       "      <td>2.912621</td>\n",
       "      <td>84099999</td>\n",
       "      <td>USA</td>\n",
       "      <td>NaN</td>\n",
       "      <td>NaN</td>\n",
       "    </tr>\n",
       "    <tr>\n",
       "      <td>14</td>\n",
       "      <td>Guam</td>\n",
       "      <td>US</td>\n",
       "      <td>2020-05-21 02:32:54</td>\n",
       "      <td>13.4443</td>\n",
       "      <td>144.7937</td>\n",
       "      <td>154</td>\n",
       "      <td>5</td>\n",
       "      <td>125.0</td>\n",
       "      <td>24.0</td>\n",
       "      <td>66</td>\n",
       "      <td>93.771502</td>\n",
       "      <td>4972.0</td>\n",
       "      <td>NaN</td>\n",
       "      <td>3.246753</td>\n",
       "      <td>316</td>\n",
       "      <td>GUM</td>\n",
       "      <td>3027.479921</td>\n",
       "      <td>NaN</td>\n",
       "    </tr>\n",
       "    <tr>\n",
       "      <td>15</td>\n",
       "      <td>Hawaii</td>\n",
       "      <td>US</td>\n",
       "      <td>2020-05-21 02:32:54</td>\n",
       "      <td>21.0943</td>\n",
       "      <td>-157.4983</td>\n",
       "      <td>643</td>\n",
       "      <td>17</td>\n",
       "      <td>578.0</td>\n",
       "      <td>48.0</td>\n",
       "      <td>15</td>\n",
       "      <td>45.413710</td>\n",
       "      <td>46304.0</td>\n",
       "      <td>82.0</td>\n",
       "      <td>2.643857</td>\n",
       "      <td>84000015</td>\n",
       "      <td>USA</td>\n",
       "      <td>3270.352122</td>\n",
       "      <td>12.752722</td>\n",
       "    </tr>\n",
       "    <tr>\n",
       "      <td>16</td>\n",
       "      <td>Idaho</td>\n",
       "      <td>US</td>\n",
       "      <td>2020-05-21 02:32:54</td>\n",
       "      <td>44.2405</td>\n",
       "      <td>-114.4788</td>\n",
       "      <td>2506</td>\n",
       "      <td>77</td>\n",
       "      <td>1668.0</td>\n",
       "      <td>761.0</td>\n",
       "      <td>16</td>\n",
       "      <td>140.229930</td>\n",
       "      <td>38567.0</td>\n",
       "      <td>215.0</td>\n",
       "      <td>3.072626</td>\n",
       "      <td>84000016</td>\n",
       "      <td>USA</td>\n",
       "      <td>2158.119598</td>\n",
       "      <td>8.579409</td>\n",
       "    </tr>\n",
       "    <tr>\n",
       "      <td>17</td>\n",
       "      <td>Illinois</td>\n",
       "      <td>US</td>\n",
       "      <td>2020-05-21 02:32:54</td>\n",
       "      <td>40.3495</td>\n",
       "      <td>-88.9861</td>\n",
       "      <td>100418</td>\n",
       "      <td>4525</td>\n",
       "      <td>NaN</td>\n",
       "      <td>95893.0</td>\n",
       "      <td>17</td>\n",
       "      <td>792.451219</td>\n",
       "      <td>642713.0</td>\n",
       "      <td>NaN</td>\n",
       "      <td>4.506164</td>\n",
       "      <td>84000017</td>\n",
       "      <td>USA</td>\n",
       "      <td>5071.986102</td>\n",
       "      <td>NaN</td>\n",
       "    </tr>\n",
       "    <tr>\n",
       "      <td>18</td>\n",
       "      <td>Indiana</td>\n",
       "      <td>US</td>\n",
       "      <td>2020-05-21 02:32:54</td>\n",
       "      <td>39.8494</td>\n",
       "      <td>-86.2583</td>\n",
       "      <td>29274</td>\n",
       "      <td>1864</td>\n",
       "      <td>NaN</td>\n",
       "      <td>27410.0</td>\n",
       "      <td>18</td>\n",
       "      <td>434.834339</td>\n",
       "      <td>195738.0</td>\n",
       "      <td>4389.0</td>\n",
       "      <td>6.367425</td>\n",
       "      <td>84000018</td>\n",
       "      <td>USA</td>\n",
       "      <td>2907.481174</td>\n",
       "      <td>14.992826</td>\n",
       "    </tr>\n",
       "    <tr>\n",
       "      <td>19</td>\n",
       "      <td>Iowa</td>\n",
       "      <td>US</td>\n",
       "      <td>2020-05-21 02:32:54</td>\n",
       "      <td>42.0115</td>\n",
       "      <td>-93.2105</td>\n",
       "      <td>15620</td>\n",
       "      <td>393</td>\n",
       "      <td>8362.0</td>\n",
       "      <td>6865.0</td>\n",
       "      <td>19</td>\n",
       "      <td>495.076179</td>\n",
       "      <td>110748.0</td>\n",
       "      <td>NaN</td>\n",
       "      <td>2.516005</td>\n",
       "      <td>84000019</td>\n",
       "      <td>USA</td>\n",
       "      <td>3510.159838</td>\n",
       "      <td>NaN</td>\n",
       "    </tr>\n",
       "    <tr>\n",
       "      <td>20</td>\n",
       "      <td>Kansas</td>\n",
       "      <td>US</td>\n",
       "      <td>2020-05-21 02:32:54</td>\n",
       "      <td>38.5266</td>\n",
       "      <td>-96.7265</td>\n",
       "      <td>8507</td>\n",
       "      <td>202</td>\n",
       "      <td>473.0</td>\n",
       "      <td>7832.0</td>\n",
       "      <td>20</td>\n",
       "      <td>292.004226</td>\n",
       "      <td>71203.0</td>\n",
       "      <td>760.0</td>\n",
       "      <td>2.374515</td>\n",
       "      <td>84000020</td>\n",
       "      <td>USA</td>\n",
       "      <td>2444.055121</td>\n",
       "      <td>8.933819</td>\n",
       "    </tr>\n",
       "    <tr>\n",
       "      <td>21</td>\n",
       "      <td>Kentucky</td>\n",
       "      <td>US</td>\n",
       "      <td>2020-05-21 02:32:54</td>\n",
       "      <td>37.6681</td>\n",
       "      <td>-84.6701</td>\n",
       "      <td>8167</td>\n",
       "      <td>376</td>\n",
       "      <td>2826.0</td>\n",
       "      <td>4965.0</td>\n",
       "      <td>21</td>\n",
       "      <td>182.802099</td>\n",
       "      <td>153986.0</td>\n",
       "      <td>2010.0</td>\n",
       "      <td>4.603894</td>\n",
       "      <td>84000021</td>\n",
       "      <td>USA</td>\n",
       "      <td>3446.671231</td>\n",
       "      <td>24.611240</td>\n",
       "    </tr>\n",
       "    <tr>\n",
       "      <td>22</td>\n",
       "      <td>Louisiana</td>\n",
       "      <td>US</td>\n",
       "      <td>2020-05-21 02:32:54</td>\n",
       "      <td>31.1695</td>\n",
       "      <td>-91.8678</td>\n",
       "      <td>35316</td>\n",
       "      <td>2608</td>\n",
       "      <td>26249.0</td>\n",
       "      <td>6459.0</td>\n",
       "      <td>22</td>\n",
       "      <td>759.680898</td>\n",
       "      <td>285970.0</td>\n",
       "      <td>NaN</td>\n",
       "      <td>7.384755</td>\n",
       "      <td>84000022</td>\n",
       "      <td>USA</td>\n",
       "      <td>6151.487891</td>\n",
       "      <td>NaN</td>\n",
       "    </tr>\n",
       "    <tr>\n",
       "      <td>23</td>\n",
       "      <td>Maine</td>\n",
       "      <td>US</td>\n",
       "      <td>2020-05-21 02:32:54</td>\n",
       "      <td>44.6939</td>\n",
       "      <td>-69.3819</td>\n",
       "      <td>1819</td>\n",
       "      <td>73</td>\n",
       "      <td>1100.0</td>\n",
       "      <td>646.0</td>\n",
       "      <td>23</td>\n",
       "      <td>135.320917</td>\n",
       "      <td>37269.0</td>\n",
       "      <td>231.0</td>\n",
       "      <td>4.013194</td>\n",
       "      <td>84000023</td>\n",
       "      <td>USA</td>\n",
       "      <td>2772.553734</td>\n",
       "      <td>12.699285</td>\n",
       "    </tr>\n",
       "    <tr>\n",
       "      <td>24</td>\n",
       "      <td>Maryland</td>\n",
       "      <td>US</td>\n",
       "      <td>2020-05-21 02:32:54</td>\n",
       "      <td>39.0639</td>\n",
       "      <td>-76.8021</td>\n",
       "      <td>42323</td>\n",
       "      <td>2123</td>\n",
       "      <td>2993.0</td>\n",
       "      <td>37207.0</td>\n",
       "      <td>24</td>\n",
       "      <td>700.053592</td>\n",
       "      <td>215330.0</td>\n",
       "      <td>7393.0</td>\n",
       "      <td>5.016185</td>\n",
       "      <td>84000024</td>\n",
       "      <td>USA</td>\n",
       "      <td>3561.716796</td>\n",
       "      <td>17.468043</td>\n",
       "    </tr>\n",
       "    <tr>\n",
       "      <td>25</td>\n",
       "      <td>Massachusetts</td>\n",
       "      <td>US</td>\n",
       "      <td>2020-05-21 02:32:54</td>\n",
       "      <td>42.2302</td>\n",
       "      <td>-71.5301</td>\n",
       "      <td>88970</td>\n",
       "      <td>6066</td>\n",
       "      <td>NaN</td>\n",
       "      <td>82904.0</td>\n",
       "      <td>25</td>\n",
       "      <td>1290.822797</td>\n",
       "      <td>489953.0</td>\n",
       "      <td>8897.0</td>\n",
       "      <td>6.818029</td>\n",
       "      <td>84000025</td>\n",
       "      <td>USA</td>\n",
       "      <td>7108.491647</td>\n",
       "      <td>10.000000</td>\n",
       "    </tr>\n",
       "    <tr>\n",
       "      <td>26</td>\n",
       "      <td>Michigan</td>\n",
       "      <td>US</td>\n",
       "      <td>2020-05-21 02:32:54</td>\n",
       "      <td>43.3266</td>\n",
       "      <td>-84.5361</td>\n",
       "      <td>53009</td>\n",
       "      <td>5060</td>\n",
       "      <td>28234.0</td>\n",
       "      <td>19715.0</td>\n",
       "      <td>26</td>\n",
       "      <td>530.787614</td>\n",
       "      <td>437072.0</td>\n",
       "      <td>NaN</td>\n",
       "      <td>9.545549</td>\n",
       "      <td>84000026</td>\n",
       "      <td>USA</td>\n",
       "      <td>4376.471997</td>\n",
       "      <td>NaN</td>\n",
       "    </tr>\n",
       "    <tr>\n",
       "      <td>27</td>\n",
       "      <td>Minnesota</td>\n",
       "      <td>US</td>\n",
       "      <td>2020-05-21 02:32:54</td>\n",
       "      <td>45.6945</td>\n",
       "      <td>-93.9002</td>\n",
       "      <td>17670</td>\n",
       "      <td>786</td>\n",
       "      <td>12227.0</td>\n",
       "      <td>4657.0</td>\n",
       "      <td>27</td>\n",
       "      <td>313.318316</td>\n",
       "      <td>167338.0</td>\n",
       "      <td>2308.0</td>\n",
       "      <td>4.448217</td>\n",
       "      <td>84000027</td>\n",
       "      <td>USA</td>\n",
       "      <td>2967.179419</td>\n",
       "      <td>13.061686</td>\n",
       "    </tr>\n",
       "    <tr>\n",
       "      <td>28</td>\n",
       "      <td>Mississippi</td>\n",
       "      <td>US</td>\n",
       "      <td>2020-05-21 02:32:54</td>\n",
       "      <td>32.7416</td>\n",
       "      <td>-89.6787</td>\n",
       "      <td>11967</td>\n",
       "      <td>570</td>\n",
       "      <td>7681.0</td>\n",
       "      <td>3716.0</td>\n",
       "      <td>28</td>\n",
       "      <td>402.096804</td>\n",
       "      <td>120680.0</td>\n",
       "      <td>1901.0</td>\n",
       "      <td>4.763099</td>\n",
       "      <td>84000028</td>\n",
       "      <td>USA</td>\n",
       "      <td>4054.904509</td>\n",
       "      <td>15.885351</td>\n",
       "    </tr>\n",
       "    <tr>\n",
       "      <td>29</td>\n",
       "      <td>Missouri</td>\n",
       "      <td>US</td>\n",
       "      <td>2020-05-21 02:32:54</td>\n",
       "      <td>38.4561</td>\n",
       "      <td>-92.2884</td>\n",
       "      <td>11528</td>\n",
       "      <td>640</td>\n",
       "      <td>NaN</td>\n",
       "      <td>10888.0</td>\n",
       "      <td>29</td>\n",
       "      <td>187.831124</td>\n",
       "      <td>161984.0</td>\n",
       "      <td>NaN</td>\n",
       "      <td>5.551700</td>\n",
       "      <td>84000029</td>\n",
       "      <td>USA</td>\n",
       "      <td>2639.281471</td>\n",
       "      <td>NaN</td>\n",
       "    </tr>\n",
       "    <tr>\n",
       "      <td>30</td>\n",
       "      <td>Montana</td>\n",
       "      <td>US</td>\n",
       "      <td>2020-05-21 02:32:54</td>\n",
       "      <td>46.9219</td>\n",
       "      <td>-110.4544</td>\n",
       "      <td>478</td>\n",
       "      <td>16</td>\n",
       "      <td>440.0</td>\n",
       "      <td>22.0</td>\n",
       "      <td>30</td>\n",
       "      <td>44.723974</td>\n",
       "      <td>29726.0</td>\n",
       "      <td>65.0</td>\n",
       "      <td>3.347280</td>\n",
       "      <td>84000030</td>\n",
       "      <td>USA</td>\n",
       "      <td>2781.307250</td>\n",
       "      <td>13.598326</td>\n",
       "    </tr>\n",
       "    <tr>\n",
       "      <td>31</td>\n",
       "      <td>Nebraska</td>\n",
       "      <td>US</td>\n",
       "      <td>2020-05-21 02:32:54</td>\n",
       "      <td>41.1254</td>\n",
       "      <td>-98.2681</td>\n",
       "      <td>11122</td>\n",
       "      <td>138</td>\n",
       "      <td>NaN</td>\n",
       "      <td>10984.0</td>\n",
       "      <td>31</td>\n",
       "      <td>574.956266</td>\n",
       "      <td>72135.0</td>\n",
       "      <td>NaN</td>\n",
       "      <td>1.240784</td>\n",
       "      <td>84000031</td>\n",
       "      <td>USA</td>\n",
       "      <td>3729.047853</td>\n",
       "      <td>NaN</td>\n",
       "    </tr>\n",
       "    <tr>\n",
       "      <td>32</td>\n",
       "      <td>Nevada</td>\n",
       "      <td>US</td>\n",
       "      <td>2020-05-21 02:32:54</td>\n",
       "      <td>38.3135</td>\n",
       "      <td>-117.0554</td>\n",
       "      <td>7388</td>\n",
       "      <td>377</td>\n",
       "      <td>336.0</td>\n",
       "      <td>6675.0</td>\n",
       "      <td>32</td>\n",
       "      <td>239.857981</td>\n",
       "      <td>91171.0</td>\n",
       "      <td>NaN</td>\n",
       "      <td>5.102870</td>\n",
       "      <td>84000032</td>\n",
       "      <td>USA</td>\n",
       "      <td>2959.947483</td>\n",
       "      <td>NaN</td>\n",
       "    </tr>\n",
       "    <tr>\n",
       "      <td>33</td>\n",
       "      <td>New Hampshire</td>\n",
       "      <td>US</td>\n",
       "      <td>2020-05-21 02:32:54</td>\n",
       "      <td>43.4525</td>\n",
       "      <td>-71.5639</td>\n",
       "      <td>3868</td>\n",
       "      <td>190</td>\n",
       "      <td>1275.0</td>\n",
       "      <td>2403.0</td>\n",
       "      <td>33</td>\n",
       "      <td>284.472215</td>\n",
       "      <td>50888.0</td>\n",
       "      <td>383.0</td>\n",
       "      <td>4.912099</td>\n",
       "      <td>84000033</td>\n",
       "      <td>USA</td>\n",
       "      <td>3742.560000</td>\n",
       "      <td>9.901758</td>\n",
       "    </tr>\n",
       "    <tr>\n",
       "      <td>34</td>\n",
       "      <td>New Jersey</td>\n",
       "      <td>US</td>\n",
       "      <td>2020-05-21 02:32:54</td>\n",
       "      <td>40.2989</td>\n",
       "      <td>-74.5210</td>\n",
       "      <td>150776</td>\n",
       "      <td>10749</td>\n",
       "      <td>23945.0</td>\n",
       "      <td>116082.0</td>\n",
       "      <td>34</td>\n",
       "      <td>1697.509285</td>\n",
       "      <td>531343.0</td>\n",
       "      <td>NaN</td>\n",
       "      <td>7.129119</td>\n",
       "      <td>84000034</td>\n",
       "      <td>USA</td>\n",
       "      <td>5982.117023</td>\n",
       "      <td>NaN</td>\n",
       "    </tr>\n",
       "    <tr>\n",
       "      <td>35</td>\n",
       "      <td>New Mexico</td>\n",
       "      <td>US</td>\n",
       "      <td>2020-05-21 02:32:54</td>\n",
       "      <td>34.8405</td>\n",
       "      <td>-106.2485</td>\n",
       "      <td>6317</td>\n",
       "      <td>283</td>\n",
       "      <td>1882.0</td>\n",
       "      <td>4152.0</td>\n",
       "      <td>35</td>\n",
       "      <td>301.264433</td>\n",
       "      <td>142246.0</td>\n",
       "      <td>1139.0</td>\n",
       "      <td>4.479975</td>\n",
       "      <td>84000035</td>\n",
       "      <td>USA</td>\n",
       "      <td>6783.862680</td>\n",
       "      <td>18.030711</td>\n",
       "    </tr>\n",
       "    <tr>\n",
       "      <td>36</td>\n",
       "      <td>New York</td>\n",
       "      <td>US</td>\n",
       "      <td>2020-05-21 02:32:54</td>\n",
       "      <td>42.1657</td>\n",
       "      <td>-74.9481</td>\n",
       "      <td>354370</td>\n",
       "      <td>28636</td>\n",
       "      <td>61886.0</td>\n",
       "      <td>263848.0</td>\n",
       "      <td>36</td>\n",
       "      <td>1821.620216</td>\n",
       "      <td>1505836.0</td>\n",
       "      <td>76410.0</td>\n",
       "      <td>8.080819</td>\n",
       "      <td>84000036</td>\n",
       "      <td>USA</td>\n",
       "      <td>7740.670204</td>\n",
       "      <td>21.562209</td>\n",
       "    </tr>\n",
       "    <tr>\n",
       "      <td>37</td>\n",
       "      <td>North Carolina</td>\n",
       "      <td>US</td>\n",
       "      <td>2020-05-21 02:32:54</td>\n",
       "      <td>35.6301</td>\n",
       "      <td>-79.8064</td>\n",
       "      <td>20262</td>\n",
       "      <td>726</td>\n",
       "      <td>11637.0</td>\n",
       "      <td>7899.0</td>\n",
       "      <td>37</td>\n",
       "      <td>193.190672</td>\n",
       "      <td>277603.0</td>\n",
       "      <td>NaN</td>\n",
       "      <td>3.583062</td>\n",
       "      <td>84000037</td>\n",
       "      <td>USA</td>\n",
       "      <td>2646.841883</td>\n",
       "      <td>NaN</td>\n",
       "    </tr>\n",
       "    <tr>\n",
       "      <td>38</td>\n",
       "      <td>North Dakota</td>\n",
       "      <td>US</td>\n",
       "      <td>2020-05-21 02:32:54</td>\n",
       "      <td>47.5289</td>\n",
       "      <td>-99.7840</td>\n",
       "      <td>2095</td>\n",
       "      <td>49</td>\n",
       "      <td>1302.0</td>\n",
       "      <td>744.0</td>\n",
       "      <td>38</td>\n",
       "      <td>274.912015</td>\n",
       "      <td>59200.0</td>\n",
       "      <td>142.0</td>\n",
       "      <td>2.338902</td>\n",
       "      <td>84000038</td>\n",
       "      <td>USA</td>\n",
       "      <td>7768.396797</td>\n",
       "      <td>6.778043</td>\n",
       "    </tr>\n",
       "    <tr>\n",
       "      <td>39</td>\n",
       "      <td>Northern Mariana Islands</td>\n",
       "      <td>US</td>\n",
       "      <td>2020-05-21 02:32:54</td>\n",
       "      <td>15.0979</td>\n",
       "      <td>145.6739</td>\n",
       "      <td>21</td>\n",
       "      <td>2</td>\n",
       "      <td>13.0</td>\n",
       "      <td>6.0</td>\n",
       "      <td>69</td>\n",
       "      <td>38.082112</td>\n",
       "      <td>3817.0</td>\n",
       "      <td>NaN</td>\n",
       "      <td>9.523810</td>\n",
       "      <td>580</td>\n",
       "      <td>MNP</td>\n",
       "      <td>6921.877267</td>\n",
       "      <td>NaN</td>\n",
       "    </tr>\n",
       "    <tr>\n",
       "      <td>40</td>\n",
       "      <td>Ohio</td>\n",
       "      <td>US</td>\n",
       "      <td>2020-05-21 02:32:54</td>\n",
       "      <td>40.3888</td>\n",
       "      <td>-82.7649</td>\n",
       "      <td>29436</td>\n",
       "      <td>1781</td>\n",
       "      <td>NaN</td>\n",
       "      <td>27655.0</td>\n",
       "      <td>39</td>\n",
       "      <td>251.824349</td>\n",
       "      <td>289528.0</td>\n",
       "      <td>5198.0</td>\n",
       "      <td>6.050414</td>\n",
       "      <td>84000039</td>\n",
       "      <td>USA</td>\n",
       "      <td>2476.905835</td>\n",
       "      <td>17.658649</td>\n",
       "    </tr>\n",
       "    <tr>\n",
       "      <td>41</td>\n",
       "      <td>Oklahoma</td>\n",
       "      <td>US</td>\n",
       "      <td>2020-05-21 02:32:54</td>\n",
       "      <td>35.5653</td>\n",
       "      <td>-96.9289</td>\n",
       "      <td>5532</td>\n",
       "      <td>299</td>\n",
       "      <td>4266.0</td>\n",
       "      <td>967.0</td>\n",
       "      <td>40</td>\n",
       "      <td>139.803906</td>\n",
       "      <td>144371.0</td>\n",
       "      <td>905.0</td>\n",
       "      <td>5.404917</td>\n",
       "      <td>84000040</td>\n",
       "      <td>USA</td>\n",
       "      <td>3648.523075</td>\n",
       "      <td>16.359364</td>\n",
       "    </tr>\n",
       "    <tr>\n",
       "      <td>42</td>\n",
       "      <td>Oregon</td>\n",
       "      <td>US</td>\n",
       "      <td>2020-05-21 02:32:54</td>\n",
       "      <td>44.5720</td>\n",
       "      <td>-122.0709</td>\n",
       "      <td>3801</td>\n",
       "      <td>144</td>\n",
       "      <td>1406.0</td>\n",
       "      <td>2251.0</td>\n",
       "      <td>41</td>\n",
       "      <td>90.119417</td>\n",
       "      <td>102149.0</td>\n",
       "      <td>723.0</td>\n",
       "      <td>3.788477</td>\n",
       "      <td>84000041</td>\n",
       "      <td>USA</td>\n",
       "      <td>2421.891171</td>\n",
       "      <td>19.021310</td>\n",
       "    </tr>\n",
       "    <tr>\n",
       "      <td>43</td>\n",
       "      <td>Pennsylvania</td>\n",
       "      <td>US</td>\n",
       "      <td>2020-05-21 02:32:54</td>\n",
       "      <td>40.5908</td>\n",
       "      <td>-77.2098</td>\n",
       "      <td>68126</td>\n",
       "      <td>4770</td>\n",
       "      <td>NaN</td>\n",
       "      <td>63356.0</td>\n",
       "      <td>42</td>\n",
       "      <td>532.151684</td>\n",
       "      <td>349700.0</td>\n",
       "      <td>NaN</td>\n",
       "      <td>7.001732</td>\n",
       "      <td>84000042</td>\n",
       "      <td>USA</td>\n",
       "      <td>2731.606784</td>\n",
       "      <td>NaN</td>\n",
       "    </tr>\n",
       "    <tr>\n",
       "      <td>44</td>\n",
       "      <td>Puerto Rico</td>\n",
       "      <td>US</td>\n",
       "      <td>2020-05-21 02:32:54</td>\n",
       "      <td>18.2208</td>\n",
       "      <td>-66.5901</td>\n",
       "      <td>2866</td>\n",
       "      <td>125</td>\n",
       "      <td>NaN</td>\n",
       "      <td>2741.0</td>\n",
       "      <td>72</td>\n",
       "      <td>97.702058</td>\n",
       "      <td>2866.0</td>\n",
       "      <td>NaN</td>\n",
       "      <td>4.361479</td>\n",
       "      <td>630</td>\n",
       "      <td>PRI</td>\n",
       "      <td>97.702058</td>\n",
       "      <td>NaN</td>\n",
       "    </tr>\n",
       "    <tr>\n",
       "      <td>45</td>\n",
       "      <td>Rhode Island</td>\n",
       "      <td>US</td>\n",
       "      <td>2020-05-21 02:32:54</td>\n",
       "      <td>41.6809</td>\n",
       "      <td>-71.5118</td>\n",
       "      <td>13356</td>\n",
       "      <td>538</td>\n",
       "      <td>1030.0</td>\n",
       "      <td>11788.0</td>\n",
       "      <td>44</td>\n",
       "      <td>1260.760024</td>\n",
       "      <td>120528.0</td>\n",
       "      <td>1486.0</td>\n",
       "      <td>4.028152</td>\n",
       "      <td>84000044</td>\n",
       "      <td>USA</td>\n",
       "      <td>11377.424693</td>\n",
       "      <td>11.126086</td>\n",
       "    </tr>\n",
       "    <tr>\n",
       "      <td>46</td>\n",
       "      <td>South Carolina</td>\n",
       "      <td>US</td>\n",
       "      <td>2020-05-21 02:32:54</td>\n",
       "      <td>33.8569</td>\n",
       "      <td>-80.9450</td>\n",
       "      <td>9175</td>\n",
       "      <td>407</td>\n",
       "      <td>5451.0</td>\n",
       "      <td>3317.0</td>\n",
       "      <td>45</td>\n",
       "      <td>178.199838</td>\n",
       "      <td>135063.0</td>\n",
       "      <td>1444.0</td>\n",
       "      <td>4.435967</td>\n",
       "      <td>84000045</td>\n",
       "      <td>USA</td>\n",
       "      <td>2623.237570</td>\n",
       "      <td>15.738420</td>\n",
       "    </tr>\n",
       "    <tr>\n",
       "      <td>47</td>\n",
       "      <td>South Dakota</td>\n",
       "      <td>US</td>\n",
       "      <td>2020-05-21 02:32:54</td>\n",
       "      <td>44.2998</td>\n",
       "      <td>-99.4388</td>\n",
       "      <td>4177</td>\n",
       "      <td>46</td>\n",
       "      <td>3023.0</td>\n",
       "      <td>1108.0</td>\n",
       "      <td>46</td>\n",
       "      <td>472.159329</td>\n",
       "      <td>30389.0</td>\n",
       "      <td>333.0</td>\n",
       "      <td>1.101269</td>\n",
       "      <td>84000046</td>\n",
       "      <td>USA</td>\n",
       "      <td>3435.108895</td>\n",
       "      <td>7.972229</td>\n",
       "    </tr>\n",
       "    <tr>\n",
       "      <td>48</td>\n",
       "      <td>Tennessee</td>\n",
       "      <td>US</td>\n",
       "      <td>2020-05-21 02:32:54</td>\n",
       "      <td>35.7478</td>\n",
       "      <td>-86.6923</td>\n",
       "      <td>18412</td>\n",
       "      <td>305</td>\n",
       "      <td>11783.0</td>\n",
       "      <td>6324.0</td>\n",
       "      <td>47</td>\n",
       "      <td>269.608008</td>\n",
       "      <td>354013.0</td>\n",
       "      <td>1515.0</td>\n",
       "      <td>1.656528</td>\n",
       "      <td>84000047</td>\n",
       "      <td>USA</td>\n",
       "      <td>5183.833360</td>\n",
       "      <td>8.228329</td>\n",
       "    </tr>\n",
       "    <tr>\n",
       "      <td>49</td>\n",
       "      <td>Texas</td>\n",
       "      <td>US</td>\n",
       "      <td>2020-05-21 02:32:54</td>\n",
       "      <td>31.0545</td>\n",
       "      <td>-97.5635</td>\n",
       "      <td>51673</td>\n",
       "      <td>1426</td>\n",
       "      <td>30341.0</td>\n",
       "      <td>19906.0</td>\n",
       "      <td>48</td>\n",
       "      <td>178.208070</td>\n",
       "      <td>770241.0</td>\n",
       "      <td>NaN</td>\n",
       "      <td>2.759662</td>\n",
       "      <td>84000048</td>\n",
       "      <td>USA</td>\n",
       "      <td>2656.380746</td>\n",
       "      <td>NaN</td>\n",
       "    </tr>\n",
       "    <tr>\n",
       "      <td>50</td>\n",
       "      <td>Utah</td>\n",
       "      <td>US</td>\n",
       "      <td>2020-05-21 02:32:54</td>\n",
       "      <td>40.1500</td>\n",
       "      <td>-111.8624</td>\n",
       "      <td>7710</td>\n",
       "      <td>90</td>\n",
       "      <td>4423.0</td>\n",
       "      <td>3197.0</td>\n",
       "      <td>49</td>\n",
       "      <td>240.489738</td>\n",
       "      <td>179664.0</td>\n",
       "      <td>631.0</td>\n",
       "      <td>1.167315</td>\n",
       "      <td>84000049</td>\n",
       "      <td>USA</td>\n",
       "      <td>5604.065930</td>\n",
       "      <td>8.184176</td>\n",
       "    </tr>\n",
       "    <tr>\n",
       "      <td>51</td>\n",
       "      <td>Vermont</td>\n",
       "      <td>US</td>\n",
       "      <td>2020-05-21 02:32:54</td>\n",
       "      <td>44.0459</td>\n",
       "      <td>-72.7107</td>\n",
       "      <td>944</td>\n",
       "      <td>54</td>\n",
       "      <td>824.0</td>\n",
       "      <td>66.0</td>\n",
       "      <td>50</td>\n",
       "      <td>151.284718</td>\n",
       "      <td>25058.0</td>\n",
       "      <td>NaN</td>\n",
       "      <td>5.720339</td>\n",
       "      <td>84000050</td>\n",
       "      <td>USA</td>\n",
       "      <td>4015.775919</td>\n",
       "      <td>NaN</td>\n",
       "    </tr>\n",
       "    <tr>\n",
       "      <td>52</td>\n",
       "      <td>Virgin Islands</td>\n",
       "      <td>US</td>\n",
       "      <td>2020-05-21 02:32:54</td>\n",
       "      <td>18.3358</td>\n",
       "      <td>-64.8963</td>\n",
       "      <td>69</td>\n",
       "      <td>6</td>\n",
       "      <td>61.0</td>\n",
       "      <td>2.0</td>\n",
       "      <td>78</td>\n",
       "      <td>64.324869</td>\n",
       "      <td>1383.0</td>\n",
       "      <td>NaN</td>\n",
       "      <td>8.695652</td>\n",
       "      <td>850</td>\n",
       "      <td>VIR</td>\n",
       "      <td>1289.294104</td>\n",
       "      <td>NaN</td>\n",
       "    </tr>\n",
       "    <tr>\n",
       "      <td>53</td>\n",
       "      <td>Virginia</td>\n",
       "      <td>US</td>\n",
       "      <td>2020-05-21 02:32:54</td>\n",
       "      <td>37.7693</td>\n",
       "      <td>-78.1700</td>\n",
       "      <td>32908</td>\n",
       "      <td>1075</td>\n",
       "      <td>4523.0</td>\n",
       "      <td>27310.0</td>\n",
       "      <td>51</td>\n",
       "      <td>385.541875</td>\n",
       "      <td>212626.0</td>\n",
       "      <td>6059.0</td>\n",
       "      <td>3.266683</td>\n",
       "      <td>84000051</td>\n",
       "      <td>USA</td>\n",
       "      <td>2491.072892</td>\n",
       "      <td>18.411936</td>\n",
       "    </tr>\n",
       "    <tr>\n",
       "      <td>54</td>\n",
       "      <td>Washington</td>\n",
       "      <td>US</td>\n",
       "      <td>2020-05-21 02:32:54</td>\n",
       "      <td>47.4009</td>\n",
       "      <td>-121.4905</td>\n",
       "      <td>18971</td>\n",
       "      <td>1037</td>\n",
       "      <td>NaN</td>\n",
       "      <td>17934.0</td>\n",
       "      <td>53</td>\n",
       "      <td>249.130224</td>\n",
       "      <td>293120.0</td>\n",
       "      <td>NaN</td>\n",
       "      <td>5.466238</td>\n",
       "      <td>84000053</td>\n",
       "      <td>USA</td>\n",
       "      <td>3849.298999</td>\n",
       "      <td>NaN</td>\n",
       "    </tr>\n",
       "    <tr>\n",
       "      <td>55</td>\n",
       "      <td>West Virginia</td>\n",
       "      <td>US</td>\n",
       "      <td>2020-05-21 02:32:54</td>\n",
       "      <td>38.4912</td>\n",
       "      <td>-80.9545</td>\n",
       "      <td>1567</td>\n",
       "      <td>69</td>\n",
       "      <td>950.0</td>\n",
       "      <td>548.0</td>\n",
       "      <td>54</td>\n",
       "      <td>87.437024</td>\n",
       "      <td>80641.0</td>\n",
       "      <td>NaN</td>\n",
       "      <td>4.403318</td>\n",
       "      <td>84000054</td>\n",
       "      <td>USA</td>\n",
       "      <td>4499.686689</td>\n",
       "      <td>NaN</td>\n",
       "    </tr>\n",
       "    <tr>\n",
       "      <td>56</td>\n",
       "      <td>Wisconsin</td>\n",
       "      <td>US</td>\n",
       "      <td>2020-05-21 02:32:54</td>\n",
       "      <td>44.2685</td>\n",
       "      <td>-89.6165</td>\n",
       "      <td>13413</td>\n",
       "      <td>481</td>\n",
       "      <td>7728.0</td>\n",
       "      <td>5204.0</td>\n",
       "      <td>55</td>\n",
       "      <td>230.367575</td>\n",
       "      <td>167713.0</td>\n",
       "      <td>2161.0</td>\n",
       "      <td>3.586073</td>\n",
       "      <td>84000055</td>\n",
       "      <td>USA</td>\n",
       "      <td>2880.462020</td>\n",
       "      <td>16.111235</td>\n",
       "    </tr>\n",
       "    <tr>\n",
       "      <td>57</td>\n",
       "      <td>Wyoming</td>\n",
       "      <td>US</td>\n",
       "      <td>2020-05-21 02:32:54</td>\n",
       "      <td>42.7560</td>\n",
       "      <td>-107.3025</td>\n",
       "      <td>787</td>\n",
       "      <td>11</td>\n",
       "      <td>528.0</td>\n",
       "      <td>248.0</td>\n",
       "      <td>56</td>\n",
       "      <td>135.980607</td>\n",
       "      <td>18840.0</td>\n",
       "      <td>74.0</td>\n",
       "      <td>1.397713</td>\n",
       "      <td>84000056</td>\n",
       "      <td>USA</td>\n",
       "      <td>3255.240955</td>\n",
       "      <td>9.402795</td>\n",
       "    </tr>\n",
       "  </tbody>\n",
       "</table>\n",
       "</div>"
      ],
      "text/plain": [
       "              Province_State Country_Region          Last_Update      Lat  \\\n",
       "0                    Alabama             US  2020-05-21 02:32:54  32.3182   \n",
       "1                     Alaska             US  2020-05-21 02:32:54  61.3707   \n",
       "2             American Samoa             US  2020-05-21 02:32:54 -14.2710   \n",
       "3                    Arizona             US  2020-05-21 02:32:54  33.7298   \n",
       "4                   Arkansas             US  2020-05-21 02:32:54  34.9697   \n",
       "5                 California             US  2020-05-21 02:32:54  36.1162   \n",
       "6                   Colorado             US  2020-05-21 02:32:54  39.0598   \n",
       "7                Connecticut             US  2020-05-21 02:32:54  41.5978   \n",
       "8                   Delaware             US  2020-05-21 02:32:54  39.3185   \n",
       "9           Diamond Princess             US  2020-05-21 02:32:54      NaN   \n",
       "10      District of Columbia             US  2020-05-21 02:32:54  38.8974   \n",
       "11                   Florida             US  2020-05-21 02:32:54  27.7663   \n",
       "12                   Georgia             US  2020-05-21 02:32:54  33.0406   \n",
       "13            Grand Princess             US  2020-05-21 02:32:54      NaN   \n",
       "14                      Guam             US  2020-05-21 02:32:54  13.4443   \n",
       "15                    Hawaii             US  2020-05-21 02:32:54  21.0943   \n",
       "16                     Idaho             US  2020-05-21 02:32:54  44.2405   \n",
       "17                  Illinois             US  2020-05-21 02:32:54  40.3495   \n",
       "18                   Indiana             US  2020-05-21 02:32:54  39.8494   \n",
       "19                      Iowa             US  2020-05-21 02:32:54  42.0115   \n",
       "20                    Kansas             US  2020-05-21 02:32:54  38.5266   \n",
       "21                  Kentucky             US  2020-05-21 02:32:54  37.6681   \n",
       "22                 Louisiana             US  2020-05-21 02:32:54  31.1695   \n",
       "23                     Maine             US  2020-05-21 02:32:54  44.6939   \n",
       "24                  Maryland             US  2020-05-21 02:32:54  39.0639   \n",
       "25             Massachusetts             US  2020-05-21 02:32:54  42.2302   \n",
       "26                  Michigan             US  2020-05-21 02:32:54  43.3266   \n",
       "27                 Minnesota             US  2020-05-21 02:32:54  45.6945   \n",
       "28               Mississippi             US  2020-05-21 02:32:54  32.7416   \n",
       "29                  Missouri             US  2020-05-21 02:32:54  38.4561   \n",
       "30                   Montana             US  2020-05-21 02:32:54  46.9219   \n",
       "31                  Nebraska             US  2020-05-21 02:32:54  41.1254   \n",
       "32                    Nevada             US  2020-05-21 02:32:54  38.3135   \n",
       "33             New Hampshire             US  2020-05-21 02:32:54  43.4525   \n",
       "34                New Jersey             US  2020-05-21 02:32:54  40.2989   \n",
       "35                New Mexico             US  2020-05-21 02:32:54  34.8405   \n",
       "36                  New York             US  2020-05-21 02:32:54  42.1657   \n",
       "37            North Carolina             US  2020-05-21 02:32:54  35.6301   \n",
       "38              North Dakota             US  2020-05-21 02:32:54  47.5289   \n",
       "39  Northern Mariana Islands             US  2020-05-21 02:32:54  15.0979   \n",
       "40                      Ohio             US  2020-05-21 02:32:54  40.3888   \n",
       "41                  Oklahoma             US  2020-05-21 02:32:54  35.5653   \n",
       "42                    Oregon             US  2020-05-21 02:32:54  44.5720   \n",
       "43              Pennsylvania             US  2020-05-21 02:32:54  40.5908   \n",
       "44               Puerto Rico             US  2020-05-21 02:32:54  18.2208   \n",
       "45              Rhode Island             US  2020-05-21 02:32:54  41.6809   \n",
       "46            South Carolina             US  2020-05-21 02:32:54  33.8569   \n",
       "47              South Dakota             US  2020-05-21 02:32:54  44.2998   \n",
       "48                 Tennessee             US  2020-05-21 02:32:54  35.7478   \n",
       "49                     Texas             US  2020-05-21 02:32:54  31.0545   \n",
       "50                      Utah             US  2020-05-21 02:32:54  40.1500   \n",
       "51                   Vermont             US  2020-05-21 02:32:54  44.0459   \n",
       "52            Virgin Islands             US  2020-05-21 02:32:54  18.3358   \n",
       "53                  Virginia             US  2020-05-21 02:32:54  37.7693   \n",
       "54                Washington             US  2020-05-21 02:32:54  47.4009   \n",
       "55             West Virginia             US  2020-05-21 02:32:54  38.4912   \n",
       "56                 Wisconsin             US  2020-05-21 02:32:54  44.2685   \n",
       "57                   Wyoming             US  2020-05-21 02:32:54  42.7560   \n",
       "\n",
       "       Long_  Confirmed  Deaths  Recovered    Active   FIPS  Incident_Rate  \\\n",
       "0   -86.9023      13052     522        NaN   12530.0      1     266.194321   \n",
       "1  -152.4044        401      10      352.0      39.0      2      54.815493   \n",
       "2  -170.1320          0       0        NaN       0.0     60       0.000000   \n",
       "3  -111.4312      14906     747     3773.0   10386.0      4     204.788838   \n",
       "4   -92.3731       5003     107     3852.0    1044.0      5     165.782801   \n",
       "5  -119.6816      85997    3497        NaN   82500.0      6     217.646575   \n",
       "6  -105.3111      22797    1299     3478.0   18020.0      8     395.868121   \n",
       "7   -72.7554      39017    3529     6264.0   29224.0      9    1094.357902   \n",
       "8   -75.5071       8194     310     3965.0    3919.0     10     841.476990   \n",
       "9        NaN         49       0        NaN      49.0  88888            NaN   \n",
       "10  -77.0268       7551     407     1059.0    6085.0     11    1069.927127   \n",
       "11  -81.6868      47471    2096        NaN   45375.0     12     221.024217   \n",
       "12  -83.6431      39801    1697        NaN   38104.0     13     374.864974   \n",
       "13       NaN        103       3        NaN     100.0  99999            NaN   \n",
       "14  144.7937        154       5      125.0      24.0     66      93.771502   \n",
       "15 -157.4983        643      17      578.0      48.0     15      45.413710   \n",
       "16 -114.4788       2506      77     1668.0     761.0     16     140.229930   \n",
       "17  -88.9861     100418    4525        NaN   95893.0     17     792.451219   \n",
       "18  -86.2583      29274    1864        NaN   27410.0     18     434.834339   \n",
       "19  -93.2105      15620     393     8362.0    6865.0     19     495.076179   \n",
       "20  -96.7265       8507     202      473.0    7832.0     20     292.004226   \n",
       "21  -84.6701       8167     376     2826.0    4965.0     21     182.802099   \n",
       "22  -91.8678      35316    2608    26249.0    6459.0     22     759.680898   \n",
       "23  -69.3819       1819      73     1100.0     646.0     23     135.320917   \n",
       "24  -76.8021      42323    2123     2993.0   37207.0     24     700.053592   \n",
       "25  -71.5301      88970    6066        NaN   82904.0     25    1290.822797   \n",
       "26  -84.5361      53009    5060    28234.0   19715.0     26     530.787614   \n",
       "27  -93.9002      17670     786    12227.0    4657.0     27     313.318316   \n",
       "28  -89.6787      11967     570     7681.0    3716.0     28     402.096804   \n",
       "29  -92.2884      11528     640        NaN   10888.0     29     187.831124   \n",
       "30 -110.4544        478      16      440.0      22.0     30      44.723974   \n",
       "31  -98.2681      11122     138        NaN   10984.0     31     574.956266   \n",
       "32 -117.0554       7388     377      336.0    6675.0     32     239.857981   \n",
       "33  -71.5639       3868     190     1275.0    2403.0     33     284.472215   \n",
       "34  -74.5210     150776   10749    23945.0  116082.0     34    1697.509285   \n",
       "35 -106.2485       6317     283     1882.0    4152.0     35     301.264433   \n",
       "36  -74.9481     354370   28636    61886.0  263848.0     36    1821.620216   \n",
       "37  -79.8064      20262     726    11637.0    7899.0     37     193.190672   \n",
       "38  -99.7840       2095      49     1302.0     744.0     38     274.912015   \n",
       "39  145.6739         21       2       13.0       6.0     69      38.082112   \n",
       "40  -82.7649      29436    1781        NaN   27655.0     39     251.824349   \n",
       "41  -96.9289       5532     299     4266.0     967.0     40     139.803906   \n",
       "42 -122.0709       3801     144     1406.0    2251.0     41      90.119417   \n",
       "43  -77.2098      68126    4770        NaN   63356.0     42     532.151684   \n",
       "44  -66.5901       2866     125        NaN    2741.0     72      97.702058   \n",
       "45  -71.5118      13356     538     1030.0   11788.0     44    1260.760024   \n",
       "46  -80.9450       9175     407     5451.0    3317.0     45     178.199838   \n",
       "47  -99.4388       4177      46     3023.0    1108.0     46     472.159329   \n",
       "48  -86.6923      18412     305    11783.0    6324.0     47     269.608008   \n",
       "49  -97.5635      51673    1426    30341.0   19906.0     48     178.208070   \n",
       "50 -111.8624       7710      90     4423.0    3197.0     49     240.489738   \n",
       "51  -72.7107        944      54      824.0      66.0     50     151.284718   \n",
       "52  -64.8963         69       6       61.0       2.0     78      64.324869   \n",
       "53  -78.1700      32908    1075     4523.0   27310.0     51     385.541875   \n",
       "54 -121.4905      18971    1037        NaN   17934.0     53     249.130224   \n",
       "55  -80.9545       1567      69      950.0     548.0     54      87.437024   \n",
       "56  -89.6165      13413     481     7728.0    5204.0     55     230.367575   \n",
       "57 -107.3025        787      11      528.0     248.0     56     135.980607   \n",
       "\n",
       "    People_Tested  People_Hospitalized  Mortality_Rate       UID ISO3  \\\n",
       "0        164450.0               1493.0        3.999387  84000001  USA   \n",
       "1         37045.0                  NaN        2.493766  84000002  USA   \n",
       "2           124.0                  NaN             NaN        16  ASM   \n",
       "3        165435.0               1792.0        5.011405  84000004  USA   \n",
       "4         96258.0                535.0        2.138717  84000005  USA   \n",
       "5       1380120.0                  NaN        4.066421  84000006  USA   \n",
       "6        131837.0               3955.0        5.698118  84000008  USA   \n",
       "7        190718.0              10946.0        9.044775  84000009  USA   \n",
       "8         45412.0                  NaN        3.783256  84000010  USA   \n",
       "9             NaN                  NaN        0.000000  84088888  USA   \n",
       "10        40419.0                  NaN        5.390015  84000011  USA   \n",
       "11       771348.0               8934.0        4.415327  84000012  USA   \n",
       "12       402940.0               7107.0        4.263712  84000013  USA   \n",
       "13            NaN                  NaN        2.912621  84099999  USA   \n",
       "14         4972.0                  NaN        3.246753       316  GUM   \n",
       "15        46304.0                 82.0        2.643857  84000015  USA   \n",
       "16        38567.0                215.0        3.072626  84000016  USA   \n",
       "17       642713.0                  NaN        4.506164  84000017  USA   \n",
       "18       195738.0               4389.0        6.367425  84000018  USA   \n",
       "19       110748.0                  NaN        2.516005  84000019  USA   \n",
       "20        71203.0                760.0        2.374515  84000020  USA   \n",
       "21       153986.0               2010.0        4.603894  84000021  USA   \n",
       "22       285970.0                  NaN        7.384755  84000022  USA   \n",
       "23        37269.0                231.0        4.013194  84000023  USA   \n",
       "24       215330.0               7393.0        5.016185  84000024  USA   \n",
       "25       489953.0               8897.0        6.818029  84000025  USA   \n",
       "26       437072.0                  NaN        9.545549  84000026  USA   \n",
       "27       167338.0               2308.0        4.448217  84000027  USA   \n",
       "28       120680.0               1901.0        4.763099  84000028  USA   \n",
       "29       161984.0                  NaN        5.551700  84000029  USA   \n",
       "30        29726.0                 65.0        3.347280  84000030  USA   \n",
       "31        72135.0                  NaN        1.240784  84000031  USA   \n",
       "32        91171.0                  NaN        5.102870  84000032  USA   \n",
       "33        50888.0                383.0        4.912099  84000033  USA   \n",
       "34       531343.0                  NaN        7.129119  84000034  USA   \n",
       "35       142246.0               1139.0        4.479975  84000035  USA   \n",
       "36      1505836.0              76410.0        8.080819  84000036  USA   \n",
       "37       277603.0                  NaN        3.583062  84000037  USA   \n",
       "38        59200.0                142.0        2.338902  84000038  USA   \n",
       "39         3817.0                  NaN        9.523810       580  MNP   \n",
       "40       289528.0               5198.0        6.050414  84000039  USA   \n",
       "41       144371.0                905.0        5.404917  84000040  USA   \n",
       "42       102149.0                723.0        3.788477  84000041  USA   \n",
       "43       349700.0                  NaN        7.001732  84000042  USA   \n",
       "44         2866.0                  NaN        4.361479       630  PRI   \n",
       "45       120528.0               1486.0        4.028152  84000044  USA   \n",
       "46       135063.0               1444.0        4.435967  84000045  USA   \n",
       "47        30389.0                333.0        1.101269  84000046  USA   \n",
       "48       354013.0               1515.0        1.656528  84000047  USA   \n",
       "49       770241.0                  NaN        2.759662  84000048  USA   \n",
       "50       179664.0                631.0        1.167315  84000049  USA   \n",
       "51        25058.0                  NaN        5.720339  84000050  USA   \n",
       "52         1383.0                  NaN        8.695652       850  VIR   \n",
       "53       212626.0               6059.0        3.266683  84000051  USA   \n",
       "54       293120.0                  NaN        5.466238  84000053  USA   \n",
       "55        80641.0                  NaN        4.403318  84000054  USA   \n",
       "56       167713.0               2161.0        3.586073  84000055  USA   \n",
       "57        18840.0                 74.0        1.397713  84000056  USA   \n",
       "\n",
       "    Testing_Rate  Hospitalization_Rate  \n",
       "0    3353.942386             11.438860  \n",
       "1    5063.940017                   NaN  \n",
       "2     222.857246                   NaN  \n",
       "3    2272.859351             12.022005  \n",
       "4    3189.670370             10.693584  \n",
       "5    3492.893832                   NaN  \n",
       "6    2289.339188             17.348774  \n",
       "7    5349.302875             28.054438  \n",
       "8    4663.552976                   NaN  \n",
       "9            NaN                   NaN  \n",
       "10   5727.106946                   NaN  \n",
       "11   3591.383953             18.819911  \n",
       "12   3795.082856             17.856335  \n",
       "13           NaN                   NaN  \n",
       "14   3027.479921                   NaN  \n",
       "15   3270.352122             12.752722  \n",
       "16   2158.119598              8.579409  \n",
       "17   5071.986102                   NaN  \n",
       "18   2907.481174             14.992826  \n",
       "19   3510.159838                   NaN  \n",
       "20   2444.055121              8.933819  \n",
       "21   3446.671231             24.611240  \n",
       "22   6151.487891                   NaN  \n",
       "23   2772.553734             12.699285  \n",
       "24   3561.716796             17.468043  \n",
       "25   7108.491647             10.000000  \n",
       "26   4376.471997                   NaN  \n",
       "27   2967.179419             13.061686  \n",
       "28   4054.904509             15.885351  \n",
       "29   2639.281471                   NaN  \n",
       "30   2781.307250             13.598326  \n",
       "31   3729.047853                   NaN  \n",
       "32   2959.947483                   NaN  \n",
       "33   3742.560000              9.901758  \n",
       "34   5982.117023                   NaN  \n",
       "35   6783.862680             18.030711  \n",
       "36   7740.670204             21.562209  \n",
       "37   2646.841883                   NaN  \n",
       "38   7768.396797              6.778043  \n",
       "39   6921.877267                   NaN  \n",
       "40   2476.905835             17.658649  \n",
       "41   3648.523075             16.359364  \n",
       "42   2421.891171             19.021310  \n",
       "43   2731.606784                   NaN  \n",
       "44     97.702058                   NaN  \n",
       "45  11377.424693             11.126086  \n",
       "46   2623.237570             15.738420  \n",
       "47   3435.108895              7.972229  \n",
       "48   5183.833360              8.228329  \n",
       "49   2656.380746                   NaN  \n",
       "50   5604.065930              8.184176  \n",
       "51   4015.775919                   NaN  \n",
       "52   1289.294104                   NaN  \n",
       "53   2491.072892             18.411936  \n",
       "54   3849.298999                   NaN  \n",
       "55   4499.686689                   NaN  \n",
       "56   2880.462020             16.111235  \n",
       "57   3255.240955              9.402795  "
      ]
     },
     "execution_count": 22,
     "metadata": {},
     "output_type": "execute_result"
    }
   ],
   "source": [
    "df"
   ]
  },
  {
   "cell_type": "code",
   "execution_count": 23,
   "metadata": {},
   "outputs": [
    {
     "data": {
      "text/plain": [
       "Province_State           object\n",
       "Country_Region           object\n",
       "Last_Update              object\n",
       "Lat                     float64\n",
       "Long_                   float64\n",
       "Confirmed                 int64\n",
       "Deaths                    int64\n",
       "Recovered               float64\n",
       "Active                  float64\n",
       "FIPS                      int64\n",
       "Incident_Rate           float64\n",
       "People_Tested           float64\n",
       "People_Hospitalized     float64\n",
       "Mortality_Rate          float64\n",
       "UID                       int64\n",
       "ISO3                     object\n",
       "Testing_Rate            float64\n",
       "Hospitalization_Rate    float64\n",
       "dtype: object"
      ]
     },
     "execution_count": 23,
     "metadata": {},
     "output_type": "execute_result"
    }
   ],
   "source": [
    "df.dtypes\n"
   ]
  },
  {
   "cell_type": "code",
   "execution_count": 24,
   "metadata": {},
   "outputs": [],
   "source": [
    "#lets first convert all categorial values into numerical values."
   ]
  },
  {
   "cell_type": "code",
   "execution_count": 25,
   "metadata": {},
   "outputs": [],
   "source": [
    "le = LabelEncoder()\n",
    "list1 = ['Province_State','Country_Region','Last_Update','ISO3']\n",
    "for val in list1:\n",
    "    df[val] = le.fit_transform(df[val].astype(str))\n",
    "                               "
   ]
  },
  {
   "cell_type": "code",
   "execution_count": 26,
   "metadata": {},
   "outputs": [
    {
     "data": {
      "text/plain": [
       "Province_State            int32\n",
       "Country_Region            int32\n",
       "Last_Update               int32\n",
       "Lat                     float64\n",
       "Long_                   float64\n",
       "Confirmed                 int64\n",
       "Deaths                    int64\n",
       "Recovered               float64\n",
       "Active                  float64\n",
       "FIPS                      int64\n",
       "Incident_Rate           float64\n",
       "People_Tested           float64\n",
       "People_Hospitalized     float64\n",
       "Mortality_Rate          float64\n",
       "UID                       int64\n",
       "ISO3                      int32\n",
       "Testing_Rate            float64\n",
       "Hospitalization_Rate    float64\n",
       "dtype: object"
      ]
     },
     "execution_count": 26,
     "metadata": {},
     "output_type": "execute_result"
    }
   ],
   "source": [
    "df.dtypes"
   ]
  },
  {
   "cell_type": "code",
   "execution_count": 16,
   "metadata": {},
   "outputs": [],
   "source": [
    "#lets first check the null values"
   ]
  },
  {
   "cell_type": "code",
   "execution_count": 27,
   "metadata": {},
   "outputs": [
    {
     "data": {
      "text/plain": [
       "Province_State           0\n",
       "Country_Region           0\n",
       "Last_Update              0\n",
       "Lat                      2\n",
       "Long_                    2\n",
       "Confirmed                0\n",
       "Deaths                   0\n",
       "Recovered               16\n",
       "Active                   0\n",
       "FIPS                     0\n",
       "Incident_Rate            2\n",
       "People_Tested            2\n",
       "People_Hospitalized     25\n",
       "Mortality_Rate           1\n",
       "UID                      0\n",
       "ISO3                     0\n",
       "Testing_Rate             2\n",
       "Hospitalization_Rate    25\n",
       "dtype: int64"
      ]
     },
     "execution_count": 27,
     "metadata": {},
     "output_type": "execute_result"
    }
   ],
   "source": [
    "df.isnull().sum()"
   ]
  },
  {
   "cell_type": "code",
   "execution_count": 28,
   "metadata": {},
   "outputs": [],
   "source": [
    "#Lets remove null values with mean\n",
    "df =df.replace(np.NaN,df.mean())"
   ]
  },
  {
   "cell_type": "code",
   "execution_count": 29,
   "metadata": {},
   "outputs": [
    {
     "data": {
      "text/plain": [
       "Province_State          0\n",
       "Country_Region          0\n",
       "Last_Update             0\n",
       "Lat                     0\n",
       "Long_                   0\n",
       "Confirmed               0\n",
       "Deaths                  0\n",
       "Recovered               0\n",
       "Active                  0\n",
       "FIPS                    0\n",
       "Incident_Rate           0\n",
       "People_Tested           0\n",
       "People_Hospitalized     0\n",
       "Mortality_Rate          0\n",
       "UID                     0\n",
       "ISO3                    0\n",
       "Testing_Rate            0\n",
       "Hospitalization_Rate    0\n",
       "dtype: int64"
      ]
     },
     "execution_count": 29,
     "metadata": {},
     "output_type": "execute_result"
    }
   ],
   "source": [
    "df.isnull().sum()"
   ]
  },
  {
   "cell_type": "code",
   "execution_count": 30,
   "metadata": {},
   "outputs": [
    {
     "data": {
      "text/html": [
       "<div>\n",
       "<style scoped>\n",
       "    .dataframe tbody tr th:only-of-type {\n",
       "        vertical-align: middle;\n",
       "    }\n",
       "\n",
       "    .dataframe tbody tr th {\n",
       "        vertical-align: top;\n",
       "    }\n",
       "\n",
       "    .dataframe thead th {\n",
       "        text-align: right;\n",
       "    }\n",
       "</style>\n",
       "<table border=\"1\" class=\"dataframe\">\n",
       "  <thead>\n",
       "    <tr style=\"text-align: right;\">\n",
       "      <th></th>\n",
       "      <th>Province_State</th>\n",
       "      <th>Country_Region</th>\n",
       "      <th>Last_Update</th>\n",
       "      <th>Lat</th>\n",
       "      <th>Long_</th>\n",
       "      <th>Confirmed</th>\n",
       "      <th>Deaths</th>\n",
       "      <th>Recovered</th>\n",
       "      <th>Active</th>\n",
       "      <th>FIPS</th>\n",
       "      <th>Incident_Rate</th>\n",
       "      <th>People_Tested</th>\n",
       "      <th>People_Hospitalized</th>\n",
       "      <th>Mortality_Rate</th>\n",
       "      <th>UID</th>\n",
       "      <th>ISO3</th>\n",
       "      <th>Testing_Rate</th>\n",
       "      <th>Hospitalization_Rate</th>\n",
       "    </tr>\n",
       "  </thead>\n",
       "  <tbody>\n",
       "    <tr>\n",
       "      <td>0</td>\n",
       "      <td>0</td>\n",
       "      <td>0</td>\n",
       "      <td>0</td>\n",
       "      <td>32.318200</td>\n",
       "      <td>-86.902300</td>\n",
       "      <td>13052</td>\n",
       "      <td>522</td>\n",
       "      <td>7007.428571</td>\n",
       "      <td>12530.0</td>\n",
       "      <td>1</td>\n",
       "      <td>266.194321</td>\n",
       "      <td>1.644500e+05</td>\n",
       "      <td>1493.000000</td>\n",
       "      <td>3.999387</td>\n",
       "      <td>84000001</td>\n",
       "      <td>4</td>\n",
       "      <td>3353.942386</td>\n",
       "      <td>11.438860</td>\n",
       "    </tr>\n",
       "    <tr>\n",
       "      <td>1</td>\n",
       "      <td>1</td>\n",
       "      <td>0</td>\n",
       "      <td>0</td>\n",
       "      <td>61.370700</td>\n",
       "      <td>-152.404400</td>\n",
       "      <td>401</td>\n",
       "      <td>10</td>\n",
       "      <td>352.000000</td>\n",
       "      <td>39.0</td>\n",
       "      <td>2</td>\n",
       "      <td>54.815493</td>\n",
       "      <td>3.704500e+04</td>\n",
       "      <td>4897.454545</td>\n",
       "      <td>2.493766</td>\n",
       "      <td>84000002</td>\n",
       "      <td>4</td>\n",
       "      <td>5063.940017</td>\n",
       "      <td>14.342541</td>\n",
       "    </tr>\n",
       "    <tr>\n",
       "      <td>2</td>\n",
       "      <td>2</td>\n",
       "      <td>0</td>\n",
       "      <td>0</td>\n",
       "      <td>-14.271000</td>\n",
       "      <td>-170.132000</td>\n",
       "      <td>0</td>\n",
       "      <td>0</td>\n",
       "      <td>7007.428571</td>\n",
       "      <td>0.0</td>\n",
       "      <td>60</td>\n",
       "      <td>0.000000</td>\n",
       "      <td>1.240000e+02</td>\n",
       "      <td>4897.454545</td>\n",
       "      <td>4.458248</td>\n",
       "      <td>16</td>\n",
       "      <td>0</td>\n",
       "      <td>222.857246</td>\n",
       "      <td>14.342541</td>\n",
       "    </tr>\n",
       "    <tr>\n",
       "      <td>3</td>\n",
       "      <td>3</td>\n",
       "      <td>0</td>\n",
       "      <td>0</td>\n",
       "      <td>33.729800</td>\n",
       "      <td>-111.431200</td>\n",
       "      <td>14906</td>\n",
       "      <td>747</td>\n",
       "      <td>3773.000000</td>\n",
       "      <td>10386.0</td>\n",
       "      <td>4</td>\n",
       "      <td>204.788838</td>\n",
       "      <td>1.654350e+05</td>\n",
       "      <td>1792.000000</td>\n",
       "      <td>5.011405</td>\n",
       "      <td>84000004</td>\n",
       "      <td>4</td>\n",
       "      <td>2272.859351</td>\n",
       "      <td>12.022005</td>\n",
       "    </tr>\n",
       "    <tr>\n",
       "      <td>4</td>\n",
       "      <td>4</td>\n",
       "      <td>0</td>\n",
       "      <td>0</td>\n",
       "      <td>34.969700</td>\n",
       "      <td>-92.373100</td>\n",
       "      <td>5003</td>\n",
       "      <td>107</td>\n",
       "      <td>3852.000000</td>\n",
       "      <td>1044.0</td>\n",
       "      <td>5</td>\n",
       "      <td>165.782801</td>\n",
       "      <td>9.625800e+04</td>\n",
       "      <td>535.000000</td>\n",
       "      <td>2.138717</td>\n",
       "      <td>84000005</td>\n",
       "      <td>4</td>\n",
       "      <td>3189.670370</td>\n",
       "      <td>10.693584</td>\n",
       "    </tr>\n",
       "    <tr>\n",
       "      <td>5</td>\n",
       "      <td>5</td>\n",
       "      <td>0</td>\n",
       "      <td>0</td>\n",
       "      <td>36.116200</td>\n",
       "      <td>-119.681600</td>\n",
       "      <td>85997</td>\n",
       "      <td>3497</td>\n",
       "      <td>7007.428571</td>\n",
       "      <td>82500.0</td>\n",
       "      <td>6</td>\n",
       "      <td>217.646575</td>\n",
       "      <td>1.380120e+06</td>\n",
       "      <td>4897.454545</td>\n",
       "      <td>4.066421</td>\n",
       "      <td>84000006</td>\n",
       "      <td>4</td>\n",
       "      <td>3492.893832</td>\n",
       "      <td>14.342541</td>\n",
       "    </tr>\n",
       "    <tr>\n",
       "      <td>6</td>\n",
       "      <td>6</td>\n",
       "      <td>0</td>\n",
       "      <td>0</td>\n",
       "      <td>39.059800</td>\n",
       "      <td>-105.311100</td>\n",
       "      <td>22797</td>\n",
       "      <td>1299</td>\n",
       "      <td>3478.000000</td>\n",
       "      <td>18020.0</td>\n",
       "      <td>8</td>\n",
       "      <td>395.868121</td>\n",
       "      <td>1.318370e+05</td>\n",
       "      <td>3955.000000</td>\n",
       "      <td>5.698118</td>\n",
       "      <td>84000008</td>\n",
       "      <td>4</td>\n",
       "      <td>2289.339188</td>\n",
       "      <td>17.348774</td>\n",
       "    </tr>\n",
       "    <tr>\n",
       "      <td>7</td>\n",
       "      <td>7</td>\n",
       "      <td>0</td>\n",
       "      <td>0</td>\n",
       "      <td>41.597800</td>\n",
       "      <td>-72.755400</td>\n",
       "      <td>39017</td>\n",
       "      <td>3529</td>\n",
       "      <td>6264.000000</td>\n",
       "      <td>29224.0</td>\n",
       "      <td>9</td>\n",
       "      <td>1094.357902</td>\n",
       "      <td>1.907180e+05</td>\n",
       "      <td>10946.000000</td>\n",
       "      <td>9.044775</td>\n",
       "      <td>84000009</td>\n",
       "      <td>4</td>\n",
       "      <td>5349.302875</td>\n",
       "      <td>28.054438</td>\n",
       "    </tr>\n",
       "    <tr>\n",
       "      <td>8</td>\n",
       "      <td>8</td>\n",
       "      <td>0</td>\n",
       "      <td>0</td>\n",
       "      <td>39.318500</td>\n",
       "      <td>-75.507100</td>\n",
       "      <td>8194</td>\n",
       "      <td>310</td>\n",
       "      <td>3965.000000</td>\n",
       "      <td>3919.0</td>\n",
       "      <td>10</td>\n",
       "      <td>841.476990</td>\n",
       "      <td>4.541200e+04</td>\n",
       "      <td>4897.454545</td>\n",
       "      <td>3.783256</td>\n",
       "      <td>84000010</td>\n",
       "      <td>4</td>\n",
       "      <td>4663.552976</td>\n",
       "      <td>14.342541</td>\n",
       "    </tr>\n",
       "    <tr>\n",
       "      <td>9</td>\n",
       "      <td>9</td>\n",
       "      <td>0</td>\n",
       "      <td>0</td>\n",
       "      <td>36.840089</td>\n",
       "      <td>-85.206614</td>\n",
       "      <td>49</td>\n",
       "      <td>0</td>\n",
       "      <td>7007.428571</td>\n",
       "      <td>49.0</td>\n",
       "      <td>88888</td>\n",
       "      <td>396.230806</td>\n",
       "      <td>2.258534e+05</td>\n",
       "      <td>4897.454545</td>\n",
       "      <td>0.000000</td>\n",
       "      <td>84088888</td>\n",
       "      <td>4</td>\n",
       "      <td>3894.186870</td>\n",
       "      <td>14.342541</td>\n",
       "    </tr>\n",
       "  </tbody>\n",
       "</table>\n",
       "</div>"
      ],
      "text/plain": [
       "   Province_State  Country_Region  Last_Update        Lat       Long_  \\\n",
       "0               0               0            0  32.318200  -86.902300   \n",
       "1               1               0            0  61.370700 -152.404400   \n",
       "2               2               0            0 -14.271000 -170.132000   \n",
       "3               3               0            0  33.729800 -111.431200   \n",
       "4               4               0            0  34.969700  -92.373100   \n",
       "5               5               0            0  36.116200 -119.681600   \n",
       "6               6               0            0  39.059800 -105.311100   \n",
       "7               7               0            0  41.597800  -72.755400   \n",
       "8               8               0            0  39.318500  -75.507100   \n",
       "9               9               0            0  36.840089  -85.206614   \n",
       "\n",
       "   Confirmed  Deaths    Recovered   Active   FIPS  Incident_Rate  \\\n",
       "0      13052     522  7007.428571  12530.0      1     266.194321   \n",
       "1        401      10   352.000000     39.0      2      54.815493   \n",
       "2          0       0  7007.428571      0.0     60       0.000000   \n",
       "3      14906     747  3773.000000  10386.0      4     204.788838   \n",
       "4       5003     107  3852.000000   1044.0      5     165.782801   \n",
       "5      85997    3497  7007.428571  82500.0      6     217.646575   \n",
       "6      22797    1299  3478.000000  18020.0      8     395.868121   \n",
       "7      39017    3529  6264.000000  29224.0      9    1094.357902   \n",
       "8       8194     310  3965.000000   3919.0     10     841.476990   \n",
       "9         49       0  7007.428571     49.0  88888     396.230806   \n",
       "\n",
       "   People_Tested  People_Hospitalized  Mortality_Rate       UID  ISO3  \\\n",
       "0   1.644500e+05          1493.000000        3.999387  84000001     4   \n",
       "1   3.704500e+04          4897.454545        2.493766  84000002     4   \n",
       "2   1.240000e+02          4897.454545        4.458248        16     0   \n",
       "3   1.654350e+05          1792.000000        5.011405  84000004     4   \n",
       "4   9.625800e+04           535.000000        2.138717  84000005     4   \n",
       "5   1.380120e+06          4897.454545        4.066421  84000006     4   \n",
       "6   1.318370e+05          3955.000000        5.698118  84000008     4   \n",
       "7   1.907180e+05         10946.000000        9.044775  84000009     4   \n",
       "8   4.541200e+04          4897.454545        3.783256  84000010     4   \n",
       "9   2.258534e+05          4897.454545        0.000000  84088888     4   \n",
       "\n",
       "   Testing_Rate  Hospitalization_Rate  \n",
       "0   3353.942386             11.438860  \n",
       "1   5063.940017             14.342541  \n",
       "2    222.857246             14.342541  \n",
       "3   2272.859351             12.022005  \n",
       "4   3189.670370             10.693584  \n",
       "5   3492.893832             14.342541  \n",
       "6   2289.339188             17.348774  \n",
       "7   5349.302875             28.054438  \n",
       "8   4663.552976             14.342541  \n",
       "9   3894.186870             14.342541  "
      ]
     },
     "execution_count": 30,
     "metadata": {},
     "output_type": "execute_result"
    }
   ],
   "source": [
    "df.head(10)"
   ]
  },
  {
   "cell_type": "code",
   "execution_count": 10,
   "metadata": {},
   "outputs": [],
   "source": [
    "#Lets drop columns Country_Region,Last_Update,UID."
   ]
  },
  {
   "cell_type": "code",
   "execution_count": 31,
   "metadata": {},
   "outputs": [],
   "source": [
    "df.drop('Country_Region',axis=1,inplace=True)\n",
    "df.drop('Last_Update',axis=1,inplace=True)\n",
    "df.drop('UID',axis=1,inplace=True)\n",
    "df.drop('ISO3',axis=1,inplace=True)"
   ]
  },
  {
   "cell_type": "code",
   "execution_count": 32,
   "metadata": {},
   "outputs": [
    {
     "data": {
      "text/plain": [
       "(58, 14)"
      ]
     },
     "execution_count": 32,
     "metadata": {},
     "output_type": "execute_result"
    }
   ],
   "source": [
    "df.shape"
   ]
  },
  {
   "cell_type": "code",
   "execution_count": 35,
   "metadata": {},
   "outputs": [
    {
     "data": {
      "text/html": [
       "<div>\n",
       "<style scoped>\n",
       "    .dataframe tbody tr th:only-of-type {\n",
       "        vertical-align: middle;\n",
       "    }\n",
       "\n",
       "    .dataframe tbody tr th {\n",
       "        vertical-align: top;\n",
       "    }\n",
       "\n",
       "    .dataframe thead th {\n",
       "        text-align: right;\n",
       "    }\n",
       "</style>\n",
       "<table border=\"1\" class=\"dataframe\">\n",
       "  <thead>\n",
       "    <tr style=\"text-align: right;\">\n",
       "      <th></th>\n",
       "      <th>Province_State</th>\n",
       "      <th>Lat</th>\n",
       "      <th>Long_</th>\n",
       "      <th>Confirmed</th>\n",
       "      <th>Deaths</th>\n",
       "      <th>Recovered</th>\n",
       "      <th>Active</th>\n",
       "      <th>FIPS</th>\n",
       "      <th>Incident_Rate</th>\n",
       "      <th>People_Tested</th>\n",
       "      <th>People_Hospitalized</th>\n",
       "      <th>Mortality_Rate</th>\n",
       "      <th>Testing_Rate</th>\n",
       "      <th>Hospitalization_Rate</th>\n",
       "    </tr>\n",
       "  </thead>\n",
       "  <tbody>\n",
       "    <tr>\n",
       "      <td>count</td>\n",
       "      <td>58.000000</td>\n",
       "      <td>58.000000</td>\n",
       "      <td>58.000000</td>\n",
       "      <td>58.000000</td>\n",
       "      <td>58.000000</td>\n",
       "      <td>58.000000</td>\n",
       "      <td>58.000000</td>\n",
       "      <td>58.000000</td>\n",
       "      <td>58.000000</td>\n",
       "      <td>5.800000e+01</td>\n",
       "      <td>58.000000</td>\n",
       "      <td>58.000000</td>\n",
       "      <td>58.000000</td>\n",
       "      <td>58.000000</td>\n",
       "    </tr>\n",
       "    <tr>\n",
       "      <td>mean</td>\n",
       "      <td>28.500000</td>\n",
       "      <td>36.840089</td>\n",
       "      <td>-85.206614</td>\n",
       "      <td>26756.086207</td>\n",
       "      <td>1611.017241</td>\n",
       "      <td>7007.428571</td>\n",
       "      <td>20070.724138</td>\n",
       "      <td>3288.086207</td>\n",
       "      <td>396.230806</td>\n",
       "      <td>2.258534e+05</td>\n",
       "      <td>4897.454545</td>\n",
       "      <td>4.458248</td>\n",
       "      <td>3894.186870</td>\n",
       "      <td>14.342541</td>\n",
       "    </tr>\n",
       "    <tr>\n",
       "      <td>std</td>\n",
       "      <td>16.886879</td>\n",
       "      <td>10.694329</td>\n",
       "      <td>48.873770</td>\n",
       "      <td>52562.031122</td>\n",
       "      <td>4084.750891</td>\n",
       "      <td>9901.304545</td>\n",
       "      <td>41294.705318</td>\n",
       "      <td>17408.350591</td>\n",
       "      <td>395.554852</td>\n",
       "      <td>2.934948e+05</td>\n",
       "      <td>9879.577790</td>\n",
       "      <td>2.116191</td>\n",
       "      <td>1898.951207</td>\n",
       "      <td>3.781861</td>\n",
       "    </tr>\n",
       "    <tr>\n",
       "      <td>min</td>\n",
       "      <td>0.000000</td>\n",
       "      <td>-14.271000</td>\n",
       "      <td>-170.132000</td>\n",
       "      <td>0.000000</td>\n",
       "      <td>0.000000</td>\n",
       "      <td>13.000000</td>\n",
       "      <td>0.000000</td>\n",
       "      <td>1.000000</td>\n",
       "      <td>0.000000</td>\n",
       "      <td>1.240000e+02</td>\n",
       "      <td>65.000000</td>\n",
       "      <td>0.000000</td>\n",
       "      <td>97.702058</td>\n",
       "      <td>6.778043</td>\n",
       "    </tr>\n",
       "    <tr>\n",
       "      <td>25%</td>\n",
       "      <td>14.250000</td>\n",
       "      <td>34.872800</td>\n",
       "      <td>-99.697700</td>\n",
       "      <td>2596.000000</td>\n",
       "      <td>74.000000</td>\n",
       "      <td>1281.750000</td>\n",
       "      <td>812.500000</td>\n",
       "      <td>18.250000</td>\n",
       "      <td>154.909239</td>\n",
       "      <td>4.745000e+04</td>\n",
       "      <td>1454.500000</td>\n",
       "      <td>3.116158</td>\n",
       "      <td>2741.843521</td>\n",
       "      <td>12.829963</td>\n",
       "    </tr>\n",
       "    <tr>\n",
       "      <td>50%</td>\n",
       "      <td>28.500000</td>\n",
       "      <td>38.978600</td>\n",
       "      <td>-86.797300</td>\n",
       "      <td>10148.500000</td>\n",
       "      <td>385.000000</td>\n",
       "      <td>4987.000000</td>\n",
       "      <td>5644.500000</td>\n",
       "      <td>32.500000</td>\n",
       "      <td>259.009335</td>\n",
       "      <td>1.433085e+05</td>\n",
       "      <td>4897.454545</td>\n",
       "      <td>4.409323</td>\n",
       "      <td>3501.526835</td>\n",
       "      <td>14.342541</td>\n",
       "    </tr>\n",
       "    <tr>\n",
       "      <td>75%</td>\n",
       "      <td>42.750000</td>\n",
       "      <td>42.214075</td>\n",
       "      <td>-77.072550</td>\n",
       "      <td>29395.500000</td>\n",
       "      <td>1394.250000</td>\n",
       "      <td>7007.428571</td>\n",
       "      <td>19291.250000</td>\n",
       "      <td>47.750000</td>\n",
       "      <td>462.828082</td>\n",
       "      <td>2.646656e+05</td>\n",
       "      <td>4897.454545</td>\n",
       "      <td>5.450908</td>\n",
       "      <td>4622.586404</td>\n",
       "      <td>15.552021</td>\n",
       "    </tr>\n",
       "    <tr>\n",
       "      <td>max</td>\n",
       "      <td>57.000000</td>\n",
       "      <td>61.370700</td>\n",
       "      <td>145.673900</td>\n",
       "      <td>354370.000000</td>\n",
       "      <td>28636.000000</td>\n",
       "      <td>61886.000000</td>\n",
       "      <td>263848.000000</td>\n",
       "      <td>99999.000000</td>\n",
       "      <td>1821.620216</td>\n",
       "      <td>1.505836e+06</td>\n",
       "      <td>76410.000000</td>\n",
       "      <td>9.545549</td>\n",
       "      <td>11377.424693</td>\n",
       "      <td>28.054438</td>\n",
       "    </tr>\n",
       "  </tbody>\n",
       "</table>\n",
       "</div>"
      ],
      "text/plain": [
       "       Province_State        Lat       Long_      Confirmed        Deaths  \\\n",
       "count       58.000000  58.000000   58.000000      58.000000     58.000000   \n",
       "mean        28.500000  36.840089  -85.206614   26756.086207   1611.017241   \n",
       "std         16.886879  10.694329   48.873770   52562.031122   4084.750891   \n",
       "min          0.000000 -14.271000 -170.132000       0.000000      0.000000   \n",
       "25%         14.250000  34.872800  -99.697700    2596.000000     74.000000   \n",
       "50%         28.500000  38.978600  -86.797300   10148.500000    385.000000   \n",
       "75%         42.750000  42.214075  -77.072550   29395.500000   1394.250000   \n",
       "max         57.000000  61.370700  145.673900  354370.000000  28636.000000   \n",
       "\n",
       "          Recovered         Active          FIPS  Incident_Rate  \\\n",
       "count     58.000000      58.000000     58.000000      58.000000   \n",
       "mean    7007.428571   20070.724138   3288.086207     396.230806   \n",
       "std     9901.304545   41294.705318  17408.350591     395.554852   \n",
       "min       13.000000       0.000000      1.000000       0.000000   \n",
       "25%     1281.750000     812.500000     18.250000     154.909239   \n",
       "50%     4987.000000    5644.500000     32.500000     259.009335   \n",
       "75%     7007.428571   19291.250000     47.750000     462.828082   \n",
       "max    61886.000000  263848.000000  99999.000000    1821.620216   \n",
       "\n",
       "       People_Tested  People_Hospitalized  Mortality_Rate  Testing_Rate  \\\n",
       "count   5.800000e+01            58.000000       58.000000     58.000000   \n",
       "mean    2.258534e+05          4897.454545        4.458248   3894.186870   \n",
       "std     2.934948e+05          9879.577790        2.116191   1898.951207   \n",
       "min     1.240000e+02            65.000000        0.000000     97.702058   \n",
       "25%     4.745000e+04          1454.500000        3.116158   2741.843521   \n",
       "50%     1.433085e+05          4897.454545        4.409323   3501.526835   \n",
       "75%     2.646656e+05          4897.454545        5.450908   4622.586404   \n",
       "max     1.505836e+06         76410.000000        9.545549  11377.424693   \n",
       "\n",
       "       Hospitalization_Rate  \n",
       "count             58.000000  \n",
       "mean              14.342541  \n",
       "std                3.781861  \n",
       "min                6.778043  \n",
       "25%               12.829963  \n",
       "50%               14.342541  \n",
       "75%               15.552021  \n",
       "max               28.054438  "
      ]
     },
     "execution_count": 35,
     "metadata": {},
     "output_type": "execute_result"
    }
   ],
   "source": [
    "#Lets describe the data statistically\n",
    "df.describe()"
   ]
  },
  {
   "cell_type": "raw",
   "metadata": {},
   "source": [
    "Observation:\n",
    "    --Except mortality rate , hospitalized rate, rest of the columns are having huge std, mean is equal near median also max and 75% values have huge gaps. This shows are data is not evenly distributed, data is biased, and there is presence of outliers."
   ]
  },
  {
   "cell_type": "code",
   "execution_count": 36,
   "metadata": {},
   "outputs": [
    {
     "data": {
      "text/html": [
       "<div>\n",
       "<style scoped>\n",
       "    .dataframe tbody tr th:only-of-type {\n",
       "        vertical-align: middle;\n",
       "    }\n",
       "\n",
       "    .dataframe tbody tr th {\n",
       "        vertical-align: top;\n",
       "    }\n",
       "\n",
       "    .dataframe thead th {\n",
       "        text-align: right;\n",
       "    }\n",
       "</style>\n",
       "<table border=\"1\" class=\"dataframe\">\n",
       "  <thead>\n",
       "    <tr style=\"text-align: right;\">\n",
       "      <th></th>\n",
       "      <th>Province_State</th>\n",
       "      <th>Lat</th>\n",
       "      <th>Long_</th>\n",
       "      <th>Confirmed</th>\n",
       "      <th>Deaths</th>\n",
       "      <th>Recovered</th>\n",
       "      <th>Active</th>\n",
       "      <th>FIPS</th>\n",
       "      <th>Incident_Rate</th>\n",
       "      <th>People_Tested</th>\n",
       "      <th>People_Hospitalized</th>\n",
       "      <th>Mortality_Rate</th>\n",
       "      <th>Testing_Rate</th>\n",
       "      <th>Hospitalization_Rate</th>\n",
       "    </tr>\n",
       "  </thead>\n",
       "  <tbody>\n",
       "    <tr>\n",
       "      <td>Province_State</td>\n",
       "      <td>1.000000</td>\n",
       "      <td>0.153948</td>\n",
       "      <td>0.089445</td>\n",
       "      <td>0.006490</td>\n",
       "      <td>0.015229</td>\n",
       "      <td>0.067595</td>\n",
       "      <td>-0.027612</td>\n",
       "      <td>-0.195045</td>\n",
       "      <td>-0.078280</td>\n",
       "      <td>-0.065428</td>\n",
       "      <td>0.005461</td>\n",
       "      <td>0.019090</td>\n",
       "      <td>0.083183</td>\n",
       "      <td>-0.131694</td>\n",
       "    </tr>\n",
       "    <tr>\n",
       "      <td>Lat</td>\n",
       "      <td>0.153948</td>\n",
       "      <td>1.000000</td>\n",
       "      <td>-0.278274</td>\n",
       "      <td>0.120391</td>\n",
       "      <td>0.119685</td>\n",
       "      <td>0.030196</td>\n",
       "      <td>0.119635</td>\n",
       "      <td>-0.000404</td>\n",
       "      <td>0.245693</td>\n",
       "      <td>0.084769</td>\n",
       "      <td>0.026456</td>\n",
       "      <td>-0.134906</td>\n",
       "      <td>0.309579</td>\n",
       "      <td>-0.066255</td>\n",
       "    </tr>\n",
       "    <tr>\n",
       "      <td>Long_</td>\n",
       "      <td>0.089445</td>\n",
       "      <td>-0.278274</td>\n",
       "      <td>1.000000</td>\n",
       "      <td>0.009951</td>\n",
       "      <td>0.028690</td>\n",
       "      <td>-0.041588</td>\n",
       "      <td>0.011604</td>\n",
       "      <td>0.000396</td>\n",
       "      <td>0.041318</td>\n",
       "      <td>-0.077781</td>\n",
       "      <td>0.079677</td>\n",
       "      <td>0.297192</td>\n",
       "      <td>0.190191</td>\n",
       "      <td>0.071381</td>\n",
       "    </tr>\n",
       "    <tr>\n",
       "      <td>Confirmed</td>\n",
       "      <td>0.006490</td>\n",
       "      <td>0.120391</td>\n",
       "      <td>0.009951</td>\n",
       "      <td>1.000000</td>\n",
       "      <td>0.982191</td>\n",
       "      <td>0.822547</td>\n",
       "      <td>0.985218</td>\n",
       "      <td>-0.096696</td>\n",
       "      <td>0.708436</td>\n",
       "      <td>0.824136</td>\n",
       "      <td>0.869267</td>\n",
       "      <td>0.382537</td>\n",
       "      <td>0.332464</td>\n",
       "      <td>0.287471</td>\n",
       "    </tr>\n",
       "    <tr>\n",
       "      <td>Deaths</td>\n",
       "      <td>0.015229</td>\n",
       "      <td>0.119685</td>\n",
       "      <td>0.028690</td>\n",
       "      <td>0.982191</td>\n",
       "      <td>1.000000</td>\n",
       "      <td>0.830223</td>\n",
       "      <td>0.954378</td>\n",
       "      <td>-0.075053</td>\n",
       "      <td>0.710105</td>\n",
       "      <td>0.739634</td>\n",
       "      <td>0.908279</td>\n",
       "      <td>0.427127</td>\n",
       "      <td>0.344465</td>\n",
       "      <td>0.298225</td>\n",
       "    </tr>\n",
       "    <tr>\n",
       "      <td>Recovered</td>\n",
       "      <td>0.067595</td>\n",
       "      <td>0.030196</td>\n",
       "      <td>-0.041588</td>\n",
       "      <td>0.822547</td>\n",
       "      <td>0.830223</td>\n",
       "      <td>1.000000</td>\n",
       "      <td>0.725085</td>\n",
       "      <td>-0.000012</td>\n",
       "      <td>0.542795</td>\n",
       "      <td>0.711255</td>\n",
       "      <td>0.761829</td>\n",
       "      <td>0.322160</td>\n",
       "      <td>0.220597</td>\n",
       "      <td>0.231692</td>\n",
       "    </tr>\n",
       "    <tr>\n",
       "      <td>Active</td>\n",
       "      <td>-0.027612</td>\n",
       "      <td>0.119635</td>\n",
       "      <td>0.011604</td>\n",
       "      <td>0.985218</td>\n",
       "      <td>0.954378</td>\n",
       "      <td>0.725085</td>\n",
       "      <td>1.000000</td>\n",
       "      <td>-0.092276</td>\n",
       "      <td>0.700926</td>\n",
       "      <td>0.826144</td>\n",
       "      <td>0.835938</td>\n",
       "      <td>0.367626</td>\n",
       "      <td>0.321395</td>\n",
       "      <td>0.284564</td>\n",
       "    </tr>\n",
       "    <tr>\n",
       "      <td>FIPS</td>\n",
       "      <td>-0.195045</td>\n",
       "      <td>-0.000404</td>\n",
       "      <td>0.000396</td>\n",
       "      <td>-0.096696</td>\n",
       "      <td>-0.075053</td>\n",
       "      <td>-0.000012</td>\n",
       "      <td>-0.092276</td>\n",
       "      <td>1.000000</td>\n",
       "      <td>-0.000237</td>\n",
       "      <td>-0.000209</td>\n",
       "      <td>0.000009</td>\n",
       "      <td>-0.262178</td>\n",
       "      <td>-0.000100</td>\n",
       "      <td>-0.000118</td>\n",
       "    </tr>\n",
       "    <tr>\n",
       "      <td>Incident_Rate</td>\n",
       "      <td>-0.078280</td>\n",
       "      <td>0.245693</td>\n",
       "      <td>0.041318</td>\n",
       "      <td>0.708436</td>\n",
       "      <td>0.710105</td>\n",
       "      <td>0.542795</td>\n",
       "      <td>0.700926</td>\n",
       "      <td>-0.000237</td>\n",
       "      <td>1.000000</td>\n",
       "      <td>0.441669</td>\n",
       "      <td>0.551076</td>\n",
       "      <td>0.353882</td>\n",
       "      <td>0.620621</td>\n",
       "      <td>0.196029</td>\n",
       "    </tr>\n",
       "    <tr>\n",
       "      <td>People_Tested</td>\n",
       "      <td>-0.065428</td>\n",
       "      <td>0.084769</td>\n",
       "      <td>-0.077781</td>\n",
       "      <td>0.824136</td>\n",
       "      <td>0.739634</td>\n",
       "      <td>0.711255</td>\n",
       "      <td>0.826144</td>\n",
       "      <td>-0.000209</td>\n",
       "      <td>0.441669</td>\n",
       "      <td>1.000000</td>\n",
       "      <td>0.642091</td>\n",
       "      <td>0.220200</td>\n",
       "      <td>0.230753</td>\n",
       "      <td>0.252680</td>\n",
       "    </tr>\n",
       "    <tr>\n",
       "      <td>People_Hospitalized</td>\n",
       "      <td>0.005461</td>\n",
       "      <td>0.026456</td>\n",
       "      <td>0.079677</td>\n",
       "      <td>0.869267</td>\n",
       "      <td>0.908279</td>\n",
       "      <td>0.761829</td>\n",
       "      <td>0.835938</td>\n",
       "      <td>0.000009</td>\n",
       "      <td>0.551076</td>\n",
       "      <td>0.642091</td>\n",
       "      <td>1.000000</td>\n",
       "      <td>0.334335</td>\n",
       "      <td>0.270255</td>\n",
       "      <td>0.377586</td>\n",
       "    </tr>\n",
       "    <tr>\n",
       "      <td>Mortality_Rate</td>\n",
       "      <td>0.019090</td>\n",
       "      <td>-0.134906</td>\n",
       "      <td>0.297192</td>\n",
       "      <td>0.382537</td>\n",
       "      <td>0.427127</td>\n",
       "      <td>0.322160</td>\n",
       "      <td>0.367626</td>\n",
       "      <td>-0.262178</td>\n",
       "      <td>0.353882</td>\n",
       "      <td>0.220200</td>\n",
       "      <td>0.334335</td>\n",
       "      <td>1.000000</td>\n",
       "      <td>0.158970</td>\n",
       "      <td>0.451218</td>\n",
       "    </tr>\n",
       "    <tr>\n",
       "      <td>Testing_Rate</td>\n",
       "      <td>0.083183</td>\n",
       "      <td>0.309579</td>\n",
       "      <td>0.190191</td>\n",
       "      <td>0.332464</td>\n",
       "      <td>0.344465</td>\n",
       "      <td>0.220597</td>\n",
       "      <td>0.321395</td>\n",
       "      <td>-0.000100</td>\n",
       "      <td>0.620621</td>\n",
       "      <td>0.230753</td>\n",
       "      <td>0.270255</td>\n",
       "      <td>0.158970</td>\n",
       "      <td>1.000000</td>\n",
       "      <td>-0.058463</td>\n",
       "    </tr>\n",
       "    <tr>\n",
       "      <td>Hospitalization_Rate</td>\n",
       "      <td>-0.131694</td>\n",
       "      <td>-0.066255</td>\n",
       "      <td>0.071381</td>\n",
       "      <td>0.287471</td>\n",
       "      <td>0.298225</td>\n",
       "      <td>0.231692</td>\n",
       "      <td>0.284564</td>\n",
       "      <td>-0.000118</td>\n",
       "      <td>0.196029</td>\n",
       "      <td>0.252680</td>\n",
       "      <td>0.377586</td>\n",
       "      <td>0.451218</td>\n",
       "      <td>-0.058463</td>\n",
       "      <td>1.000000</td>\n",
       "    </tr>\n",
       "  </tbody>\n",
       "</table>\n",
       "</div>"
      ],
      "text/plain": [
       "                      Province_State       Lat     Long_  Confirmed    Deaths  \\\n",
       "Province_State              1.000000  0.153948  0.089445   0.006490  0.015229   \n",
       "Lat                         0.153948  1.000000 -0.278274   0.120391  0.119685   \n",
       "Long_                       0.089445 -0.278274  1.000000   0.009951  0.028690   \n",
       "Confirmed                   0.006490  0.120391  0.009951   1.000000  0.982191   \n",
       "Deaths                      0.015229  0.119685  0.028690   0.982191  1.000000   \n",
       "Recovered                   0.067595  0.030196 -0.041588   0.822547  0.830223   \n",
       "Active                     -0.027612  0.119635  0.011604   0.985218  0.954378   \n",
       "FIPS                       -0.195045 -0.000404  0.000396  -0.096696 -0.075053   \n",
       "Incident_Rate              -0.078280  0.245693  0.041318   0.708436  0.710105   \n",
       "People_Tested              -0.065428  0.084769 -0.077781   0.824136  0.739634   \n",
       "People_Hospitalized         0.005461  0.026456  0.079677   0.869267  0.908279   \n",
       "Mortality_Rate              0.019090 -0.134906  0.297192   0.382537  0.427127   \n",
       "Testing_Rate                0.083183  0.309579  0.190191   0.332464  0.344465   \n",
       "Hospitalization_Rate       -0.131694 -0.066255  0.071381   0.287471  0.298225   \n",
       "\n",
       "                      Recovered    Active      FIPS  Incident_Rate  \\\n",
       "Province_State         0.067595 -0.027612 -0.195045      -0.078280   \n",
       "Lat                    0.030196  0.119635 -0.000404       0.245693   \n",
       "Long_                 -0.041588  0.011604  0.000396       0.041318   \n",
       "Confirmed              0.822547  0.985218 -0.096696       0.708436   \n",
       "Deaths                 0.830223  0.954378 -0.075053       0.710105   \n",
       "Recovered              1.000000  0.725085 -0.000012       0.542795   \n",
       "Active                 0.725085  1.000000 -0.092276       0.700926   \n",
       "FIPS                  -0.000012 -0.092276  1.000000      -0.000237   \n",
       "Incident_Rate          0.542795  0.700926 -0.000237       1.000000   \n",
       "People_Tested          0.711255  0.826144 -0.000209       0.441669   \n",
       "People_Hospitalized    0.761829  0.835938  0.000009       0.551076   \n",
       "Mortality_Rate         0.322160  0.367626 -0.262178       0.353882   \n",
       "Testing_Rate           0.220597  0.321395 -0.000100       0.620621   \n",
       "Hospitalization_Rate   0.231692  0.284564 -0.000118       0.196029   \n",
       "\n",
       "                      People_Tested  People_Hospitalized  Mortality_Rate  \\\n",
       "Province_State            -0.065428             0.005461        0.019090   \n",
       "Lat                        0.084769             0.026456       -0.134906   \n",
       "Long_                     -0.077781             0.079677        0.297192   \n",
       "Confirmed                  0.824136             0.869267        0.382537   \n",
       "Deaths                     0.739634             0.908279        0.427127   \n",
       "Recovered                  0.711255             0.761829        0.322160   \n",
       "Active                     0.826144             0.835938        0.367626   \n",
       "FIPS                      -0.000209             0.000009       -0.262178   \n",
       "Incident_Rate              0.441669             0.551076        0.353882   \n",
       "People_Tested              1.000000             0.642091        0.220200   \n",
       "People_Hospitalized        0.642091             1.000000        0.334335   \n",
       "Mortality_Rate             0.220200             0.334335        1.000000   \n",
       "Testing_Rate               0.230753             0.270255        0.158970   \n",
       "Hospitalization_Rate       0.252680             0.377586        0.451218   \n",
       "\n",
       "                      Testing_Rate  Hospitalization_Rate  \n",
       "Province_State            0.083183             -0.131694  \n",
       "Lat                       0.309579             -0.066255  \n",
       "Long_                     0.190191              0.071381  \n",
       "Confirmed                 0.332464              0.287471  \n",
       "Deaths                    0.344465              0.298225  \n",
       "Recovered                 0.220597              0.231692  \n",
       "Active                    0.321395              0.284564  \n",
       "FIPS                     -0.000100             -0.000118  \n",
       "Incident_Rate             0.620621              0.196029  \n",
       "People_Tested             0.230753              0.252680  \n",
       "People_Hospitalized       0.270255              0.377586  \n",
       "Mortality_Rate            0.158970              0.451218  \n",
       "Testing_Rate              1.000000             -0.058463  \n",
       "Hospitalization_Rate     -0.058463              1.000000  "
      ]
     },
     "execution_count": 36,
     "metadata": {},
     "output_type": "execute_result"
    }
   ],
   "source": [
    "#Lets check the correlation.\n",
    "dfcor= df.corr()\n",
    "dfcor"
   ]
  },
  {
   "cell_type": "code",
   "execution_count": 37,
   "metadata": {},
   "outputs": [
    {
     "data": {
      "text/plain": [
       "<matplotlib.axes._subplots.AxesSubplot at 0x27e445b1688>"
      ]
     },
     "execution_count": 37,
     "metadata": {},
     "output_type": "execute_result"
    },
    {
     "data": {
      "image/png": "[encoded data removed]",
      "text/plain": [
       "<Figure size 720x432 with 2 Axes>"
      ]
     },
     "metadata": {
      "needs_background": "light"
     },
     "output_type": "display_data"
    }
   ],
   "source": [
    "plt.figure(figsize = (10,6))\n",
    "sns.heatmap(dfcor,cmap = 'Blues',annot = True)"
   ]
  },
  {
   "cell_type": "code",
   "execution_count": 38,
   "metadata": {},
   "outputs": [
    {
     "data": {
      "text/plain": [
       "<matplotlib.axes._subplots.AxesSubplot at 0x27e4494e9c8>"
      ]
     },
     "execution_count": 38,
     "metadata": {},
     "output_type": "execute_result"
    },
    {
     "data": {
      "image/png": "[encoded data removed]",
      "text/plain": [
       "<Figure size 1440x1080 with 2 Axes>"
      ]
     },
     "metadata": {
      "needs_background": "light"
     },
     "output_type": "display_data"
    }
   ],
   "source": [
    "plt.figure(figsize = (20,15))\n",
    "sns.heatmap(dfcor,cmap ='YlOrRd_r',annot = True)"
   ]
  },
  {
   "cell_type": "raw",
   "metadata": {},
   "source": [
    "Observation:\n",
    "    1. Deaths:\n",
    "        --people hospitalized, people tested,incident rate,active , confirmed are highly positively correlated with death variable.\n",
    "        \n",
    "    2.Recovered:\n",
    "        --confirmed, death, active, people tested, people hospitalized,confirmed are highly positively correlated with recovered  variable"
   ]
  },
  {
   "cell_type": "code",
   "execution_count": 39,
   "metadata": {},
   "outputs": [
    {
     "data": {
      "text/plain": [
       "<matplotlib.axes._subplots.AxesSubplot at 0x27e4546e0c8>"
      ]
     },
     "execution_count": 39,
     "metadata": {},
     "output_type": "execute_result"
    },
    {
     "data": {
      "image/png": "[encoded data removed]",
      "text/plain": [
       "<Figure size 432x288 with 1 Axes>"
      ]
     },
     "metadata": {
      "needs_background": "light"
     },
     "output_type": "display_data"
    }
   ],
   "source": [
    "#Lets do univariate analysis\n",
    "sns.distplot(df['Recovered'])"
   ]
  },
  {
   "cell_type": "raw",
   "metadata": {},
   "source": [
    "--- most racovered cases are between the rane of 0-10000."
   ]
  },
  {
   "cell_type": "code",
   "execution_count": 40,
   "metadata": {},
   "outputs": [
    {
     "data": {
      "text/plain": [
       "<matplotlib.axes._subplots.AxesSubplot at 0x27e44e20708>"
      ]
     },
     "execution_count": 40,
     "metadata": {},
     "output_type": "execute_result"
    },
    {
     "data": {
      "image/png": "[encoded data removed]",
      "text/plain": [
       "<Figure size 432x288 with 1 Axes>"
      ]
     },
     "metadata": {
      "needs_background": "light"
     },
     "output_type": "display_data"
    }
   ],
   "source": [
    "sns.distplot(df['Deaths'])"
   ]
  },
  {
   "cell_type": "raw",
   "metadata": {},
   "source": [
    "--- most death cases are between the range of 0-5000."
   ]
  },
  {
   "cell_type": "code",
   "execution_count": 42,
   "metadata": {},
   "outputs": [
    {
     "data": {
      "text/plain": [
       "<matplotlib.axes._subplots.AxesSubplot at 0x27e44f16ec8>"
      ]
     },
     "execution_count": 42,
     "metadata": {},
     "output_type": "execute_result"
    },
    {
     "data": {
      "image/png": "[encoded data removed]",
      "text/plain": [
       "<Figure size 432x288 with 1 Axes>"
      ]
     },
     "metadata": {
      "needs_background": "light"
     },
     "output_type": "display_data"
    }
   ],
   "source": [
    "sns.distplot(df['Active'])"
   ]
  },
  {
   "cell_type": "raw",
   "metadata": {},
   "source": [
    "---active case mostly between 0-50000 range."
   ]
  },
  {
   "cell_type": "code",
   "execution_count": 43,
   "metadata": {},
   "outputs": [
    {
     "data": {
      "text/plain": [
       "<matplotlib.axes._subplots.AxesSubplot at 0x27e44fbde48>"
      ]
     },
     "execution_count": 43,
     "metadata": {},
     "output_type": "execute_result"
    },
    {
     "data": {
      "image/png": "[encoded data removed]",
      "text/plain": [
       "<Figure size 432x288 with 1 Axes>"
      ]
     },
     "metadata": {
      "needs_background": "light"
     },
     "output_type": "display_data"
    }
   ],
   "source": [
    "sns.distplot(df['People_Tested'])"
   ]
  },
  {
   "cell_type": "raw",
   "metadata": {},
   "source": [
    "-----people tested ranges 0-500000"
   ]
  },
  {
   "cell_type": "code",
   "execution_count": 44,
   "metadata": {},
   "outputs": [
    {
     "data": {
      "text/plain": [
       "<matplotlib.axes._subplots.AxesSubplot at 0x27e4504da88>"
      ]
     },
     "execution_count": 44,
     "metadata": {},
     "output_type": "execute_result"
    },
    {
     "data": {
      "image/png": "[encoded data removed]",
      "text/plain": [
       "<Figure size 432x288 with 1 Axes>"
      ]
     },
     "metadata": {
      "needs_background": "light"
     },
     "output_type": "display_data"
    }
   ],
   "source": [
    "sns.distplot(df['People_Hospitalized'])"
   ]
  },
  {
   "cell_type": "raw",
   "metadata": {},
   "source": [
    "---ranges from 0-20000."
   ]
  },
  {
   "cell_type": "code",
   "execution_count": 46,
   "metadata": {},
   "outputs": [
    {
     "data": {
      "text/plain": [
       "Province_State          0\n",
       "Lat                     0\n",
       "Long_                   0\n",
       "Confirmed               0\n",
       "Deaths                  0\n",
       "Recovered               0\n",
       "Active                  0\n",
       "FIPS                    0\n",
       "Incident_Rate           0\n",
       "People_Tested           0\n",
       "People_Hospitalized     0\n",
       "Mortality_Rate          0\n",
       "Testing_Rate            0\n",
       "Hospitalization_Rate    0\n",
       "dtype: int64"
      ]
     },
     "execution_count": 46,
     "metadata": {},
     "output_type": "execute_result"
    }
   ],
   "source": [
    "df.isnull().sum()"
   ]
  },
  {
   "cell_type": "code",
   "execution_count": 52,
   "metadata": {},
   "outputs": [],
   "source": [
    "df=df.replace(np.NaN,df.mean())"
   ]
  },
  {
   "cell_type": "code",
   "execution_count": 48,
   "metadata": {},
   "outputs": [
    {
     "data": {
      "text/plain": [
       "Province_State          0\n",
       "Lat                     0\n",
       "Long_                   0\n",
       "Confirmed               0\n",
       "Deaths                  0\n",
       "Recovered               0\n",
       "Active                  0\n",
       "FIPS                    0\n",
       "Incident_Rate           0\n",
       "People_Tested           0\n",
       "People_Hospitalized     0\n",
       "Mortality_Rate          0\n",
       "Testing_Rate            0\n",
       "Hospitalization_Rate    0\n",
       "dtype: int64"
      ]
     },
     "execution_count": 48,
     "metadata": {},
     "output_type": "execute_result"
    }
   ],
   "source": [
    "df.isnull().sum()"
   ]
  },
  {
   "cell_type": "code",
   "execution_count": 49,
   "metadata": {},
   "outputs": [
    {
     "data": {
      "text/plain": [
       "Province_State          0.000000\n",
       "Lat                    -2.250097\n",
       "Long_                   3.567919\n",
       "Confirmed               4.708614\n",
       "Deaths                  5.489201\n",
       "Recovered               3.647693\n",
       "Active                  4.180953\n",
       "FIPS                    5.269070\n",
       "Incident_Rate           1.988351\n",
       "People_Tested           2.829700\n",
       "People_Hospitalized     6.869437\n",
       "Mortality_Rate          0.496115\n",
       "Testing_Rate            1.313407\n",
       "Hospitalization_Rate    0.867341\n",
       "dtype: float64"
      ]
     },
     "execution_count": 49,
     "metadata": {},
     "output_type": "execute_result"
    }
   ],
   "source": [
    "df.skew()"
   ]
  },
  {
   "cell_type": "code",
   "execution_count": 50,
   "metadata": {},
   "outputs": [],
   "source": [
    "#Treating using log\n",
    "import numpy as np\n",
    "for col in df.columns:\n",
    "    if df.skew().loc[col]>0.55:\n",
    "        df[col] = np.log1p(df[col])"
   ]
  },
  {
   "cell_type": "code",
   "execution_count": 53,
   "metadata": {},
   "outputs": [
    {
     "data": {
      "text/plain": [
       "Province_State          0.000000\n",
       "Lat                    -2.250097\n",
       "Long_                   0.000000\n",
       "Confirmed              -1.374603\n",
       "Deaths                 -0.568714\n",
       "Recovered              -1.124535\n",
       "Active                 -0.994488\n",
       "FIPS                    3.421540\n",
       "Incident_Rate          -1.807259\n",
       "People_Tested          -1.628988\n",
       "People_Hospitalized    -0.928480\n",
       "Mortality_Rate          0.496115\n",
       "Testing_Rate           -2.962747\n",
       "Hospitalization_Rate   -0.300911\n",
       "dtype: float64"
      ]
     },
     "execution_count": 53,
     "metadata": {},
     "output_type": "execute_result"
    }
   ],
   "source": [
    "df.skew()"
   ]
  },
  {
   "cell_type": "code",
   "execution_count": 54,
   "metadata": {},
   "outputs": [],
   "source": [
    "collist=df.columns.values\n",
    "ncol=15\n",
    "nrows=15"
   ]
  },
  {
   "cell_type": "code",
   "execution_count": 55,
   "metadata": {},
   "outputs": [
    {
     "data": {
      "image/png": "[encoded data removed]",
      "text/plain": [
       "<Figure size 1080x5400 with 13 Axes>"
      ]
     },
     "metadata": {
      "needs_background": "light"
     },
     "output_type": "display_data"
    }
   ],
   "source": [
    "#Lets visualize outliers through boxplots\n",
    "plt.figure(figsize=(ncol,5*ncol))\n",
    "for i in range (1,len(collist)):\n",
    "    plt.subplot(nrows,ncol,i+1)\n",
    "    sns.boxplot(df[collist[i]],color='green',orient='v')\n",
    "    plt.tight_layout()"
   ]
  },
  {
   "cell_type": "raw",
   "metadata": {},
   "source": [
    "-- except column death all other variables are having outliers"
   ]
  },
  {
   "cell_type": "code",
   "execution_count": 38,
   "metadata": {},
   "outputs": [],
   "source": [
    "#Lets do bivariate analysis with target variable."
   ]
  },
  {
   "cell_type": "code",
   "execution_count": 39,
   "metadata": {},
   "outputs": [
    {
     "data": {
      "text/plain": [
       "<matplotlib.collections.PathCollection at 0x1ff6064eac8>"
      ]
     },
     "execution_count": 39,
     "metadata": {},
     "output_type": "execute_result"
    },
    {
     "data": {
      "image/png": "[encoded data removed]",
      "text/plain": [
       "<Figure size 432x288 with 1 Axes>"
      ]
     },
     "metadata": {
      "needs_background": "light"
     },
     "output_type": "display_data"
    }
   ],
   "source": [
    "plt.scatter(df['Confirmed'],df['Deaths'])"
   ]
  },
  {
   "cell_type": "code",
   "execution_count": 40,
   "metadata": {},
   "outputs": [
    {
     "data": {
      "text/plain": [
       "<matplotlib.collections.PathCollection at 0x1ff6044ba88>"
      ]
     },
     "execution_count": 40,
     "metadata": {},
     "output_type": "execute_result"
    },
    {
     "data": {
      "image/png": "[encoded data removed]",
      "text/plain": [
       "<Figure size 432x288 with 1 Axes>"
      ]
     },
     "metadata": {
      "needs_background": "light"
     },
     "output_type": "display_data"
    }
   ],
   "source": [
    "plt.scatter(df['Recovered'],df['Deaths'])"
   ]
  },
  {
   "cell_type": "code",
   "execution_count": 45,
   "metadata": {},
   "outputs": [
    {
     "data": {
      "text/plain": [
       "<matplotlib.collections.PathCollection at 0x27e441a21c8>"
      ]
     },
     "execution_count": 45,
     "metadata": {},
     "output_type": "execute_result"
    },
    {
     "data": {
      "image/png": "[encoded data removed]",
      "text/plain": [
       "<Figure size 432x288 with 1 Axes>"
      ]
     },
     "metadata": {
      "needs_background": "light"
     },
     "output_type": "display_data"
    }
   ],
   "source": [
    "plt.scatter(df['Active'],df['Deaths'])"
   ]
  },
  {
   "cell_type": "code",
   "execution_count": 56,
   "metadata": {},
   "outputs": [
    {
     "data": {
      "text/plain": [
       "<matplotlib.collections.PathCollection at 0x27e45951d48>"
      ]
     },
     "execution_count": 56,
     "metadata": {},
     "output_type": "execute_result"
    },
    {
     "data": {
      "image/png": "[encoded data removed]",
      "text/plain": [
       "<Figure size 432x288 with 1 Axes>"
      ]
     },
     "metadata": {
      "needs_background": "light"
     },
     "output_type": "display_data"
    }
   ],
   "source": [
    "plt.scatter(df['People_Tested'],df['Deaths'])"
   ]
  },
  {
   "cell_type": "code",
   "execution_count": 58,
   "metadata": {},
   "outputs": [
    {
     "data": {
      "text/plain": [
       "<matplotlib.collections.PathCollection at 0x27e469e17c8>"
      ]
     },
     "execution_count": 58,
     "metadata": {},
     "output_type": "execute_result"
    },
    {
     "data": {
      "image/png": "[encoded data removed]",
      "text/plain": [
       "<Figure size 432x288 with 1 Axes>"
      ]
     },
     "metadata": {
      "needs_background": "light"
     },
     "output_type": "display_data"
    }
   ],
   "source": [
    "plt.scatter(df['People_Hospitalized'],df['Deaths'])"
   ]
  },
  {
   "cell_type": "raw",
   "metadata": {},
   "source": [
    "---people hospitalized was stagnant but deaths count are increasing."
   ]
  },
  {
   "cell_type": "code",
   "execution_count": 59,
   "metadata": {},
   "outputs": [
    {
     "data": {
      "text/plain": [
       "<matplotlib.collections.PathCollection at 0x27e46a4ba08>"
      ]
     },
     "execution_count": 59,
     "metadata": {},
     "output_type": "execute_result"
    },
    {
     "data": {
      "image/png": "[encoded data removed]",
      "text/plain": [
       "<Figure size 432x288 with 1 Axes>"
      ]
     },
     "metadata": {
      "needs_background": "light"
     },
     "output_type": "display_data"
    }
   ],
   "source": [
    "plt.scatter(df['People_Tested'],df['Recovered'])"
   ]
  },
  {
   "cell_type": "code",
   "execution_count": 60,
   "metadata": {},
   "outputs": [
    {
     "data": {
      "text/plain": [
       "<matplotlib.collections.PathCollection at 0x27e46aa9548>"
      ]
     },
     "execution_count": 60,
     "metadata": {},
     "output_type": "execute_result"
    },
    {
     "data": {
      "image/png": "[encoded data removed]",
      "text/plain": [
       "<Figure size 432x288 with 1 Axes>"
      ]
     },
     "metadata": {
      "needs_background": "light"
     },
     "output_type": "display_data"
    }
   ],
   "source": [
    "plt.scatter(df['People_Hospitalized'],df['Recovered'])"
   ]
  },
  {
   "cell_type": "code",
   "execution_count": 61,
   "metadata": {},
   "outputs": [
    {
     "data": {
      "text/plain": [
       "<matplotlib.collections.PathCollection at 0x27e46b0ea48>"
      ]
     },
     "execution_count": 61,
     "metadata": {},
     "output_type": "execute_result"
    },
    {
     "data": {
      "image/png": "[encoded data removed]",
      "text/plain": [
       "<Figure size 432x288 with 1 Axes>"
      ]
     },
     "metadata": {
      "needs_background": "light"
     },
     "output_type": "display_data"
    }
   ],
   "source": [
    "plt.scatter(df['Active'],df['Recovered'])"
   ]
  },
  {
   "cell_type": "markdown",
   "metadata": {},
   "source": [
    "# Pre-processing Pipeline"
   ]
  },
  {
   "cell_type": "code",
   "execution_count": 62,
   "metadata": {},
   "outputs": [
    {
     "data": {
      "text/plain": [
       "array([[1.70244092e+00, 4.26523477e-01, 1.58925762e-12, 3.21337477e-01,\n",
       "        2.93758097e-01, 5.24234706e-01, 5.35925495e-01, 1.70638299e+00,\n",
       "        6.37716112e-02, 3.00988812e-01, 3.36196024e-01, 2.18727182e-01,\n",
       "        1.24077924e-02, 7.34372945e-01],\n",
       "       [1.64270615e+00, 2.31382962e+00, 1.58925762e-12, 1.17083224e+00,\n",
       "        1.39518751e+00, 1.43560153e+00, 1.55757824e+00, 1.46521910e+00,\n",
       "        1.29808839e+00, 6.03392941e-01, 5.37895230e-01, 9.36418161e-01,\n",
       "        5.95783355e-01, 1.20355520e-01],\n",
       "       [1.58297138e+00, 4.82101134e+00, 1.58925762e-12, 3.74178007e+00,\n",
       "        2.44393007e+00, 5.24234706e-01, 2.90133559e+00, 3.26423922e-01,\n",
       "        4.79600309e+00, 4.05696273e+00, 5.37895230e-01, 4.23371775e-16,\n",
       "        3.82171194e+00, 1.20355520e-01],\n",
       "       [1.52323661e+00, 2.93375472e-01, 1.58925762e-12, 3.78280325e-01,\n",
       "        4.50254778e-01, 1.18299979e-01, 4.67569559e-01, 1.16138852e+00,\n",
       "        1.63325201e-01, 3.04612377e-01, 2.01907016e-01, 2.63675605e-01,\n",
       "        5.38461879e-01, 5.47724899e-01],\n",
       "       [1.46350184e+00, 1.76422927e-01, 1.58925762e-12, 8.97346620e-02,\n",
       "        3.96154939e-01, 1.31886236e-01, 3.68996140e-01, 1.05294670e+00,\n",
       "        3.46096483e-01, 2.39863019e-02, 1.09075608e+00, 1.10566079e+00,\n",
       "        5.86943693e-02, 9.86081732e-01],\n",
       "       [1.40376707e+00, 6.82802598e-02, 1.58925762e-12, 1.12965270e+00,\n",
       "        1.12490109e+00, 5.24234706e-01, 1.22243522e+00, 9.61260441e-01,\n",
       "        1.10617097e-01, 1.59180760e+00, 5.37895230e-01, 1.86773871e-01,\n",
       "        6.98834842e-02, 1.20355520e-01],\n",
       "       [1.34403230e+00, 2.09372382e-01, 1.58925762e-12, 5.60429098e-01,\n",
       "        6.91990685e-01, 6.49228837e-02, 6.68277414e-01, 8.11782804e-01,\n",
       "        4.07842909e-01, 1.66866155e-01, 3.80600716e-01, 5.91014181e-01,\n",
       "        5.28234400e-01, 8.49318621e-01],\n",
       "       [1.28429754e+00, 4.48767139e-01, 1.58925762e-12, 7.90815246e-01,\n",
       "        1.12888391e+00, 4.50695011e-01, 8.44398348e-01, 7.49116124e-01,\n",
       "        1.29077451e+00, 3.90907132e-01, 1.12982686e+00, 2.18627946e+00,\n",
       "        6.73410761e-01, 2.72173486e+00],\n",
       "       [1.22456277e+00, 2.33774046e-01, 1.58925762e-12, 1.21759426e-01,\n",
       "        6.64235733e-02, 1.50843184e-01, 1.12599347e-01, 6.92427216e-01,\n",
       "        1.06249102e+00, 4.79828760e-01, 5.37895230e-01, 3.21751275e-01,\n",
       "        4.79152500e-01, 1.20355520e-01],\n",
       "       [1.16482800e+00, 0.00000000e+00, 1.58925762e-12, 2.06452043e+00,\n",
       "        2.44393007e+00, 5.24234706e-01, 1.47629318e+00, 4.65898630e+00,\n",
       "        4.08637321e-01, 4.93507810e-01, 5.37895230e-01, 2.12513198e+00,\n",
       "        2.23868003e-01, 1.20355520e-01],\n",
       "       [1.10509323e+00, 1.94054136e-01, 1.58925762e-12, 8.67259211e-02,\n",
       "        1.85155453e-01, 7.14496787e-01, 2.72842602e-01, 6.40674298e-01,\n",
       "        1.27115755e+00, 5.50503070e-01, 5.37895230e-01, 4.44149128e-01,\n",
       "        7.70046100e-01, 1.20355520e-01],\n",
       "       [1.04535846e+00, 8.55877690e-01, 1.58925762e-12, 8.74899390e-01,\n",
       "        9.01111338e-01, 5.24234706e-01, 1.00466325e+00, 5.93066229e-01,\n",
       "        9.72849703e-02, 1.23878977e+00, 9.80332832e-01, 2.04592097e-02,\n",
       "        1.09254878e-01, 1.16351814e+00],\n",
       "       [9.85623690e-01, 3.58383693e-01, 1.58925762e-12, 7.99344732e-01,\n",
       "        8.08803676e-01, 5.24234706e-01, 9.41047493e-01, 5.48988041e-01,\n",
       "        3.60554639e-01, 8.44774474e-01, 8.11946104e-01, 9.27303110e-02,\n",
       "        1.87367777e-01, 9.60480846e-01],\n",
       "       [9.25888921e-01, 0.00000000e+00, 1.58925762e-12, 1.75052148e+00,\n",
       "        1.83762090e+00, 5.24234706e-01, 1.22017409e+00, 4.72904094e+00,\n",
       "        4.08637321e-01, 4.93507810e-01, 5.37895230e-01, 7.36760403e-01,\n",
       "        2.23868003e-01, 1.20355520e-01],\n",
       "       [8.66154152e-01, 2.20678853e+00, 5.38516481e+00, 1.57943762e+00,\n",
       "        1.66028683e+00, 2.11121245e+00, 1.72878764e+00, 3.82225755e-01,\n",
       "        8.37662546e-01, 1.82189728e+00, 5.37895230e-01, 5.77488338e-01,\n",
       "        1.32581879e-01, 1.20355520e-01],\n",
       "       [8.06419383e-01, 1.48520859e+00, 1.58925762e-12, 9.68787676e-01,\n",
       "        1.17979818e+00, 1.11108199e+00, 1.48365247e+00, 4.69565793e-01,\n",
       "        1.45850738e+00, 4.68025889e-01, 2.46379863e+00, 8.64873488e-01,\n",
       "        2.33265936e-02, 3.25303572e-01],\n",
       "       [7.46684614e-01, 6.98037637e-01, 1.58925762e-12, 3.86061983e-01,\n",
       "        5.38481556e-01, 4.16786077e-01, 4.84042725e-01, 4.33507277e-01,\n",
       "        4.90727665e-01, 5.78962302e-01, 1.75976478e+00, 6.60490456e-01,\n",
       "        6.11793886e-01, 1.79852412e+00],\n",
       "       [6.86949845e-01, 3.31022271e-01, 1.58925762e-12, 1.19611989e+00,\n",
       "        1.23758556e+00, 5.24234706e-01, 1.27723382e+00, 3.99510405e-01,\n",
       "        1.01034972e+00, 1.12808754e+00, 5.37895230e-01, 2.28404394e-02,\n",
       "        5.98031446e-01, 1.20355520e-01],\n",
       "       [6.27215076e-01, 2.83850751e-01, 1.58925762e-12, 6.67641501e-01,\n",
       "        8.49832367e-01, 5.24234706e-01, 8.21055724e-01, 3.67352122e-01,\n",
       "        4.89295948e-01, 4.06671972e-01, 4.57225643e-01, 9.10055514e-01,\n",
       "        1.89841700e-01, 2.89467991e-01],\n",
       "       [5.67480307e-01, 4.87789050e-01, 1.58925762e-12, 3.98339264e-01,\n",
       "        1.69884489e-01, 6.40119543e-01, 3.16770458e-01, 3.36843725e-01,\n",
       "        6.01891604e-01, 6.10992408e-02, 5.37895230e-01, 9.25817147e-01,\n",
       "        7.68651591e-02, 1.20355520e-01],\n",
       "       [5.07745537e-01, 1.59078732e-01, 1.58925762e-12, 1.37829933e-01,\n",
       "        1.20148326e-01, 1.24230728e+00, 3.64768417e-01, 3.07824148e-01,\n",
       "        1.43965929e-01, 2.06927552e-01, 8.32753622e-01, 9.93261794e-01,\n",
       "        4.35655542e-01, 1.65052174e+00],\n",
       "       [4.48010768e-01, 7.81014277e-02, 1.58925762e-12, 1.20344511e-01,\n",
       "        1.50594427e-01, 7.11775038e-02, 1.98758184e-01, 2.80154817e-01,\n",
       "        2.61591656e-01, 2.61096157e-01, 1.17445493e-01, 6.94255677e-02,\n",
       "        5.10217458e-02, 2.20784877e+00],\n",
       "       [3.88275999e-01, 5.34873657e-01, 1.58925762e-12, 7.48087118e-01,\n",
       "        9.96656595e-01, 1.39027204e+00, 2.94567183e-01, 2.53715649e-01,\n",
       "        9.73668082e-01, 6.36708590e-01, 5.37895230e-01, 1.39499041e+00,\n",
       "        8.71269478e-01, 1.20355520e-01],\n",
       "       [3.28541230e-01, 7.40804218e-01, 1.58925762e-12, 5.23367651e-01,\n",
       "        5.61505799e-01, 6.89608663e-01, 5.43637802e-01, 2.28401899e-01,\n",
       "        5.21494906e-01, 5.99735050e-01, 1.70716384e+00, 2.12145743e-01,\n",
       "        2.57117110e-01, 3.41163717e-01],\n",
       "       [2.68806461e-01, 2.09759111e-01, 1.58925762e-12, 8.25685588e-01,\n",
       "        9.06706634e-01, 3.35375560e-02, 9.32369897e-01, 2.04121657e-01,\n",
       "        9.02676094e-01, 4.64555616e-01, 8.40983740e-01, 2.65954227e-01,\n",
       "        9.75102032e-02, 8.75714051e-01],\n",
       "       [2.09071692e-01, 5.08417747e-01, 1.58925762e-12, 1.14422421e+00,\n",
       "        1.36574317e+00, 5.24234706e-01, 1.22421468e+00, 1.80793830e-01,\n",
       "        1.43424899e+00, 9.63413597e-01, 9.77278299e-01, 1.12484661e+00,\n",
       "        1.07602666e+00, 1.23518277e+00],\n",
       "       [1.49336923e-01, 6.11834773e-01, 1.58925762e-12, 9.22207314e-01,\n",
       "        1.28644980e+00, 1.43807852e+00, 7.01022869e-01, 1.58346511e-01,\n",
       "        6.62347430e-01, 8.94112084e-01, 5.37895230e-01, 2.42498529e+00,\n",
       "        3.89189686e-01, 1.20355520e-01],\n",
       "       [8.96021537e-02, 8.35184988e-01, 1.58925762e-12, 4.51207238e-01,\n",
       "        4.72483699e-01, 8.89270773e-01, 1.75434357e-01, 1.36715642e-01,\n",
       "        2.05034445e-01, 3.11552330e-01, 1.57294160e-02, 4.78136285e-03,\n",
       "        1.61066111e-01, 2.34792546e-01],\n",
       "       [2.98673846e-02, 3.86586622e-01, 1.58925762e-12, 2.84130327e-01,\n",
       "        3.32161659e-01, 5.84416448e-01, 9.32292429e-02, 1.15843909e-01,\n",
       "        4.21386244e-01, 1.13212424e-01, 1.58465509e-01, 1.45314396e-01,\n",
       "        2.81131027e-01, 5.10708028e-01],\n",
       "       [2.98673846e-02, 1.52428878e-01, 1.58925762e-12, 2.68107781e-01,\n",
       "        3.82738033e-01, 5.24234706e-01, 4.84762522e-01, 9.56798310e-02,\n",
       "        2.38115865e-01, 2.91820973e-01, 5.37895230e-01, 5.21220508e-01,\n",
       "        3.26860140e-01, 1.20355520e-01],\n",
       "       [8.96021537e-02, 9.50958480e-01, 1.58925762e-12, 1.09569534e+00,\n",
       "        1.20479696e+00, 1.28963245e+00, 1.75916126e+00, 7.61769905e-02,\n",
       "        1.47152840e+00, 7.36948803e-01, 2.63250235e+00, 5.29569665e-01,\n",
       "        2.52654285e-01, 8.22111115e-02],\n",
       "       [1.49336923e-01, 4.04208399e-01, 1.58925762e-12, 2.52737037e-01,\n",
       "        2.85790429e-01, 5.24234706e-01, 4.87959961e-01, 5.72933934e-02,\n",
       "        7.31737396e-01, 1.99036800e-01, 5.37895230e-01, 1.53368219e+00,\n",
       "        1.62514028e-01, 1.20355520e-01],\n",
       "       [2.09071692e-01, 1.38978250e-01, 1.58925762e-12, 7.73706998e-02,\n",
       "        1.51752996e-01, 1.46602157e+00, 3.06547992e-01, 3.89909233e-02,\n",
       "        2.64744034e-02, 5.69313920e-02, 5.37895230e-01, 3.07274479e-01,\n",
       "        1.64521066e-01, 1.20355520e-01],\n",
       "       [2.68806461e-01, 6.23710187e-01, 1.58925762e-12, 2.00025632e-01,\n",
       "        1.46797763e-01, 5.92868610e-01, 6.55144760e-02, 2.12348780e-02,\n",
       "        1.21317327e-01, 4.10747447e-01, 1.33623924e+00, 2.16339218e-01,\n",
       "        1.67635241e-01, 1.27173092e+00],\n",
       "       [3.28541230e-01, 3.26249468e-01, 1.58925762e-12, 1.37038344e+00,\n",
       "        1.61593103e+00, 1.33002585e+00, 1.34683247e+00, 3.99357385e-03,\n",
       "        1.67227872e+00, 1.01262260e+00, 5.37895230e-01, 1.27313527e+00,\n",
       "        8.31734290e-01, 1.20355520e-01],\n",
       "       [3.88275999e-01, 1.88609610e-01, 1.58925762e-12, 1.02336733e-02,\n",
       "        2.67031526e-02, 3.37667574e-01, 1.33632190e-01, 1.27619946e-02,\n",
       "        1.71026334e-01, 2.12976288e-01, 5.35258678e-01, 1.03565498e-02,\n",
       "        1.00983455e+00, 9.97981788e-01],\n",
       "       [4.48010768e-01, 5.02333838e-01, 1.58925762e-12, 1.73676410e+00,\n",
       "        2.04445329e+00, 1.95272743e+00, 1.64592625e+00, 2.90584482e-02,\n",
       "        1.73361248e+00, 1.64470559e+00, 2.56011420e+00, 1.72678652e+00,\n",
       "        1.19667467e+00, 1.69145684e+00],\n",
       "       [5.07745537e-01, 1.14131241e-01, 1.58925762e-12, 5.09890266e-01,\n",
       "        4.37800306e-01, 8.56838916e-01, 3.67870992e-01, 4.49202774e-02,\n",
       "        2.13775638e-01, 6.18690296e-01, 5.37895230e-01, 4.17178671e-01,\n",
       "        3.22810443e-01, 1.20355520e-01],\n",
       "       [5.67480307e-01, 1.00821325e+00, 1.58925762e-12, 4.62831340e-01,\n",
       "        7.32969178e-01, 5.79136438e-01, 4.92261564e-01, 6.03700641e-02,\n",
       "        9.16935557e-02, 3.18946184e-01, 2.06335728e+00, 1.01023757e+00,\n",
       "        1.20173797e+00, 2.64717088e+00],\n",
       "       [6.27215076e-01, 2.05081407e+00, 5.38516481e+00, 2.41651159e+00,\n",
       "        1.96344142e+00, 3.55218397e+00, 2.19249403e+00, 4.08278826e-01,\n",
       "        1.60803220e+00, 1.98226805e+00, 5.37895230e-01, 2.41462271e+00,\n",
       "        1.03835472e+00, 1.20355520e-01],\n",
       "       [6.86949845e-01, 3.34729211e-01, 1.58925762e-12, 6.70007519e-01,\n",
       "        8.29921691e-01, 5.24234706e-01, 8.24297134e-01, 7.54286747e-02,\n",
       "        1.56944148e-02, 6.44211502e-01, 5.81727439e-01, 7.58944745e-01,\n",
       "        4.16753741e-01, 9.17545050e-01],\n",
       "       [7.46684614e-01, 1.20243448e-01, 1.58925762e-12, 4.66489916e-02,\n",
       "        5.06740620e-02, 1.98817958e-01, 3.96877585e-01, 9.01154294e-02,\n",
       "        4.93355060e-01, 2.21973866e-01, 7.04373406e-01, 4.51252661e-01,\n",
       "        1.31604385e-01, 6.23497399e-01],\n",
       "       [8.06419383e-01, 7.29306101e-01, 1.58925762e-12, 2.07515304e-01,\n",
       "        2.67307695e-01, 5.28776136e-01, 8.93070463e-02, 1.04448252e-01,\n",
       "        8.71839248e-01, 1.20565408e-02, 8.69442292e-01, 3.19262714e-01,\n",
       "        4.48552364e-01, 1.20470635e+00],\n",
       "       [8.66154152e-01, 3.53782695e-01, 1.58925762e-12, 1.02977641e+00,\n",
       "        1.26064202e+00, 5.24234706e-01, 1.12625816e+00, 1.18443800e-01,\n",
       "        6.64575370e-01, 7.58786195e-01, 5.37895230e-01, 1.21241335e+00,\n",
       "        2.78181991e-01, 1.20355520e-01],\n",
       "       [9.25888921e-01, 1.75624911e+00, 1.58925762e-12, 3.28533273e-01,\n",
       "        3.28735656e-01, 5.24234706e-01, 1.75931297e-02, 4.33238432e-01,\n",
       "        8.02321144e-01, 2.15608756e+00, 5.37895230e-01, 4.61270874e-02,\n",
       "        4.98150540e+00, 1.20355520e-01],\n",
       "       [9.85623690e-01, 4.56605478e-01, 1.58925762e-12, 3.31208298e-01,\n",
       "        3.06937538e-01, 7.32688884e-01, 5.13690781e-01, 1.45484063e-01,\n",
       "        1.41377084e+00, 1.12447688e-01, 3.39653058e-01, 2.05015612e-01,\n",
       "        1.74208528e+00, 8.38121743e-01],\n",
       "       [1.04535846e+00, 2.81386869e-01, 1.58925762e-12, 1.70236389e-01,\n",
       "        1.85155453e-01, 3.59539384e-01, 5.18643882e-02, 1.58556750e-01,\n",
       "        2.83645135e-01, 1.81535050e-01, 3.60743313e-01, 1.06206295e-02,\n",
       "        3.35492528e-01, 4.75102584e-01],\n",
       "       [1.10509323e+00, 7.03631061e-01, 1.58925762e-12, 1.67082343e-01,\n",
       "        7.60030981e-01, 2.69989734e-02, 3.47343118e-01, 1.71348283e-01,\n",
       "        5.60757870e-01, 7.23564445e-01, 1.43892634e+00, 1.60018549e+00,\n",
       "        4.62640427e-02, 2.06529295e+00],\n",
       "       [1.16482800e+00, 1.03029286e-01, 1.58925762e-12, 4.68842396e-01,\n",
       "        5.93349316e-02, 8.65015002e-01, 2.86874008e-01, 1.83870500e-01,\n",
       "        7.48123596e-02, 7.66224120e-01, 3.25435567e-01, 1.33550759e+00,\n",
       "        6.28917742e-01, 1.95063645e+00],\n",
       "       [1.22456277e+00, 5.45720938e-01, 1.58925762e-12, 9.11263250e-01,\n",
       "        7.32757007e-01, 1.48527784e+00, 7.04534798e-01, 1.96134509e-01,\n",
       "        2.83605183e-01, 1.23791832e+00, 5.37895230e-01, 8.09672323e-01,\n",
       "        3.17717465e-01, 1.20355520e-01],\n",
       "       [1.28429754e+00, 3.12204598e-01, 1.58925762e-12, 9.56590134e-02,\n",
       "        4.71062274e-01, 2.22514670e-01, 3.84458359e-02, 2.08150743e-01,\n",
       "        2.41962570e-02, 3.54677831e-01, 9.69479751e-01, 1.56870291e+00,\n",
       "        7.39292654e-01, 1.97017499e+00],\n",
       "       [1.34403230e+00, 6.79682152e-01, 1.58925762e-12, 8.04369950e-01,\n",
       "        6.91284354e-01, 8.78870634e-01, 1.36968168e+00, 2.19929016e-01,\n",
       "        4.25185965e-01, 8.40601176e-01, 5.37895230e-01, 6.01606268e-01,\n",
       "        2.67401419e-01, 1.20355520e-01],\n",
       "       [1.40376707e+00, 1.74540182e+00, 1.58925762e-12, 1.92025970e+00,\n",
       "        1.59286755e+00, 2.57628161e+00, 2.50114134e+00, 4.80219424e-01,\n",
       "        1.16126852e+00, 2.59800086e+00, 5.37895230e-01, 2.01986143e+00,\n",
       "        1.34093650e+00, 1.20355520e-01],\n",
       "       [1.46350184e+00, 8.76470342e-02, 1.58925762e-12, 7.17809905e-01,\n",
       "        6.09279944e-01, 2.37173627e-01, 8.19724366e-01, 2.31478570e-01,\n",
       "        3.84914702e-01, 4.56887741e-01, 6.94529978e-01, 5.67988399e-01,\n",
       "        4.08679446e-01, 1.07878475e+00],\n",
       "       [1.52323661e+00, 9.96139760e-01, 1.58925762e-12, 4.81664984e-01,\n",
       "        5.93554820e-01, 5.24234706e-01, 6.66534868e-01, 2.53925888e-01,\n",
       "        6.37722966e-03, 6.51693159e-01, 5.37895230e-01, 4.80482847e-01,\n",
       "        2.07452148e-01, 1.20355520e-01],\n",
       "       [1.58297138e+00, 1.55739656e-01, 1.58925762e-12, 5.87265885e-01,\n",
       "        5.85809808e-01, 7.85659290e-01, 6.03468778e-01, 2.64839650e-01,\n",
       "        8.97825602e-01, 1.31400847e-01, 5.37895230e-01, 2.61834999e-02,\n",
       "        4.28503556e-01, 1.20355520e-01],\n",
       "       [1.64270615e+00, 7.00678714e-01, 1.58925762e-12, 3.33034041e-01,\n",
       "        2.58053216e-01, 5.88416626e-01, 2.15880819e-01, 2.75556757e-01,\n",
       "        6.14355276e-02, 3.12910586e-01, 6.41506702e-02, 4.15743251e-01,\n",
       "        2.03060101e-01, 5.64845863e-01],\n",
       "       [1.70244092e+00, 5.58013399e-01, 1.58925762e-12, 8.82267242e-01,\n",
       "        1.35713224e+00, 1.17031125e+00, 8.91479211e-01, 2.86084171e-01,\n",
       "        5.17296442e-01, 1.01365442e+00, 2.53840420e+00, 1.45887828e+00,\n",
       "        2.98838781e-02, 1.46259286e+00]])"
      ]
     },
     "execution_count": 62,
     "metadata": {},
     "output_type": "execute_result"
    }
   ],
   "source": [
    "from scipy.stats import zscore\n",
    "z=np.abs(zscore(df))\n",
    "z"
   ]
  },
  {
   "cell_type": "code",
   "execution_count": 63,
   "metadata": {},
   "outputs": [
    {
     "name": "stdout",
     "output_type": "stream",
     "text": [
      "(array([ 2,  2,  2,  2,  2,  9, 13, 14, 39, 39, 44], dtype=int64), array([ 1,  3,  8,  9, 12,  7,  7,  2,  2,  5, 12], dtype=int64))\n"
     ]
    }
   ],
   "source": [
    "threshold=3\n",
    "print(np.where(z>3))"
   ]
  },
  {
   "cell_type": "code",
   "execution_count": 64,
   "metadata": {},
   "outputs": [],
   "source": [
    "df_new=df[((z<3).all(axis=1))] #Removing the outliers\n"
   ]
  },
  {
   "cell_type": "code",
   "execution_count": 65,
   "metadata": {},
   "outputs": [
    {
     "data": {
      "text/plain": [
       "(58, 14)"
      ]
     },
     "execution_count": 65,
     "metadata": {},
     "output_type": "execute_result"
    }
   ],
   "source": [
    "df.shape"
   ]
  },
  {
   "cell_type": "code",
   "execution_count": 66,
   "metadata": {},
   "outputs": [
    {
     "data": {
      "text/plain": [
       "(52, 14)"
      ]
     },
     "execution_count": 66,
     "metadata": {},
     "output_type": "execute_result"
    }
   ],
   "source": [
    "df_new.shape"
   ]
  },
  {
   "cell_type": "code",
   "execution_count": 67,
   "metadata": {},
   "outputs": [
    {
     "data": {
      "text/plain": [
       "Index(['Province_State', 'Lat', 'Long_', 'Confirmed', 'Deaths', 'Recovered',\n",
       "       'Active', 'FIPS', 'Incident_Rate', 'People_Tested',\n",
       "       'People_Hospitalized', 'Mortality_Rate', 'Testing_Rate',\n",
       "       'Hospitalization_Rate'],\n",
       "      dtype='object')"
      ]
     },
     "execution_count": 67,
     "metadata": {},
     "output_type": "execute_result"
    }
   ],
   "source": [
    "df_new.columns"
   ]
  },
  {
   "cell_type": "markdown",
   "metadata": {},
   "source": [
    "# Predicting Death cases"
   ]
  },
  {
   "cell_type": "code",
   "execution_count": 68,
   "metadata": {},
   "outputs": [],
   "source": [
    "#Now lets train and test our data. Here our target variable is y i.e Deaths, and our input variables is x"
   ]
  },
  {
   "cell_type": "code",
   "execution_count": 70,
   "metadata": {},
   "outputs": [],
   "source": [
    "df_x=df[['Province_State','Lat','Long_','Confirmed','Recovered','Active','FIPS','Incident_Rate','People_Tested','People_Hospitalized','Mortality_Rate','Testing_Rate','Hospitalization_Rate']]"
   ]
  },
  {
   "cell_type": "code",
   "execution_count": 71,
   "metadata": {},
   "outputs": [],
   "source": [
    "x=df_x"
   ]
  },
  {
   "cell_type": "code",
   "execution_count": 72,
   "metadata": {},
   "outputs": [
    {
     "data": {
      "text/plain": [
       "(58, 13)"
      ]
     },
     "execution_count": 72,
     "metadata": {},
     "output_type": "execute_result"
    }
   ],
   "source": [
    "x.shape"
   ]
  },
  {
   "cell_type": "code",
   "execution_count": 73,
   "metadata": {},
   "outputs": [],
   "source": [
    "y=df[['Deaths']]"
   ]
  },
  {
   "cell_type": "code",
   "execution_count": 74,
   "metadata": {},
   "outputs": [
    {
     "data": {
      "text/plain": [
       "(58, 1)"
      ]
     },
     "execution_count": 74,
     "metadata": {},
     "output_type": "execute_result"
    }
   ],
   "source": [
    "y.shape"
   ]
  },
  {
   "cell_type": "code",
   "execution_count": 54,
   "metadata": {},
   "outputs": [],
   "source": [
    "#Scaling the input variable\n",
    "#Linearregression algorithm requires all features to be on common scale"
   ]
  },
  {
   "cell_type": "code",
   "execution_count": 75,
   "metadata": {},
   "outputs": [],
   "source": [
    "from sklearn.preprocessing import StandardScaler\n",
    "scale = StandardScaler()\n",
    "x = scale.fit_transform(x)"
   ]
  },
  {
   "cell_type": "code",
   "execution_count": 76,
   "metadata": {},
   "outputs": [
    {
     "name": "stdout",
     "output_type": "stream",
     "text": [
      "max r2 score corresponding to 84 is 0.9929224993132307\n"
     ]
    }
   ],
   "source": [
    "from sklearn.metrics import mean_absolute_error\n",
    "from sklearn.metrics import mean_squared_error\n",
    "from sklearn.metrics import r2_score\n",
    "from sklearn import linear_model\n",
    "\n",
    "max_r_score = 0\n",
    "for r_state in range(42,100):\n",
    "    x_train,x_test,y_train,y_test = train_test_split(x,y,random_state=r_state,test_size = 0.20)\n",
    "    regr = linear_model.LinearRegression()\n",
    "    regr.fit(x_train,y_train)\n",
    "    y_pred = regr.predict(x_test)\n",
    "    r2_scr = r2_score(y_test,y_pred)\n",
    "    if r2_scr>max_r_score:\n",
    "        max_r_score = r2_scr\n",
    "        final_r_state = r_state\n",
    "print('max r2 score corresponding to',final_r_state,'is',max_r_score)"
   ]
  },
  {
   "cell_type": "code",
   "execution_count": null,
   "metadata": {},
   "outputs": [],
   "source": [
    "#lets cross validate to avoid over fitting and undefitting of the model"
   ]
  },
  {
   "cell_type": "code",
   "execution_count": 77,
   "metadata": {},
   "outputs": [
    {
     "data": {
      "text/plain": [
       "0.9398345154532043"
      ]
     },
     "execution_count": 77,
     "metadata": {},
     "output_type": "execute_result"
    }
   ],
   "source": [
    "from sklearn.model_selection import cross_val_score\n",
    "cross_val_score(linear_model.LinearRegression(),x,y,cv=10,scoring ='r2').mean()"
   ]
  },
  {
   "cell_type": "code",
   "execution_count": 81,
   "metadata": {},
   "outputs": [],
   "source": [
    "x_train,x_test,y_train,y_test = train_test_split(x,y,random_state = 99,test_size=0.20)\n",
    "lreg = linear_model.LinearRegression()\n",
    "lreg.fit(x_train,y_train)\n",
    "pred = lreg.predict(x_test)"
   ]
  },
  {
   "cell_type": "code",
   "execution_count": 79,
   "metadata": {},
   "outputs": [
    {
     "data": {
      "text/plain": [
       "0.9959937382468861"
      ]
     },
     "execution_count": 79,
     "metadata": {},
     "output_type": "execute_result"
    }
   ],
   "source": [
    "lreg.score(x_train,y_train)"
   ]
  },
  {
   "cell_type": "code",
   "execution_count": 82,
   "metadata": {},
   "outputs": [
    {
     "name": "stdout",
     "output_type": "stream",
     "text": [
      "error\n",
      "Mean squared: 0.28015324879858705\n",
      "Mean Squared error: 0.17631523328620916\n",
      "Root Mean Squared Error: 0.4198990751194972\n",
      "r2 score: 0.9572155745770607\n"
     ]
    }
   ],
   "source": [
    "print('error')\n",
    "print('Mean squared:', mean_absolute_error(y_test,pred))\n",
    "print('Mean Squared error:',mean_squared_error(y_test,pred))\n",
    "print('Root Mean Squared Error:',np.sqrt(mean_squared_error(y_test,pred)))\n",
    "print('r2 score:',r2_score(y_test,y_pred))"
   ]
  },
  {
   "cell_type": "code",
   "execution_count": 84,
   "metadata": {},
   "outputs": [
    {
     "name": "stdout",
     "output_type": "stream",
     "text": [
      "Predictd deaths: [[3.73800924]\n",
      " [4.32390345]\n",
      " [8.5535321 ]\n",
      " [7.48816767]\n",
      " [7.18834049]\n",
      " [2.52057113]\n",
      " [8.97351596]\n",
      " [3.00360137]\n",
      " [5.61825599]\n",
      " [5.95985522]\n",
      " [5.12279093]\n",
      " [6.25539634]]\n",
      "Actual deaths:       Deaths\n",
      "51  4.007333\n",
      "16  4.356709\n",
      "7   8.169053\n",
      "24  7.661056\n",
      "6   7.170120\n",
      "30  2.833213\n",
      "26  8.529319\n",
      "14  1.791759\n",
      "41  5.703782\n",
      "10  6.011267\n",
      "44  4.836282\n",
      "28  6.347389\n"
     ]
    }
   ],
   "source": [
    "#predict the value\n",
    "pred = lreg.predict(x_test)\n",
    "print(\"Predictd deaths:\",pred)\n",
    "print(\"Actual deaths:\",y_test)\n"
   ]
  },
  {
   "cell_type": "code",
   "execution_count": 85,
   "metadata": {},
   "outputs": [
    {
     "data": {
      "text/plain": [
       "array([[3.73800924],\n",
       "       [4.32390345],\n",
       "       [8.5535321 ],\n",
       "       [7.48816767],\n",
       "       [7.18834049],\n",
       "       [2.52057113],\n",
       "       [8.97351596],\n",
       "       [3.00360137],\n",
       "       [5.61825599],\n",
       "       [5.95985522],\n",
       "       [5.12279093],\n",
       "       [6.25539634]])"
      ]
     },
     "execution_count": 85,
     "metadata": {},
     "output_type": "execute_result"
    }
   ],
   "source": [
    "from sklearn.externals import joblib\n",
    "joblib.dump(lreg,'lregsky.obj')\n",
    "lregsky_from_joblib = joblib.load('lregsky.obj')\n",
    "lregsky_from_joblib.predict(x_test)"
   ]
  },
  {
   "cell_type": "markdown",
   "metadata": {},
   "source": [
    "# Predicting Recovered Cases"
   ]
  },
  {
   "cell_type": "code",
   "execution_count": null,
   "metadata": {},
   "outputs": [],
   "source": [
    "#Now lets train and test our data. Here our target variable is y i.e Recovered, and our input variables is x"
   ]
  },
  {
   "cell_type": "code",
   "execution_count": 86,
   "metadata": {},
   "outputs": [],
   "source": [
    "dr_x=df[['Province_State','Lat','Long_','Confirmed','Deaths','Active','FIPS','Incident_Rate','People_Tested','People_Hospitalized','Mortality_Rate','Testing_Rate','Hospitalization_Rate']]"
   ]
  },
  {
   "cell_type": "code",
   "execution_count": 87,
   "metadata": {},
   "outputs": [],
   "source": [
    "x=dr_x"
   ]
  },
  {
   "cell_type": "code",
   "execution_count": 88,
   "metadata": {},
   "outputs": [
    {
     "data": {
      "text/plain": [
       "(58, 13)"
      ]
     },
     "execution_count": 88,
     "metadata": {},
     "output_type": "execute_result"
    }
   ],
   "source": [
    "x.shape"
   ]
  },
  {
   "cell_type": "code",
   "execution_count": 89,
   "metadata": {},
   "outputs": [],
   "source": [
    "y=df[['Recovered']]"
   ]
  },
  {
   "cell_type": "code",
   "execution_count": 90,
   "metadata": {},
   "outputs": [
    {
     "data": {
      "text/plain": [
       "(58, 1)"
      ]
     },
     "execution_count": 90,
     "metadata": {},
     "output_type": "execute_result"
    }
   ],
   "source": [
    "y.shape"
   ]
  },
  {
   "cell_type": "code",
   "execution_count": null,
   "metadata": {},
   "outputs": [],
   "source": [
    "#Scaling the input variable\n",
    "#Linearregression algorithm requires all features to be on common scale"
   ]
  },
  {
   "cell_type": "code",
   "execution_count": 91,
   "metadata": {},
   "outputs": [],
   "source": [
    "from sklearn.preprocessing import StandardScaler\n",
    "scale = StandardScaler()\n",
    "x = scale.fit_transform(x)"
   ]
  },
  {
   "cell_type": "code",
   "execution_count": 92,
   "metadata": {},
   "outputs": [
    {
     "name": "stdout",
     "output_type": "stream",
     "text": [
      "max r2 score corresponding to 61 is 0.8118799145060983\n"
     ]
    }
   ],
   "source": [
    "from sklearn.metrics import mean_absolute_error\n",
    "from sklearn.metrics import mean_squared_error\n",
    "from sklearn.metrics import r2_score\n",
    "from sklearn import linear_model\n",
    "\n",
    "max_r_score = 0\n",
    "for r_state in range(42,100):\n",
    "    x_train,x_test,y_train,y_test = train_test_split(x,y,random_state=r_state,test_size = 0.20)\n",
    "    regr = linear_model.LinearRegression()\n",
    "    regr.fit(x_train,y_train)\n",
    "    y_pred = regr.predict(x_test)\n",
    "    r2_scr = r2_score(y_test,y_pred)\n",
    "    if r2_scr>max_r_score:\n",
    "        max_r_score = r2_scr\n",
    "        final_r_state = r_state\n",
    "print('max r2 score corresponding to',final_r_state,'is',max_r_score)"
   ]
  },
  {
   "cell_type": "code",
   "execution_count": null,
   "metadata": {},
   "outputs": [],
   "source": [
    "#lets cross validate to avoid over fitting and undefitting of the model"
   ]
  },
  {
   "cell_type": "code",
   "execution_count": 93,
   "metadata": {},
   "outputs": [
    {
     "data": {
      "text/plain": [
       "-2.019538825251641"
      ]
     },
     "execution_count": 93,
     "metadata": {},
     "output_type": "execute_result"
    }
   ],
   "source": [
    "from sklearn.model_selection import cross_val_score\n",
    "cross_val_score(linear_model.LinearRegression(),x,y,cv=10,scoring ='r2').mean()"
   ]
  },
  {
   "cell_type": "code",
   "execution_count": 98,
   "metadata": {},
   "outputs": [],
   "source": [
    "x_train,x_test,y_train,y_test = train_test_split(x,y,random_state = 61,test_size=0.20)\n",
    "lreg = linear_model.LinearRegression()\n",
    "lreg.fit(x_train,y_train)\n",
    "y_pred = lreg.predict(x_test)"
   ]
  },
  {
   "cell_type": "code",
   "execution_count": 99,
   "metadata": {},
   "outputs": [
    {
     "data": {
      "text/plain": [
       "0.6921267362438037"
      ]
     },
     "execution_count": 99,
     "metadata": {},
     "output_type": "execute_result"
    }
   ],
   "source": [
    "lreg.score(x_train,y_train)"
   ]
  },
  {
   "cell_type": "code",
   "execution_count": 100,
   "metadata": {},
   "outputs": [
    {
     "name": "stdout",
     "output_type": "stream",
     "text": [
      "error\n",
      "Mean squared: 0.7204933970140818\n",
      "Mean Squared error: 0.7980339534272406\n",
      "Root Mean Squared Error: 0.8933274614760484\n",
      "r2 score: 0.8118799145060983\n"
     ]
    }
   ],
   "source": [
    "print('error')\n",
    "print('Mean squared:', mean_absolute_error(y_test,y_pred))\n",
    "print('Mean Squared error:',mean_squared_error(y_test,y_pred))\n",
    "print('Root Mean Squared Error:',np.sqrt(mean_squared_error(y_test,y_pred)))\n",
    "print('r2 score:',r2_score(y_test,y_pred))"
   ]
  },
  {
   "cell_type": "code",
   "execution_count": 101,
   "metadata": {},
   "outputs": [],
   "source": [
    "#doing gridseach for random forest"
   ]
  },
  {
   "cell_type": "code",
   "execution_count": 102,
   "metadata": {},
   "outputs": [
    {
     "name": "stdout",
     "output_type": "stream",
     "text": [
      "{'criterion': 'mse', 'max_depth': 7, 'max_features': 'sqrt', 'n_estimators': 200, 'random_state': 46}\n",
      "0.23898789852065605\n"
     ]
    }
   ],
   "source": [
    "from sklearn.ensemble import RandomForestRegressor\n",
    "from sklearn.model_selection import GridSearchCV\n",
    "rf = RandomForestRegressor()\n",
    "param_grid = { \n",
    "    'n_estimators': [200, 500],\n",
    "    'max_features': ['auto', 'sqrt', 'log2'],\n",
    "    'max_depth' : [4,5,6,7,8],\n",
    "    'criterion' :['mse', 'mae'],\n",
    "    'random_state' :[42,46,55,58]\n",
    "}\n",
    "\n",
    "gd_sr = GridSearchCV(estimator=rf,\n",
    "                    param_grid=param_grid,\n",
    "                    scoring='r2',cv=5)\n",
    "gd_sr.fit(x,y)\n",
    "\n",
    "best_parameters = gd_sr.best_params_\n",
    "print(best_parameters)\n",
    "best_result = gd_sr.best_score_\n",
    "print(best_result)"
   ]
  },
  {
   "cell_type": "code",
   "execution_count": 104,
   "metadata": {},
   "outputs": [
    {
     "data": {
      "text/plain": [
       "RandomForestRegressor(bootstrap=True, criterion='mse', max_depth=7,\n",
       "                      max_features='sqrt', max_leaf_nodes=None,\n",
       "                      min_impurity_decrease=0.0, min_impurity_split=None,\n",
       "                      min_samples_leaf=1, min_samples_split=2,\n",
       "                      min_weight_fraction_leaf=0.0, n_estimators=200,\n",
       "                      n_jobs=None, oob_score=False, random_state=46, verbose=0,\n",
       "                      warm_start=False)"
      ]
     },
     "execution_count": 104,
     "metadata": {},
     "output_type": "execute_result"
    }
   ],
   "source": [
    "rf=RandomForestRegressor(n_estimators = 200, random_state = 46, max_features = 'sqrt', max_depth = 7, criterion = 'mse')\n",
    "rf.fit(x_train,y_train)"
   ]
  },
  {
   "cell_type": "code",
   "execution_count": 105,
   "metadata": {},
   "outputs": [
    {
     "data": {
      "text/plain": [
       "0.8955131464225239"
      ]
     },
     "execution_count": 105,
     "metadata": {},
     "output_type": "execute_result"
    }
   ],
   "source": [
    "rf.score(x_train,y_train)"
   ]
  },
  {
   "cell_type": "code",
   "execution_count": 112,
   "metadata": {},
   "outputs": [
    {
     "data": {
      "text/plain": [
       "array([7.05100977, 8.75014781, 8.46551274, 7.86975651, 8.60116264,\n",
       "       7.87416854, 6.22631982, 8.64219976, 8.95172439, 7.09682096,\n",
       "       8.78669321, 9.04716265])"
      ]
     },
     "execution_count": 112,
     "metadata": {},
     "output_type": "execute_result"
    }
   ],
   "source": [
    "pred = rf.predict(x_test)\n",
    "pred"
   ]
  },
  {
   "cell_type": "code",
   "execution_count": 113,
   "metadata": {},
   "outputs": [],
   "source": [
    "#lets cross validate to avoid over fitting and undefitting of the model"
   ]
  },
  {
   "cell_type": "code",
   "execution_count": 114,
   "metadata": {},
   "outputs": [
    {
     "data": {
      "text/plain": [
       "-0.11608605057979715"
      ]
     },
     "execution_count": 114,
     "metadata": {},
     "output_type": "execute_result"
    }
   ],
   "source": [
    "cross_val_score(rf,x,y,cv=10,scoring ='r2').mean()"
   ]
  },
  {
   "cell_type": "code",
   "execution_count": 111,
   "metadata": {},
   "outputs": [],
   "source": [
    "#since rf is giving best score,so lets save this model"
   ]
  },
  {
   "cell_type": "code",
   "execution_count": 116,
   "metadata": {},
   "outputs": [
    {
     "data": {
      "text/plain": [
       "array([7.05100977, 8.75014781, 8.46551274, 7.86975651, 8.60116264,\n",
       "       7.87416854, 6.22631982, 8.64219976, 8.95172439, 7.09682096,\n",
       "       8.78669321, 9.04716265])"
      ]
     },
     "execution_count": 116,
     "metadata": {},
     "output_type": "execute_result"
    }
   ],
   "source": [
    "from sklearn.externals import joblib\n",
    "joblib.dump(rf,'rfcovid-19.obj')\n",
    "rf_from_joblib = joblib.load('rfcovid-19.obj')\n",
    "rf_from_joblib.predict(x_test)"
   ]
  },
  {
   "cell_type": "markdown",
   "metadata": {},
   "source": [
    "# 6.Conclusion"
   ]
  },
  {
   "cell_type": "markdown",
   "metadata": {},
   "source": [
    "  1. Deaths:\n",
    "        --people hospitalized, people tested,incident rate,active , confirmed are highly positively correlated with death variable.\n",
    "        \n",
    "    2.Recovered:\n",
    "        --confirmed, death, active, people tested, people hospitalized,confirmed are highly positively correlated with recovered  variable"
   ]
  },
  {
   "cell_type": "raw",
   "metadata": {},
   "source": [
    "--- most racovered cases are between the rane of 0-10000.\n",
    "-- most death cases are between the range of 0-5000.\n",
    "active case mostly between 0-50000 range.\n",
    "---people tested ranges 0-500000\n",
    "-ranges from 0-20000."
   ]
  },
  {
   "cell_type": "raw",
   "metadata": {},
   "source": [
    "Since we can conclude that recovered cases are more than death cases.\n",
    "But the active cases more and its increasing\n",
    "people tested positive are the greatest stating that the speading rate of covid-19 is very fast.\n",
    "People hospitalized is less but deaths cases is more stating that there are people who have covid-19 but not yet tested positive."
   ]
  },
  {
   "cell_type": "code",
   "execution_count": null,
   "metadata": {},
   "outputs": [],
   "source": []
  },
  {
   "cell_type": "code",
   "execution_count": null,
   "metadata": {},
   "outputs": [],
   "source": []
  }
 ],
 "metadata": {
  "kernelspec": {
   "display_name": "Python 3",
   "language": "python",
   "name": "python3"
  },
  "language_info": {
   "codemirror_mode": {
    "name": "ipython",
    "version": 3
   },
   "file_extension": ".py",
   "mimetype": "text/x-python",
   "name": "python",
   "nbconvert_exporter": "python",
   "pygments_lexer": "ipython3",
   "version": "3.7.4"
  }
 },
 "nbformat": 4,
 "nbformat_minor": 2
}
