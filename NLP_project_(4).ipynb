{
 "cells": [
  {
   "cell_type": "code",
   "execution_count": 1,
   "metadata": {},
   "outputs": [],
   "source": [
    "import pandas as pd\n",
    "import numpy as np\n",
    "import seaborn as sns\n",
    "import matplotlib.pyplot as plt\n",
    "from sklearn.preprocessing import LabelEncoder\n",
    "from sklearn.linear_model import LinearRegression\n",
    "from sklearn.metrics import mean_squared_error,mean_absolute_error\n",
    "\n",
    "from sklearn.model_selection import train_test_split\n",
    "import warnings\n",
    "warnings.filterwarnings('ignore')"
   ]
  },
  {
   "cell_type": "code",
   "execution_count": 2,
   "metadata": {},
   "outputs": [
    {
     "data": {
      "text/html": [
       "<div>\n",
       "<style scoped>\n",
       "    .dataframe tbody tr th:only-of-type {\n",
       "        vertical-align: middle;\n",
       "    }\n",
       "\n",
       "    .dataframe tbody tr th {\n",
       "        vertical-align: top;\n",
       "    }\n",
       "\n",
       "    .dataframe thead th {\n",
       "        text-align: right;\n",
       "    }\n",
       "</style>\n",
       "<table border=\"1\" class=\"dataframe\">\n",
       "  <thead>\n",
       "    <tr style=\"text-align: right;\">\n",
       "      <th></th>\n",
       "      <th>Rating</th>\n",
       "      <th>Rev_verify</th>\n",
       "      <th>Review_Date</th>\n",
       "      <th>IC</th>\n",
       "      <th>Prod_meta</th>\n",
       "      <th>Reviewer_Name</th>\n",
       "      <th>Review</th>\n",
       "      <th>Rev_summ</th>\n",
       "      <th>Review_timestamp</th>\n",
       "      <th>Useful</th>\n",
       "      <th>Prod_img</th>\n",
       "    </tr>\n",
       "  </thead>\n",
       "  <tbody>\n",
       "    <tr>\n",
       "      <td>0</td>\n",
       "      <td>5</td>\n",
       "      <td>True</td>\n",
       "      <td>09 1, 2015</td>\n",
       "      <td>B009XD5TPQ</td>\n",
       "      <td>None</td>\n",
       "      <td>Sunny  Zoeller</td>\n",
       "      <td>Bought it for my husband. He's very happy with it</td>\n",
       "      <td>He's very happy with</td>\n",
       "      <td>1441065600</td>\n",
       "      <td>None</td>\n",
       "      <td>None</td>\n",
       "    </tr>\n",
       "    <tr>\n",
       "      <td>1</td>\n",
       "      <td>5</td>\n",
       "      <td>True</td>\n",
       "      <td>01 9, 2016</td>\n",
       "      <td>B016MF3P3K</td>\n",
       "      <td>None</td>\n",
       "      <td>Denise Lesley</td>\n",
       "      <td>Great screen protector.  Doesn't even seem as ...</td>\n",
       "      <td>Five Stars</td>\n",
       "      <td>1452297600</td>\n",
       "      <td>None</td>\n",
       "      <td>None</td>\n",
       "    </tr>\n",
       "    <tr>\n",
       "      <td>2</td>\n",
       "      <td>5</td>\n",
       "      <td>True</td>\n",
       "      <td>04 21, 2013</td>\n",
       "      <td>B008DC8N5G</td>\n",
       "      <td>None</td>\n",
       "      <td>Emir</td>\n",
       "      <td>Saved me lots of money! it's not gorilla glass...</td>\n",
       "      <td>As long as you know how to put it on!</td>\n",
       "      <td>1366502400</td>\n",
       "      <td>None</td>\n",
       "      <td>None</td>\n",
       "    </tr>\n",
       "    <tr>\n",
       "      <td>3</td>\n",
       "      <td>3</td>\n",
       "      <td>True</td>\n",
       "      <td>02 27, 2013</td>\n",
       "      <td>B0089CH3TM</td>\n",
       "      <td>{'Color:': ' Green'}</td>\n",
       "      <td>Alyse</td>\n",
       "      <td>The material and fit is very nice, but the col...</td>\n",
       "      <td>Good case overall</td>\n",
       "      <td>1361923200</td>\n",
       "      <td>3</td>\n",
       "      <td>None</td>\n",
       "    </tr>\n",
       "    <tr>\n",
       "      <td>4</td>\n",
       "      <td>4</td>\n",
       "      <td>True</td>\n",
       "      <td>12 19, 2013</td>\n",
       "      <td>B00AKZWGAC</td>\n",
       "      <td>None</td>\n",
       "      <td>TechGuy</td>\n",
       "      <td>This last me about 3 days till i have to charg...</td>\n",
       "      <td>Awesome Battery</td>\n",
       "      <td>1387411200</td>\n",
       "      <td>None</td>\n",
       "      <td>None</td>\n",
       "    </tr>\n",
       "  </tbody>\n",
       "</table>\n",
       "</div>"
      ],
      "text/plain": [
       "   Rating  Rev_verify  Review_Date          IC             Prod_meta  \\\n",
       "0       5        True   09 1, 2015  B009XD5TPQ                  None   \n",
       "1       5        True   01 9, 2016  B016MF3P3K                  None   \n",
       "2       5        True  04 21, 2013  B008DC8N5G                  None   \n",
       "3       3        True  02 27, 2013  B0089CH3TM  {'Color:': ' Green'}   \n",
       "4       4        True  12 19, 2013  B00AKZWGAC                  None   \n",
       "\n",
       "    Reviewer_Name                                             Review  \\\n",
       "0  Sunny  Zoeller  Bought it for my husband. He's very happy with it   \n",
       "1   Denise Lesley  Great screen protector.  Doesn't even seem as ...   \n",
       "2            Emir  Saved me lots of money! it's not gorilla glass...   \n",
       "3           Alyse  The material and fit is very nice, but the col...   \n",
       "4         TechGuy  This last me about 3 days till i have to charg...   \n",
       "\n",
       "                                Rev_summ  Review_timestamp Useful Prod_img  \n",
       "0                   He's very happy with        1441065600   None     None  \n",
       "1                             Five Stars        1452297600   None     None  \n",
       "2  As long as you know how to put it on!        1366502400   None     None  \n",
       "3                      Good case overall        1361923200      3     None  \n",
       "4                        Awesome Battery        1387411200   None     None  "
      ]
     },
     "execution_count": 2,
     "metadata": {},
     "output_type": "execute_result"
    }
   ],
   "source": [
    "df=pd.read_json('Cell_Phones_and_Accessories.json')\n",
    "df.head(5)"
   ]
  },
  {
   "cell_type": "code",
   "execution_count": 3,
   "metadata": {},
   "outputs": [],
   "source": [
    "df.drop(['Rating','Rev_summ','Rev_verify','Review_Date','Prod_meta','Reviewer_Name','Review_timestamp','Useful','Prod_img'],axis=1,inplace=True)"
   ]
  },
  {
   "cell_type": "code",
   "execution_count": 4,
   "metadata": {},
   "outputs": [
    {
     "data": {
      "text/plain": [
       "IC          0\n",
       "Review    530\n",
       "dtype: int64"
      ]
     },
     "execution_count": 4,
     "metadata": {},
     "output_type": "execute_result"
    }
   ],
   "source": [
    "df.isnull().sum()"
   ]
  },
  {
   "cell_type": "code",
   "execution_count": 5,
   "metadata": {},
   "outputs": [],
   "source": [
    "df['Review'].fillna(df['Review'].mode().values[0],inplace=True)"
   ]
  },
  {
   "cell_type": "code",
   "execution_count": 6,
   "metadata": {},
   "outputs": [
    {
     "data": {
      "text/plain": [
       "IC        0\n",
       "Review    0\n",
       "dtype: int64"
      ]
     },
     "execution_count": 6,
     "metadata": {},
     "output_type": "execute_result"
    }
   ],
   "source": [
    "df.isnull().sum()"
   ]
  },
  {
   "cell_type": "code",
   "execution_count": 7,
   "metadata": {},
   "outputs": [],
   "source": [
    "df['Review'] = df['Review'].apply(lambda x : x+' ')"
   ]
  },
  {
   "cell_type": "code",
   "execution_count": 8,
   "metadata": {},
   "outputs": [
    {
     "data": {
      "text/html": [
       "<div>\n",
       "<style scoped>\n",
       "    .dataframe tbody tr th:only-of-type {\n",
       "        vertical-align: middle;\n",
       "    }\n",
       "\n",
       "    .dataframe tbody tr th {\n",
       "        vertical-align: top;\n",
       "    }\n",
       "\n",
       "    .dataframe thead th {\n",
       "        text-align: right;\n",
       "    }\n",
       "</style>\n",
       "<table border=\"1\" class=\"dataframe\">\n",
       "  <thead>\n",
       "    <tr style=\"text-align: right;\">\n",
       "      <th></th>\n",
       "      <th>IC</th>\n",
       "      <th>Review</th>\n",
       "    </tr>\n",
       "  </thead>\n",
       "  <tbody>\n",
       "    <tr>\n",
       "      <td>0</td>\n",
       "      <td>B009XD5TPQ</td>\n",
       "      <td>Bought it for my husband. He's very happy with...</td>\n",
       "    </tr>\n",
       "    <tr>\n",
       "      <td>1</td>\n",
       "      <td>B016MF3P3K</td>\n",
       "      <td>Great screen protector.  Doesn't even seem as ...</td>\n",
       "    </tr>\n",
       "    <tr>\n",
       "      <td>2</td>\n",
       "      <td>B008DC8N5G</td>\n",
       "      <td>Saved me lots of money! it's not gorilla glass...</td>\n",
       "    </tr>\n",
       "    <tr>\n",
       "      <td>3</td>\n",
       "      <td>B0089CH3TM</td>\n",
       "      <td>The material and fit is very nice, but the col...</td>\n",
       "    </tr>\n",
       "    <tr>\n",
       "      <td>4</td>\n",
       "      <td>B00AKZWGAC</td>\n",
       "      <td>This last me about 3 days till i have to charg...</td>\n",
       "    </tr>\n",
       "    <tr>\n",
       "      <td>...</td>\n",
       "      <td>...</td>\n",
       "      <td>...</td>\n",
       "    </tr>\n",
       "    <tr>\n",
       "      <td>760445</td>\n",
       "      <td>B00C3V9M8A</td>\n",
       "      <td>Very good</td>\n",
       "    </tr>\n",
       "    <tr>\n",
       "      <td>760446</td>\n",
       "      <td>B0178BYS24</td>\n",
       "      <td>My name is Cynthia Beard and I believe that th...</td>\n",
       "    </tr>\n",
       "    <tr>\n",
       "      <td>760447</td>\n",
       "      <td>B009KY47CE</td>\n",
       "      <td>This iphone case is very durable and long last...</td>\n",
       "    </tr>\n",
       "    <tr>\n",
       "      <td>760448</td>\n",
       "      <td>B00X60AYDY</td>\n",
       "      <td>great</td>\n",
       "    </tr>\n",
       "    <tr>\n",
       "      <td>760449</td>\n",
       "      <td>B00QLD3YTO</td>\n",
       "      <td>So so, it did not look like the picture advert...</td>\n",
       "    </tr>\n",
       "  </tbody>\n",
       "</table>\n",
       "<p>760450 rows × 2 columns</p>\n",
       "</div>"
      ],
      "text/plain": [
       "                IC                                             Review\n",
       "0       B009XD5TPQ  Bought it for my husband. He's very happy with...\n",
       "1       B016MF3P3K  Great screen protector.  Doesn't even seem as ...\n",
       "2       B008DC8N5G  Saved me lots of money! it's not gorilla glass...\n",
       "3       B0089CH3TM  The material and fit is very nice, but the col...\n",
       "4       B00AKZWGAC  This last me about 3 days till i have to charg...\n",
       "...            ...                                                ...\n",
       "760445  B00C3V9M8A                                         Very good \n",
       "760446  B0178BYS24  My name is Cynthia Beard and I believe that th...\n",
       "760447  B009KY47CE  This iphone case is very durable and long last...\n",
       "760448  B00X60AYDY                                             great \n",
       "760449  B00QLD3YTO  So so, it did not look like the picture advert...\n",
       "\n",
       "[760450 rows x 2 columns]"
      ]
     },
     "execution_count": 8,
     "metadata": {},
     "output_type": "execute_result"
    }
   ],
   "source": [
    "df"
   ]
  },
  {
   "cell_type": "code",
   "execution_count": 9,
   "metadata": {},
   "outputs": [],
   "source": [
    "df=df.groupby(by = ['IC']).sum()"
   ]
  },
  {
   "cell_type": "code",
   "execution_count": 10,
   "metadata": {},
   "outputs": [
    {
     "data": {
      "text/html": [
       "<div>\n",
       "<style scoped>\n",
       "    .dataframe tbody tr th:only-of-type {\n",
       "        vertical-align: middle;\n",
       "    }\n",
       "\n",
       "    .dataframe tbody tr th {\n",
       "        vertical-align: top;\n",
       "    }\n",
       "\n",
       "    .dataframe thead th {\n",
       "        text-align: right;\n",
       "    }\n",
       "</style>\n",
       "<table border=\"1\" class=\"dataframe\">\n",
       "  <thead>\n",
       "    <tr style=\"text-align: right;\">\n",
       "      <th></th>\n",
       "      <th>Review</th>\n",
       "    </tr>\n",
       "    <tr>\n",
       "      <th>IC</th>\n",
       "      <th></th>\n",
       "    </tr>\n",
       "  </thead>\n",
       "  <tbody>\n",
       "    <tr>\n",
       "      <td>7508492919</td>\n",
       "      <td>It is such a good case for a low price. I have...</td>\n",
       "    </tr>\n",
       "    <tr>\n",
       "      <td>7532385086</td>\n",
       "      <td>I was very excited when I first got this case....</td>\n",
       "    </tr>\n",
       "    <tr>\n",
       "      <td>7887421268</td>\n",
       "      <td>Good item Received this in about a weeks time....</td>\n",
       "    </tr>\n",
       "    <tr>\n",
       "      <td>8199900164</td>\n",
       "      <td>thank you. Works some of the time.  The charge...</td>\n",
       "    </tr>\n",
       "    <tr>\n",
       "      <td>8288853439</td>\n",
       "      <td>Great ! So far.\\nI had this charger before and...</td>\n",
       "    </tr>\n",
       "    <tr>\n",
       "      <td>...</td>\n",
       "      <td>...</td>\n",
       "    </tr>\n",
       "    <tr>\n",
       "      <td>B01HJBS5C2</td>\n",
       "      <td>Strong, protective but slim and light. I am al...</td>\n",
       "    </tr>\n",
       "    <tr>\n",
       "      <td>B01HJC7N4C</td>\n",
       "      <td>my sons likes it. For the price it isn't too b...</td>\n",
       "    </tr>\n",
       "    <tr>\n",
       "      <td>B01HJCN1UC</td>\n",
       "      <td>great thanks good cable. just be sure to know ...</td>\n",
       "    </tr>\n",
       "    <tr>\n",
       "      <td>B01HJCN55I</td>\n",
       "      <td>Received the cable in two days and it's the be...</td>\n",
       "    </tr>\n",
       "    <tr>\n",
       "      <td>B01HJH9IN6</td>\n",
       "      <td>Just received it and it's VERY thin. No need t...</td>\n",
       "    </tr>\n",
       "  </tbody>\n",
       "</table>\n",
       "<p>48134 rows × 1 columns</p>\n",
       "</div>"
      ],
      "text/plain": [
       "                                                       Review\n",
       "IC                                                           \n",
       "7508492919  It is such a good case for a low price. I have...\n",
       "7532385086  I was very excited when I first got this case....\n",
       "7887421268  Good item Received this in about a weeks time....\n",
       "8199900164  thank you. Works some of the time.  The charge...\n",
       "8288853439  Great ! So far.\\nI had this charger before and...\n",
       "...                                                       ...\n",
       "B01HJBS5C2  Strong, protective but slim and light. I am al...\n",
       "B01HJC7N4C  my sons likes it. For the price it isn't too b...\n",
       "B01HJCN1UC  great thanks good cable. just be sure to know ...\n",
       "B01HJCN55I  Received the cable in two days and it's the be...\n",
       "B01HJH9IN6  Just received it and it's VERY thin. No need t...\n",
       "\n",
       "[48134 rows x 1 columns]"
      ]
     },
     "execution_count": 10,
     "metadata": {},
     "output_type": "execute_result"
    }
   ],
   "source": [
    "df"
   ]
  },
  {
   "cell_type": "code",
   "execution_count": 11,
   "metadata": {},
   "outputs": [],
   "source": [
    "for columns in df.columns:\n",
    "    df[columns] = df[columns].str.lower()"
   ]
  },
  {
   "cell_type": "code",
   "execution_count": 12,
   "metadata": {},
   "outputs": [],
   "source": [
    "df['Review'] = df['Review'].str.replace(r'[^\\w\\d\\s]', ' ')\n",
    "df['Review'] = df['Review'].str.replace(\"\\n\", ' ')\n",
    "# Replace whitespace between terms with a single space\n",
    "df['Review'] = df['Review'].str.replace(r'\\s+', ' ')\n",
    "# Remove leading and trailing whitespace\n",
    "df['Review'] =df['Review'].str.replace(r'^\\s+|\\s+?$', '')"
   ]
  },
  {
   "cell_type": "code",
   "execution_count": 13,
   "metadata": {},
   "outputs": [],
   "source": [
    "#move stopwords\n",
    "import string\n",
    "import nltk\n",
    "from nltk.corpus import  stopwords\n",
    "\n",
    "stop_words = set(stopwords.words('english') + ['u', 'ü', 'ur', '4', '2', 'im', 'dont', 'doin', 'ure'])\n",
    "\n",
    "df['Review'] = df['Review'].apply(lambda x: ' '.join(\n",
    "    term for term in x.split() if term not in stop_words))"
   ]
  },
  {
   "cell_type": "code",
   "execution_count": 14,
   "metadata": {},
   "outputs": [
    {
     "name": "stderr",
     "output_type": "stream",
     "text": [
      "[nltk_data] Downloading package vader_lexicon to C:\\Users\\RIA\n",
      "[nltk_data]     MAITRA\\AppData\\Roaming\\nltk_data...\n",
      "[nltk_data]   Package vader_lexicon is already up-to-date!\n"
     ]
    }
   ],
   "source": [
    "from collections import Counter\n",
    "from nltk.corpus import stopwords\n",
    "\n",
    "from nltk.sentiment.vader import SentimentIntensityAnalyzer\n",
    "\n",
    "from nltk.stem import WordNetLemmatizer\n",
    "\n",
    "from nltk.tokenize import word_tokenize\n",
    "\n",
    "import nltk\n",
    "nltk.download('vader_lexicon')\n",
    "import warnings\n",
    "warnings.filterwarnings('ignore')"
   ]
  },
  {
   "cell_type": "code",
   "execution_count": 15,
   "metadata": {},
   "outputs": [],
   "source": [
    "df['Review']=df.apply(lambda row: nltk.word_tokenize(row['Review']),axis=1)"
   ]
  },
  {
   "cell_type": "code",
   "execution_count": 16,
   "metadata": {},
   "outputs": [
    {
     "name": "stdout",
     "output_type": "stream",
     "text": [
      "Requirement already satisfied: gensim in c:\\users\\ria maitra\\anaconda3\\lib\\site-packages (3.8.3)\n",
      "Requirement already satisfied: Cython==0.29.14 in c:\\users\\ria maitra\\anaconda3\\lib\\site-packages (from gensim) (0.29.14)\n",
      "Requirement already satisfied: smart-open>=1.8.1 in c:\\users\\ria maitra\\anaconda3\\lib\\site-packages (from gensim) (2.1.1)\n",
      "Requirement already satisfied: scipy>=0.18.1 in c:\\users\\ria maitra\\anaconda3\\lib\\site-packages (from gensim) (1.3.1)\n",
      "Requirement already satisfied: numpy>=1.11.3 in c:\\users\\ria maitra\\anaconda3\\lib\\site-packages (from gensim) (1.16.5)\n",
      "Requirement already satisfied: six>=1.5.0 in c:\\users\\ria maitra\\anaconda3\\lib\\site-packages (from gensim) (1.12.0)\n",
      "Requirement already satisfied: boto in c:\\users\\ria maitra\\anaconda3\\lib\\site-packages (from smart-open>=1.8.1->gensim) (2.49.0)\n",
      "Requirement already satisfied: requests in c:\\users\\ria maitra\\anaconda3\\lib\\site-packages (from smart-open>=1.8.1->gensim) (2.22.0)\n",
      "Requirement already satisfied: boto3 in c:\\users\\ria maitra\\anaconda3\\lib\\site-packages (from smart-open>=1.8.1->gensim) (1.14.53)\n",
      "Requirement already satisfied: idna<2.9,>=2.5 in c:\\users\\ria maitra\\anaconda3\\lib\\site-packages (from requests->smart-open>=1.8.1->gensim) (2.8)\n",
      "Requirement already satisfied: certifi>=2017.4.17 in c:\\users\\ria maitra\\anaconda3\\lib\\site-packages (from requests->smart-open>=1.8.1->gensim) (2019.9.11)\n",
      "Requirement already satisfied: urllib3!=1.25.0,!=1.25.1,<1.26,>=1.21.1 in c:\\users\\ria maitra\\anaconda3\\lib\\site-packages (from requests->smart-open>=1.8.1->gensim) (1.24.2)\n",
      "Requirement already satisfied: chardet<3.1.0,>=3.0.2 in c:\\users\\ria maitra\\anaconda3\\lib\\site-packages (from requests->smart-open>=1.8.1->gensim) (3.0.4)\n",
      "Requirement already satisfied: botocore<1.18.0,>=1.17.53 in c:\\users\\ria maitra\\anaconda3\\lib\\site-packages (from boto3->smart-open>=1.8.1->gensim) (1.17.53)\n",
      "Requirement already satisfied: jmespath<1.0.0,>=0.7.1 in c:\\users\\ria maitra\\anaconda3\\lib\\site-packages (from boto3->smart-open>=1.8.1->gensim) (0.10.0)\n",
      "Requirement already satisfied: s3transfer<0.4.0,>=0.3.0 in c:\\users\\ria maitra\\anaconda3\\lib\\site-packages (from boto3->smart-open>=1.8.1->gensim) (0.3.3)\n",
      "Requirement already satisfied: python-dateutil<3.0.0,>=2.1 in c:\\users\\ria maitra\\anaconda3\\lib\\site-packages (from botocore<1.18.0,>=1.17.53->boto3->smart-open>=1.8.1->gensim) (2.8.0)\n",
      "Requirement already satisfied: docutils<0.16,>=0.10 in c:\\users\\ria maitra\\anaconda3\\lib\\site-packages (from botocore<1.18.0,>=1.17.53->boto3->smart-open>=1.8.1->gensim) (0.15.2)\n"
     ]
    }
   ],
   "source": [
    "!pip install gensim\n",
    "import gensim\n",
    "\n",
    "# Converts into tokens (Alternative to word_tokenize)\n",
    "from gensim.utils import simple_preprocess\n",
    "\n",
    "from gensim.parsing.preprocessing import STOPWORDS\n",
    "\n",
    "from nltk.stem import WordNetLemmatizer, SnowballStemmer\n",
    "#from nltk.stem import *\n",
    "import numpy as np\n",
    "np.random.seed(400)"
   ]
  },
  {
   "cell_type": "code",
   "execution_count": 17,
   "metadata": {},
   "outputs": [],
   "source": [
    "from gensim import corpora\n",
    "dictionary= corpora.Dictionary(df['Review'])"
   ]
  },
  {
   "cell_type": "code",
   "execution_count": 18,
   "metadata": {},
   "outputs": [
    {
     "name": "stdout",
     "output_type": "stream",
     "text": [
      "Dictionary(107984 unique tokens: ['1', '3', '3d', '4s', '5c']...)\n"
     ]
    }
   ],
   "source": [
    "print(dictionary)"
   ]
  },
  {
   "cell_type": "code",
   "execution_count": 19,
   "metadata": {},
   "outputs": [
    {
     "data": {
      "text/html": [
       "<div>\n",
       "<style scoped>\n",
       "    .dataframe tbody tr th:only-of-type {\n",
       "        vertical-align: middle;\n",
       "    }\n",
       "\n",
       "    .dataframe tbody tr th {\n",
       "        vertical-align: top;\n",
       "    }\n",
       "\n",
       "    .dataframe thead th {\n",
       "        text-align: right;\n",
       "    }\n",
       "</style>\n",
       "<table border=\"1\" class=\"dataframe\">\n",
       "  <thead>\n",
       "    <tr style=\"text-align: right;\">\n",
       "      <th></th>\n",
       "      <th>Review</th>\n",
       "    </tr>\n",
       "    <tr>\n",
       "      <th>IC</th>\n",
       "      <th></th>\n",
       "    </tr>\n",
       "  </thead>\n",
       "  <tbody>\n",
       "    <tr>\n",
       "      <td>7508492919</td>\n",
       "      <td>[good, case, low, price, right, never, problem...</td>\n",
       "    </tr>\n",
       "    <tr>\n",
       "      <td>7532385086</td>\n",
       "      <td>[excited, first, got, case, loved, color, feel...</td>\n",
       "    </tr>\n",
       "    <tr>\n",
       "      <td>7887421268</td>\n",
       "      <td>[good, item, received, weeks, time, nice, actu...</td>\n",
       "    </tr>\n",
       "    <tr>\n",
       "      <td>8199900164</td>\n",
       "      <td>[thank, works, time, charger, stopped, working...</td>\n",
       "    </tr>\n",
       "    <tr>\n",
       "      <td>8288853439</td>\n",
       "      <td>[great, far, charger, seem, last, pretty, good...</td>\n",
       "    </tr>\n",
       "    <tr>\n",
       "      <td>...</td>\n",
       "      <td>...</td>\n",
       "    </tr>\n",
       "    <tr>\n",
       "      <td>B01HJBS5C2</td>\n",
       "      <td>[strong, protective, slim, light, already, ord...</td>\n",
       "    </tr>\n",
       "    <tr>\n",
       "      <td>B01HJC7N4C</td>\n",
       "      <td>[sons, likes, price, bad, recently, received, ...</td>\n",
       "    </tr>\n",
       "    <tr>\n",
       "      <td>B01HJCN1UC</td>\n",
       "      <td>[great, thanks, good, cable, sure, know, lengt...</td>\n",
       "    </tr>\n",
       "    <tr>\n",
       "      <td>B01HJCN55I</td>\n",
       "      <td>[received, cable, two, days, best, 10ft, cable...</td>\n",
       "    </tr>\n",
       "    <tr>\n",
       "      <td>B01HJH9IN6</td>\n",
       "      <td>[received, thin, need, put, max, protection, p...</td>\n",
       "    </tr>\n",
       "  </tbody>\n",
       "</table>\n",
       "<p>48134 rows × 1 columns</p>\n",
       "</div>"
      ],
      "text/plain": [
       "                                                       Review\n",
       "IC                                                           \n",
       "7508492919  [good, case, low, price, right, never, problem...\n",
       "7532385086  [excited, first, got, case, loved, color, feel...\n",
       "7887421268  [good, item, received, weeks, time, nice, actu...\n",
       "8199900164  [thank, works, time, charger, stopped, working...\n",
       "8288853439  [great, far, charger, seem, last, pretty, good...\n",
       "...                                                       ...\n",
       "B01HJBS5C2  [strong, protective, slim, light, already, ord...\n",
       "B01HJC7N4C  [sons, likes, price, bad, recently, received, ...\n",
       "B01HJCN1UC  [great, thanks, good, cable, sure, know, lengt...\n",
       "B01HJCN55I  [received, cable, two, days, best, 10ft, cable...\n",
       "B01HJH9IN6  [received, thin, need, put, max, protection, p...\n",
       "\n",
       "[48134 rows x 1 columns]"
      ]
     },
     "execution_count": 19,
     "metadata": {},
     "output_type": "execute_result"
    }
   ],
   "source": [
    "df"
   ]
  },
  {
   "cell_type": "code",
   "execution_count": 20,
   "metadata": {},
   "outputs": [],
   "source": [
    "dictionary.filter_extremes(no_below=15,no_above=0.1,keep_n=200000)"
   ]
  },
  {
   "cell_type": "code",
   "execution_count": 21,
   "metadata": {},
   "outputs": [
    {
     "name": "stdout",
     "output_type": "stream",
     "text": [
      "Dictionary(15754 unique tokens: ['3d', '4s', '5c', 'amazed', 'ans']...)\n"
     ]
    }
   ],
   "source": [
    "print(dictionary)"
   ]
  },
  {
   "cell_type": "code",
   "execution_count": 22,
   "metadata": {},
   "outputs": [],
   "source": [
    "df['bow_corpus'] = df['Review'].map(dictionary.doc2bow)"
   ]
  },
  {
   "cell_type": "code",
   "execution_count": 23,
   "metadata": {},
   "outputs": [],
   "source": [
    "lda_model =  gensim.models.LdaMulticore(df['bow_corpus'], \n",
    "                                   num_topics = 2, \n",
    "                                   id2word = dictionary,                                    \n",
    "                                   passes = 10,\n",
    "                                   workers = 2)"
   ]
  },
  {
   "cell_type": "code",
   "execution_count": 37,
   "metadata": {},
   "outputs": [
    {
     "name": "stdout",
     "output_type": "stream",
     "text": [
      "Topic: 0 \n",
      "Words: 0.007*\"watch\" + 0.005*\"band\" + 0.004*\"bubbles\" + 0.004*\"cards\" + 0.004*\"tempered\" + 0.004*\"s7\" + 0.004*\"wallet\" + 0.003*\"leather\" + 0.003*\"belt\" + 0.003*\"holster\"\n",
      "\n",
      "\n",
      "Topic: 1 \n",
      "Words: 0.007*\"cables\" + 0.006*\"mount\" + 0.005*\"cord\" + 0.005*\"charged\" + 0.004*\"anker\" + 0.004*\"images\" + 0.004*\"unit\" + 0.003*\"chargers\" + 0.003*\"bluetooth\" + 0.003*\"android\"\n",
      "\n",
      "\n"
     ]
    }
   ],
   "source": [
    "for idx, topic in lda_model.print_topics():\n",
    "    print(\"Topic: {} \\nWords: {}\".format(idx, topic ))\n",
    "    print(\"\\n\")"
   ]
  },
  {
   "cell_type": "code",
   "execution_count": 26,
   "metadata": {},
   "outputs": [
    {
     "name": "stdout",
     "output_type": "stream",
     "text": [
      "Score: 0.9965626001358032\t Topic: 0.007*\"watch\" + 0.005*\"band\" + 0.004*\"bubbles\" + 0.004*\"cards\" + 0.004*\"tempered\" + 0.004*\"s7\" + 0.004*\"wallet\" + 0.003*\"leather\" + 0.003*\"belt\" + 0.003*\"holster\" + 0.003*\"spigen\" + 0.003*\"gold\" + 0.003*\"apply\" + 0.003*\"installation\" + 0.003*\"6s\" + 0.003*\"water\" + 0.002*\"corners\" + 0.002*\"magnet\" + 0.002*\"kickstand\" + 0.002*\"credit\" + 0.002*\"slippery\" + 0.002*\"air\" + 0.002*\"bumper\" + 0.002*\"discounted\" + 0.002*\"film\" + 0.002*\"please\" + 0.002*\"tpu\" + 0.002*\"magnetic\" + 0.002*\"offers\" + 0.002*\"metal\"\n"
     ]
    }
   ],
   "source": [
    "for index, score in sorted(lda_model[df['bow_corpus'][0]]):\n",
    "    print(\"Score: {}\\t Topic: {}\".format(score, lda_model.print_topic(index, 30)))"
   ]
  },
  {
   "cell_type": "code",
   "execution_count": 27,
   "metadata": {},
   "outputs": [
    {
     "name": "stdout",
     "output_type": "stream",
     "text": [
      "Score: 0.968845009803772\t Topic: 0.007*\"watch\" + 0.005*\"band\" + 0.004*\"bubbles\" + 0.004*\"cards\" + 0.004*\"tempered\" + 0.004*\"s7\" + 0.004*\"wallet\" + 0.003*\"leather\" + 0.003*\"belt\" + 0.003*\"holster\" + 0.003*\"spigen\" + 0.003*\"gold\" + 0.003*\"apply\" + 0.003*\"installation\" + 0.003*\"6s\" + 0.003*\"water\" + 0.002*\"corners\" + 0.002*\"magnet\" + 0.002*\"kickstand\" + 0.002*\"credit\" + 0.002*\"slippery\" + 0.002*\"air\" + 0.002*\"bumper\" + 0.002*\"discounted\" + 0.002*\"film\" + 0.002*\"please\" + 0.002*\"tpu\" + 0.002*\"magnetic\" + 0.002*\"offers\" + 0.002*\"metal\"\n",
      "Score: 0.031154992058873177\t Topic: 0.007*\"cables\" + 0.006*\"mount\" + 0.005*\"cord\" + 0.005*\"charged\" + 0.004*\"anker\" + 0.004*\"images\" + 0.004*\"unit\" + 0.003*\"chargers\" + 0.003*\"bluetooth\" + 0.003*\"android\" + 0.003*\"wireless\" + 0.003*\"micro\" + 0.003*\"sound\" + 0.003*\"0\" + 0.003*\"ipad\" + 0.003*\"tablet\" + 0.003*\"pack\" + 0.003*\"wall\" + 0.003*\"class\" + 0.003*\"apps\" + 0.002*\"data\" + 0.002*\"plugged\" + 0.002*\"nexus\" + 0.002*\"c\" + 0.002*\"adapter\" + 0.002*\"bank\" + 0.002*\"holder\" + 0.002*\"sim\" + 0.002*\"app\" + 0.002*\"cords\"\n"
     ]
    }
   ],
   "source": [
    "for index, score in sorted(lda_model[df['bow_corpus'][1]]):\n",
    "    print(\"Score: {}\\t Topic: {}\".format(score, lda_model.print_topic(index, 30)))"
   ]
  },
  {
   "cell_type": "code",
   "execution_count": 36,
   "metadata": {},
   "outputs": [
    {
     "ename": "IndexError",
     "evalue": "only integers, slices (`:`), ellipsis (`...`), numpy.newaxis (`None`) and integer or boolean arrays are valid indices",
     "output_type": "error",
     "traceback": [
      "\u001b[1;31m---------------------------------------------------------------------------\u001b[0m",
      "\u001b[1;31mIndexError\u001b[0m                                Traceback (most recent call last)",
      "\u001b[1;32m<ipython-input-36-3618dcfa8d5e>\u001b[0m in \u001b[0;36m<module>\u001b[1;34m\u001b[0m\n\u001b[0;32m      1\u001b[0m \u001b[1;32mfor\u001b[0m \u001b[0mindex\u001b[0m\u001b[1;33m,\u001b[0m \u001b[0mscore\u001b[0m \u001b[1;32min\u001b[0m \u001b[0msorted\u001b[0m\u001b[1;33m(\u001b[0m\u001b[0mlda_model\u001b[0m\u001b[1;33m[\u001b[0m\u001b[0mdf\u001b[0m\u001b[1;33m[\u001b[0m\u001b[1;34m'bow_corpus'\u001b[0m\u001b[1;33m]\u001b[0m\u001b[1;33m]\u001b[0m\u001b[1;33m)\u001b[0m\u001b[1;33m:\u001b[0m\u001b[1;33m\u001b[0m\u001b[1;33m\u001b[0m\u001b[0m\n\u001b[1;32m----> 2\u001b[1;33m        \u001b[0mprint\u001b[0m\u001b[1;33m(\u001b[0m\u001b[1;34m\"Score: {}\\t Topic: {}\"\u001b[0m\u001b[1;33m.\u001b[0m\u001b[0mformat\u001b[0m\u001b[1;33m(\u001b[0m\u001b[0mscore\u001b[0m\u001b[1;33m,\u001b[0m \u001b[0mlda_model\u001b[0m\u001b[1;33m.\u001b[0m\u001b[0mprint_topic\u001b[0m\u001b[1;33m(\u001b[0m\u001b[0mindex\u001b[0m\u001b[1;33m,\u001b[0m \u001b[1;36m30\u001b[0m\u001b[1;33m)\u001b[0m\u001b[1;33m)\u001b[0m\u001b[1;33m)\u001b[0m\u001b[1;33m\u001b[0m\u001b[1;33m\u001b[0m\u001b[0m\n\u001b[0m",
      "\u001b[1;32m~\\Anaconda3\\lib\\site-packages\\gensim\\models\\basemodel.py\u001b[0m in \u001b[0;36mprint_topic\u001b[1;34m(self, topicno, topn)\u001b[0m\n\u001b[0;32m     16\u001b[0m \u001b[1;33m\u001b[0m\u001b[0m\n\u001b[0;32m     17\u001b[0m         \"\"\"\n\u001b[1;32m---> 18\u001b[1;33m         \u001b[1;32mreturn\u001b[0m \u001b[1;34m' + '\u001b[0m\u001b[1;33m.\u001b[0m\u001b[0mjoin\u001b[0m\u001b[1;33m(\u001b[0m\u001b[1;34m'%.3f*\"%s\"'\u001b[0m \u001b[1;33m%\u001b[0m \u001b[1;33m(\u001b[0m\u001b[0mv\u001b[0m\u001b[1;33m,\u001b[0m \u001b[0mk\u001b[0m\u001b[1;33m)\u001b[0m \u001b[1;32mfor\u001b[0m \u001b[0mk\u001b[0m\u001b[1;33m,\u001b[0m \u001b[0mv\u001b[0m \u001b[1;32min\u001b[0m \u001b[0mself\u001b[0m\u001b[1;33m.\u001b[0m\u001b[0mshow_topic\u001b[0m\u001b[1;33m(\u001b[0m\u001b[0mtopicno\u001b[0m\u001b[1;33m,\u001b[0m \u001b[0mtopn\u001b[0m\u001b[1;33m)\u001b[0m\u001b[1;33m)\u001b[0m\u001b[1;33m\u001b[0m\u001b[1;33m\u001b[0m\u001b[0m\n\u001b[0m\u001b[0;32m     19\u001b[0m \u001b[1;33m\u001b[0m\u001b[0m\n\u001b[0;32m     20\u001b[0m     \u001b[1;32mdef\u001b[0m \u001b[0mprint_topics\u001b[0m\u001b[1;33m(\u001b[0m\u001b[0mself\u001b[0m\u001b[1;33m,\u001b[0m \u001b[0mnum_topics\u001b[0m\u001b[1;33m=\u001b[0m\u001b[1;36m20\u001b[0m\u001b[1;33m,\u001b[0m \u001b[0mnum_words\u001b[0m\u001b[1;33m=\u001b[0m\u001b[1;36m10\u001b[0m\u001b[1;33m)\u001b[0m\u001b[1;33m:\u001b[0m\u001b[1;33m\u001b[0m\u001b[1;33m\u001b[0m\u001b[0m\n",
      "\u001b[1;32m~\\Anaconda3\\lib\\site-packages\\gensim\\models\\ldamodel.py\u001b[0m in \u001b[0;36mshow_topic\u001b[1;34m(self, topicid, topn)\u001b[0m\n\u001b[0;32m   1190\u001b[0m \u001b[1;33m\u001b[0m\u001b[0m\n\u001b[0;32m   1191\u001b[0m         \"\"\"\n\u001b[1;32m-> 1192\u001b[1;33m         \u001b[1;32mreturn\u001b[0m \u001b[1;33m[\u001b[0m\u001b[1;33m(\u001b[0m\u001b[0mself\u001b[0m\u001b[1;33m.\u001b[0m\u001b[0mid2word\u001b[0m\u001b[1;33m[\u001b[0m\u001b[0mid\u001b[0m\u001b[1;33m]\u001b[0m\u001b[1;33m,\u001b[0m \u001b[0mvalue\u001b[0m\u001b[1;33m)\u001b[0m \u001b[1;32mfor\u001b[0m \u001b[0mid\u001b[0m\u001b[1;33m,\u001b[0m \u001b[0mvalue\u001b[0m \u001b[1;32min\u001b[0m \u001b[0mself\u001b[0m\u001b[1;33m.\u001b[0m\u001b[0mget_topic_terms\u001b[0m\u001b[1;33m(\u001b[0m\u001b[0mtopicid\u001b[0m\u001b[1;33m,\u001b[0m \u001b[0mtopn\u001b[0m\u001b[1;33m)\u001b[0m\u001b[1;33m]\u001b[0m\u001b[1;33m\u001b[0m\u001b[1;33m\u001b[0m\u001b[0m\n\u001b[0m\u001b[0;32m   1193\u001b[0m \u001b[1;33m\u001b[0m\u001b[0m\n\u001b[0;32m   1194\u001b[0m     \u001b[1;32mdef\u001b[0m \u001b[0mget_topics\u001b[0m\u001b[1;33m(\u001b[0m\u001b[0mself\u001b[0m\u001b[1;33m)\u001b[0m\u001b[1;33m:\u001b[0m\u001b[1;33m\u001b[0m\u001b[1;33m\u001b[0m\u001b[0m\n",
      "\u001b[1;32m~\\Anaconda3\\lib\\site-packages\\gensim\\models\\ldamodel.py\u001b[0m in \u001b[0;36mget_topic_terms\u001b[1;34m(self, topicid, topn)\u001b[0m\n\u001b[0;32m   1222\u001b[0m \u001b[1;33m\u001b[0m\u001b[0m\n\u001b[0;32m   1223\u001b[0m         \"\"\"\n\u001b[1;32m-> 1224\u001b[1;33m         \u001b[0mtopic\u001b[0m \u001b[1;33m=\u001b[0m \u001b[0mself\u001b[0m\u001b[1;33m.\u001b[0m\u001b[0mget_topics\u001b[0m\u001b[1;33m(\u001b[0m\u001b[1;33m)\u001b[0m\u001b[1;33m[\u001b[0m\u001b[0mtopicid\u001b[0m\u001b[1;33m]\u001b[0m\u001b[1;33m\u001b[0m\u001b[1;33m\u001b[0m\u001b[0m\n\u001b[0m\u001b[0;32m   1225\u001b[0m         \u001b[0mtopic\u001b[0m \u001b[1;33m=\u001b[0m \u001b[0mtopic\u001b[0m \u001b[1;33m/\u001b[0m \u001b[0mtopic\u001b[0m\u001b[1;33m.\u001b[0m\u001b[0msum\u001b[0m\u001b[1;33m(\u001b[0m\u001b[1;33m)\u001b[0m  \u001b[1;31m# normalize to probability distribution\u001b[0m\u001b[1;33m\u001b[0m\u001b[1;33m\u001b[0m\u001b[0m\n\u001b[0;32m   1226\u001b[0m         \u001b[0mbestn\u001b[0m \u001b[1;33m=\u001b[0m \u001b[0mmatutils\u001b[0m\u001b[1;33m.\u001b[0m\u001b[0margsort\u001b[0m\u001b[1;33m(\u001b[0m\u001b[0mtopic\u001b[0m\u001b[1;33m,\u001b[0m \u001b[0mtopn\u001b[0m\u001b[1;33m,\u001b[0m \u001b[0mreverse\u001b[0m\u001b[1;33m=\u001b[0m\u001b[1;32mTrue\u001b[0m\u001b[1;33m)\u001b[0m\u001b[1;33m\u001b[0m\u001b[1;33m\u001b[0m\u001b[0m\n",
      "\u001b[1;31mIndexError\u001b[0m: only integers, slices (`:`), ellipsis (`...`), numpy.newaxis (`None`) and integer or boolean arrays are valid indices"
     ]
    }
   ],
   "source": [
    " for index, score in sorted(lda_model[df['bow_corpus']]):\n",
    "        print(\"Score: {}\\t Topic: {}\".format(score, lda_model.print_topic(index, 30)))"
   ]
  },
  {
   "cell_type": "code",
   "execution_count": null,
   "metadata": {},
   "outputs": [],
   "source": []
  }
 ],
 "metadata": {
  "kernelspec": {
   "display_name": "Python 3",
   "language": "python",
   "name": "python3"
  },
  "language_info": {
   "codemirror_mode": {
    "name": "ipython",
    "version": 3
   },
   "file_extension": ".py",
   "mimetype": "text/x-python",
   "name": "python",
   "nbconvert_exporter": "python",
   "pygments_lexer": "ipython3",
   "version": "3.7.4"
  }
 },
 "nbformat": 4,
 "nbformat_minor": 2
}
