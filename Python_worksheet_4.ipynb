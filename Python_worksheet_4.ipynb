{
 "cells": [
  {
   "cell_type": "markdown",
   "metadata": {},
   "source": [
    "1. B\n",
    "2. C\n",
    "3. B\n",
    "4. D\n",
    "5. C\n",
    "6. C\n",
    "7. D\n",
    "8. A\n",
    "9. A\n",
    "10. A,B,C"
   ]
  },
  {
   "cell_type": "markdown",
   "metadata": {},
   "source": [
    "11.\n",
    "Interpreter:\n",
    "    Interpreter translates just one statement of the program at a time into machine code.\n",
    "    An interpreter takes very less time to analyze the source code. However, the overall time to execute the process is much slower.\n",
    "\n",
    "Compiler:\n",
    "    Compiler scans the entire program and translates the whole of it into machine code at once.\n",
    "    A compiler takes a lot of time to analyze the source code. However, the overall time taken to execute the process is much faster.\n",
    "\n",
    "Interpreter is used in python language."
   ]
  },
  {
   "cell_type": "markdown",
   "metadata": {},
   "source": [
    "12. PYTHONPATH is an environment variable which you can set to add additional directories where python will look for modules and packages. "
   ]
  },
  {
   "cell_type": "code",
   "execution_count": 20,
   "metadata": {},
   "outputs": [
    {
     "name": "stdout",
     "output_type": "stream",
     "text": [
      "Data Science is interesting\n"
     ]
    }
   ],
   "source": [
    "13. # Removing leading and trailing spaces in python\n",
    "string = \"   Data Science is interesting\"\n",
    "print(string.lstrip())"
   ]
  },
  {
   "cell_type": "code",
   "execution_count": 21,
   "metadata": {},
   "outputs": [
    {
     "data": {
      "text/plain": [
       "'Data Science'"
      ]
     },
     "execution_count": 21,
     "metadata": {},
     "output_type": "execute_result"
    }
   ],
   "source": [
    "sentence = '       Data Science        '\n",
    "sentence.strip()"
   ]
  },
  {
   "cell_type": "code",
   "execution_count": 23,
   "metadata": {},
   "outputs": [
    {
     "data": {
      "text/plain": [
       "'Data'"
      ]
     },
     "execution_count": 23,
     "metadata": {},
     "output_type": "execute_result"
    }
   ],
   "source": [
    "a = \"      Data     \"\n",
    "b = a.strip() \n",
    "b"
   ]
  },
  {
   "cell_type": "markdown",
   "metadata": {},
   "source": [
    "15.\n"
   ]
  },
  {
   "cell_type": "code",
   "execution_count": 24,
   "metadata": {},
   "outputs": [
    {
     "name": "stdout",
     "output_type": "stream",
     "text": [
      "Enter any number: 153\n",
      "The number is an armstrong number. \n"
     ]
    }
   ],
   "source": [
    "n=int(input(\"Enter any number: \"))\n",
    "a=list(map(int,str(n)))\n",
    "b=list(map(lambda x:x**3,a))\n",
    "if(sum(b)==n):\n",
    "    print(\"The number is an armstrong number. \")\n",
    "else:\n",
    "    print(\"The number isn't an arsmtrong number. \")"
   ]
  },
  {
   "cell_type": "code",
   "execution_count": null,
   "metadata": {},
   "outputs": [],
   "source": []
  }
 ],
 "metadata": {
  "kernelspec": {
   "display_name": "Python 3",
   "language": "python",
   "name": "python3"
  },
  "language_info": {
   "codemirror_mode": {
    "name": "ipython",
    "version": 3
   },
   "file_extension": ".py",
   "mimetype": "text/x-python",
   "name": "python",
   "nbconvert_exporter": "python",
   "pygments_lexer": "ipython3",
   "version": "3.7.4"
  }
 },
 "nbformat": 4,
 "nbformat_minor": 2
}
